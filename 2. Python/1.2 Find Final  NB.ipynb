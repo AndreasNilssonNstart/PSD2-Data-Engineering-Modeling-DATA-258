{
 "cells": [
  {
   "cell_type": "markdown",
   "metadata": {},
   "source": [
    "## This Notebook will aim to Optimize linear Models\n",
    "\n",
    "I have a lot of different automatic results in the previous notebook so just manually take most optimal features and reduce from there\n",
    "\n",
    "\n",
    "\n",
    "## Start with Naive Bayes\n",
    "\n",
    "\n",
    "'avg3Months_Loan', 'avg3Months_DebtCollection', 'avg6Months_Loan', 'avg6Months_Gambling', 'avg_Gambling', 'avg_Salary', 'avg3Months_Deposit', 'avg3Months_Gambling','avg_Loan', 'avg_HousingCost', 'avg3Months_CashWithdrawal' ,'avg6Months_DirectDebit', 'avg_Gaming', 'avg3Months_Gaming', 'avg_CashWithdrawal', 'avg_OtherIncome', 'avg6Months_CashWithdrawal', 'avg6Months_InstallmentPayment', 'avg_DirectDebit', 'avg6Months_HousingCost', 'avg6Months_Gaming', 'avg3Months_DirectDebit'\n",
    "'count_Loan', 'trend_DebtCollection', 'sum_Loan', 'trend_Deposit', 'sum_Gambling', 'count_Gambling', 'sum_Salary', 'trend_CashWithdrawal', 'sum_DirectDebit',\n",
    "\n",
    "'sum installmentPayments', 'trend_Loan', 'Gambling_sum9Months', 'MoneyRemittance_monthlyAvg','trend_Salary', 'MoneyRemittance_partOfSalary9Months', 'Gambling_sum12Months', 'trend_MoneyRemittance', 'Crypto_count3Months', 'trend_OtherIncome', 'trend_PassiveIncome', 'Gambling_count9Months', 'Gambling_partOfSalary3Months', 'MoneyRemittance_category',\n",
    "\n",
    "'DebtCollection_count9Months', 'CashWithdrawal_sum3Months'\n",
    "\n",
    "'DebtCollection_sum3Months', 'DebtCollection_sum9Months', 'InstallmentPayment_count12Months', 'DebtCollection_partOfSalary12Months', 'DebtCollection_sum12Months', 'InstallmentPayment_count9Months',\n",
    "\n"
   ]
  },
  {
   "cell_type": "code",
   "execution_count": 1,
   "metadata": {},
   "outputs": [],
   "source": [
    "import pandas as pd\n",
    "import numpy as np\n",
    "import datetime as dt\n",
    "import os\n",
    "import sqlalchemy as sa\n",
    "import pyodbc\n",
    "import warnings\n",
    "import urllib\n",
    "warnings.filterwarnings('ignore')\n",
    "\n",
    "path = \"./Classes\"\n",
    "os.chdir(path)\n",
    "\n",
    "from HYPERTUNNER import ModelOptimizer\n",
    "from DATAPREPROCESSOR import DataPreprocessor\n",
    "from MODEL_FEATURE_EVALUATOR import ModelEvaluator ,FeatureImportance\n",
    "\n",
    "\n",
    "iterations = 200\n",
    "\n"
   ]
  },
  {
   "cell_type": "code",
   "execution_count": 2,
   "metadata": {},
   "outputs": [],
   "source": [
    "\n",
    "################### GET PAYMENT DATA ##########################\n",
    "\n",
    "path = \"../../1. Data/Cleaned Transaction Data\"\n",
    "os.chdir(path)\n",
    "\n",
    "\n",
    "df = pd.read_excel('PreeProcessed_Psd2.xlsx')\n"
   ]
  },
  {
   "cell_type": "code",
   "execution_count": 3,
   "metadata": {},
   "outputs": [
    {
     "data": {
      "text/html": [
       "<div>\n",
       "<style scoped>\n",
       "    .dataframe tbody tr th:only-of-type {\n",
       "        vertical-align: middle;\n",
       "    }\n",
       "\n",
       "    .dataframe tbody tr th {\n",
       "        vertical-align: top;\n",
       "    }\n",
       "\n",
       "    .dataframe thead th {\n",
       "        text-align: right;\n",
       "    }\n",
       "</style>\n",
       "<table border=\"1\" class=\"dataframe\">\n",
       "  <thead>\n",
       "    <tr style=\"text-align: right;\">\n",
       "      <th></th>\n",
       "      <th>ReceivedDate</th>\n",
       "      <th>ApplicationID</th>\n",
       "      <th>AccountNumber</th>\n",
       "      <th>SSN</th>\n",
       "      <th>DisbursedDate</th>\n",
       "      <th>Amount</th>\n",
       "      <th>IsMainApplicant</th>\n",
       "      <th>ApplicantNo</th>\n",
       "      <th>HasCoapp</th>\n",
       "      <th>Ever90</th>\n",
       "      <th>...</th>\n",
       "      <th>Unclassified_partOfSalary9Months</th>\n",
       "      <th>Unclassified_sum12Months</th>\n",
       "      <th>Unclassified_sum3Months</th>\n",
       "      <th>Unclassified_sum6Months</th>\n",
       "      <th>Unclassified_sum9Months</th>\n",
       "      <th>sum creditors</th>\n",
       "      <th>sum debtCollectors</th>\n",
       "      <th>count creditors</th>\n",
       "      <th>count debtCollectors</th>\n",
       "      <th>_merge</th>\n",
       "    </tr>\n",
       "  </thead>\n",
       "  <tbody>\n",
       "    <tr>\n",
       "      <th>0</th>\n",
       "      <td>2022-03-08</td>\n",
       "      <td>8205045</td>\n",
       "      <td>0</td>\n",
       "      <td>7711025523</td>\n",
       "      <td>2022-03-10</td>\n",
       "      <td>250000</td>\n",
       "      <td>1</td>\n",
       "      <td>1</td>\n",
       "      <td>0</td>\n",
       "      <td>1</td>\n",
       "      <td>...</td>\n",
       "      <td>50227.0</td>\n",
       "      <td>224.1</td>\n",
       "      <td>248.5</td>\n",
       "      <td>247.0</td>\n",
       "      <td>258.4</td>\n",
       "      <td>630444</td>\n",
       "      <td>81995</td>\n",
       "      <td>288551</td>\n",
       "      <td>519248</td>\n",
       "      <td>0</td>\n",
       "    </tr>\n",
       "    <tr>\n",
       "      <th>1</th>\n",
       "      <td>2022-04-07</td>\n",
       "      <td>8228347</td>\n",
       "      <td>0</td>\n",
       "      <td>9804048719</td>\n",
       "      <td>2022-04-22</td>\n",
       "      <td>400000</td>\n",
       "      <td>1</td>\n",
       "      <td>1</td>\n",
       "      <td>1</td>\n",
       "      <td>1</td>\n",
       "      <td>...</td>\n",
       "      <td>763.7</td>\n",
       "      <td>1333.3</td>\n",
       "      <td>1553.4</td>\n",
       "      <td>2678645.0</td>\n",
       "      <td>241491.0</td>\n",
       "      <td>1655157</td>\n",
       "      <td>2249127</td>\n",
       "      <td>0</td>\n",
       "      <td>0</td>\n",
       "      <td>0</td>\n",
       "    </tr>\n",
       "    <tr>\n",
       "      <th>2</th>\n",
       "      <td>2022-04-08</td>\n",
       "      <td>8229075</td>\n",
       "      <td>0</td>\n",
       "      <td>6501225061</td>\n",
       "      <td>2022-04-12</td>\n",
       "      <td>240000</td>\n",
       "      <td>1</td>\n",
       "      <td>1</td>\n",
       "      <td>0</td>\n",
       "      <td>1</td>\n",
       "      <td>...</td>\n",
       "      <td>85589.0</td>\n",
       "      <td>322.8</td>\n",
       "      <td>415.5</td>\n",
       "      <td>320.5</td>\n",
       "      <td>331.8</td>\n",
       "      <td>882268</td>\n",
       "      <td>279047</td>\n",
       "      <td>442904</td>\n",
       "      <td>685525</td>\n",
       "      <td>0</td>\n",
       "    </tr>\n",
       "    <tr>\n",
       "      <th>3</th>\n",
       "      <td>2022-04-11</td>\n",
       "      <td>8230481</td>\n",
       "      <td>0</td>\n",
       "      <td>9606236371</td>\n",
       "      <td>2022-04-13</td>\n",
       "      <td>295000</td>\n",
       "      <td>1</td>\n",
       "      <td>1</td>\n",
       "      <td>0</td>\n",
       "      <td>1</td>\n",
       "      <td>...</td>\n",
       "      <td>268.0</td>\n",
       "      <td>476.0</td>\n",
       "      <td>439.5</td>\n",
       "      <td>883993.0</td>\n",
       "      <td>100348.0</td>\n",
       "      <td>452428</td>\n",
       "      <td>627919</td>\n",
       "      <td>0</td>\n",
       "      <td>0</td>\n",
       "      <td>0</td>\n",
       "    </tr>\n",
       "    <tr>\n",
       "      <th>4</th>\n",
       "      <td>2022-04-15</td>\n",
       "      <td>8233936</td>\n",
       "      <td>0</td>\n",
       "      <td>8602147608</td>\n",
       "      <td>2022-06-08</td>\n",
       "      <td>270000</td>\n",
       "      <td>1</td>\n",
       "      <td>1</td>\n",
       "      <td>0</td>\n",
       "      <td>1</td>\n",
       "      <td>...</td>\n",
       "      <td>379.3</td>\n",
       "      <td>1362741.0</td>\n",
       "      <td>251386.0</td>\n",
       "      <td>547363.0</td>\n",
       "      <td>971946.0</td>\n",
       "      <td>0</td>\n",
       "      <td>0</td>\n",
       "      <td>0</td>\n",
       "      <td>0</td>\n",
       "      <td>0</td>\n",
       "    </tr>\n",
       "    <tr>\n",
       "      <th>...</th>\n",
       "      <td>...</td>\n",
       "      <td>...</td>\n",
       "      <td>...</td>\n",
       "      <td>...</td>\n",
       "      <td>...</td>\n",
       "      <td>...</td>\n",
       "      <td>...</td>\n",
       "      <td>...</td>\n",
       "      <td>...</td>\n",
       "      <td>...</td>\n",
       "      <td>...</td>\n",
       "      <td>...</td>\n",
       "      <td>...</td>\n",
       "      <td>...</td>\n",
       "      <td>...</td>\n",
       "      <td>...</td>\n",
       "      <td>...</td>\n",
       "      <td>...</td>\n",
       "      <td>...</td>\n",
       "      <td>...</td>\n",
       "      <td>...</td>\n",
       "    </tr>\n",
       "    <tr>\n",
       "      <th>3488</th>\n",
       "      <td>2023-04-28</td>\n",
       "      <td>8660675</td>\n",
       "      <td>0</td>\n",
       "      <td>8902289209</td>\n",
       "      <td>2023-05-31</td>\n",
       "      <td>271000</td>\n",
       "      <td>1</td>\n",
       "      <td>1</td>\n",
       "      <td>1</td>\n",
       "      <td>0</td>\n",
       "      <td>...</td>\n",
       "      <td>195.3</td>\n",
       "      <td>381102.0</td>\n",
       "      <td>84024.0</td>\n",
       "      <td>274075.0</td>\n",
       "      <td>312523.0</td>\n",
       "      <td>0</td>\n",
       "      <td>0</td>\n",
       "      <td>0</td>\n",
       "      <td>0</td>\n",
       "      <td>0</td>\n",
       "    </tr>\n",
       "    <tr>\n",
       "      <th>3489</th>\n",
       "      <td>2023-04-28</td>\n",
       "      <td>8660675</td>\n",
       "      <td>0</td>\n",
       "      <td>8903213695</td>\n",
       "      <td>2023-05-31</td>\n",
       "      <td>271000</td>\n",
       "      <td>0</td>\n",
       "      <td>2</td>\n",
       "      <td>1</td>\n",
       "      <td>0</td>\n",
       "      <td>...</td>\n",
       "      <td>121.2</td>\n",
       "      <td>348937.0</td>\n",
       "      <td>91087.0</td>\n",
       "      <td>215240.0</td>\n",
       "      <td>265065.0</td>\n",
       "      <td>0</td>\n",
       "      <td>0</td>\n",
       "      <td>0</td>\n",
       "      <td>0</td>\n",
       "      <td>0</td>\n",
       "    </tr>\n",
       "    <tr>\n",
       "      <th>3490</th>\n",
       "      <td>2023-04-28</td>\n",
       "      <td>8660600</td>\n",
       "      <td>0</td>\n",
       "      <td>8007075586</td>\n",
       "      <td>2023-05-08</td>\n",
       "      <td>350000</td>\n",
       "      <td>1</td>\n",
       "      <td>1</td>\n",
       "      <td>1</td>\n",
       "      <td>0</td>\n",
       "      <td>...</td>\n",
       "      <td>40754.0</td>\n",
       "      <td>165.3</td>\n",
       "      <td>135.9</td>\n",
       "      <td>130.5</td>\n",
       "      <td>145.1</td>\n",
       "      <td>509094</td>\n",
       "      <td>147353</td>\n",
       "      <td>245526</td>\n",
       "      <td>367844</td>\n",
       "      <td>0</td>\n",
       "    </tr>\n",
       "    <tr>\n",
       "      <th>3491</th>\n",
       "      <td>2023-04-28</td>\n",
       "      <td>8660600</td>\n",
       "      <td>0</td>\n",
       "      <td>8203014934</td>\n",
       "      <td>2023-05-08</td>\n",
       "      <td>350000</td>\n",
       "      <td>0</td>\n",
       "      <td>2</td>\n",
       "      <td>1</td>\n",
       "      <td>0</td>\n",
       "      <td>...</td>\n",
       "      <td>38839.0</td>\n",
       "      <td>96.0</td>\n",
       "      <td>76.7</td>\n",
       "      <td>72.3</td>\n",
       "      <td>92.7</td>\n",
       "      <td>487593</td>\n",
       "      <td>113811</td>\n",
       "      <td>198074</td>\n",
       "      <td>353883</td>\n",
       "      <td>0</td>\n",
       "    </tr>\n",
       "    <tr>\n",
       "      <th>3492</th>\n",
       "      <td>2023-04-30</td>\n",
       "      <td>8661965</td>\n",
       "      <td>0</td>\n",
       "      <td>9106092506</td>\n",
       "      <td>2023-05-09</td>\n",
       "      <td>210000</td>\n",
       "      <td>1</td>\n",
       "      <td>1</td>\n",
       "      <td>1</td>\n",
       "      <td>0</td>\n",
       "      <td>...</td>\n",
       "      <td>18829.0</td>\n",
       "      <td>133.1</td>\n",
       "      <td>161.4</td>\n",
       "      <td>128.7</td>\n",
       "      <td>121.5</td>\n",
       "      <td>241308</td>\n",
       "      <td>44420</td>\n",
       "      <td>106884</td>\n",
       "      <td>161468</td>\n",
       "      <td>0</td>\n",
       "    </tr>\n",
       "  </tbody>\n",
       "</table>\n",
       "<p>3493 rows × 280 columns</p>\n",
       "</div>"
      ],
      "text/plain": [
       "     ReceivedDate  ApplicationID  AccountNumber         SSN DisbursedDate  \\\n",
       "0      2022-03-08        8205045              0  7711025523    2022-03-10   \n",
       "1      2022-04-07        8228347              0  9804048719    2022-04-22   \n",
       "2      2022-04-08        8229075              0  6501225061    2022-04-12   \n",
       "3      2022-04-11        8230481              0  9606236371    2022-04-13   \n",
       "4      2022-04-15        8233936              0  8602147608    2022-06-08   \n",
       "...           ...            ...            ...         ...           ...   \n",
       "3488   2023-04-28        8660675              0  8902289209    2023-05-31   \n",
       "3489   2023-04-28        8660675              0  8903213695    2023-05-31   \n",
       "3490   2023-04-28        8660600              0  8007075586    2023-05-08   \n",
       "3491   2023-04-28        8660600              0  8203014934    2023-05-08   \n",
       "3492   2023-04-30        8661965              0  9106092506    2023-05-09   \n",
       "\n",
       "      Amount  IsMainApplicant  ApplicantNo  HasCoapp  Ever90  ...  \\\n",
       "0     250000                1            1         0       1  ...   \n",
       "1     400000                1            1         1       1  ...   \n",
       "2     240000                1            1         0       1  ...   \n",
       "3     295000                1            1         0       1  ...   \n",
       "4     270000                1            1         0       1  ...   \n",
       "...      ...              ...          ...       ...     ...  ...   \n",
       "3488  271000                1            1         1       0  ...   \n",
       "3489  271000                0            2         1       0  ...   \n",
       "3490  350000                1            1         1       0  ...   \n",
       "3491  350000                0            2         1       0  ...   \n",
       "3492  210000                1            1         1       0  ...   \n",
       "\n",
       "      Unclassified_partOfSalary9Months  Unclassified_sum12Months  \\\n",
       "0                              50227.0                     224.1   \n",
       "1                                763.7                    1333.3   \n",
       "2                              85589.0                     322.8   \n",
       "3                                268.0                     476.0   \n",
       "4                                379.3                 1362741.0   \n",
       "...                                ...                       ...   \n",
       "3488                             195.3                  381102.0   \n",
       "3489                             121.2                  348937.0   \n",
       "3490                           40754.0                     165.3   \n",
       "3491                           38839.0                      96.0   \n",
       "3492                           18829.0                     133.1   \n",
       "\n",
       "      Unclassified_sum3Months  Unclassified_sum6Months  \\\n",
       "0                       248.5                    247.0   \n",
       "1                      1553.4                2678645.0   \n",
       "2                       415.5                    320.5   \n",
       "3                       439.5                 883993.0   \n",
       "4                    251386.0                 547363.0   \n",
       "...                       ...                      ...   \n",
       "3488                  84024.0                 274075.0   \n",
       "3489                  91087.0                 215240.0   \n",
       "3490                    135.9                    130.5   \n",
       "3491                     76.7                     72.3   \n",
       "3492                    161.4                    128.7   \n",
       "\n",
       "      Unclassified_sum9Months  sum creditors  sum debtCollectors  \\\n",
       "0                       258.4         630444               81995   \n",
       "1                    241491.0        1655157             2249127   \n",
       "2                       331.8         882268              279047   \n",
       "3                    100348.0         452428              627919   \n",
       "4                    971946.0              0                   0   \n",
       "...                       ...            ...                 ...   \n",
       "3488                 312523.0              0                   0   \n",
       "3489                 265065.0              0                   0   \n",
       "3490                    145.1         509094              147353   \n",
       "3491                     92.7         487593              113811   \n",
       "3492                    121.5         241308               44420   \n",
       "\n",
       "      count creditors  count debtCollectors  _merge  \n",
       "0              288551                519248       0  \n",
       "1                   0                     0       0  \n",
       "2              442904                685525       0  \n",
       "3                   0                     0       0  \n",
       "4                   0                     0       0  \n",
       "...               ...                   ...     ...  \n",
       "3488                0                     0       0  \n",
       "3489                0                     0       0  \n",
       "3490           245526                367844       0  \n",
       "3491           198074                353883       0  \n",
       "3492           106884                161468       0  \n",
       "\n",
       "[3493 rows x 280 columns]"
      ]
     },
     "execution_count": 3,
     "metadata": {},
     "output_type": "execute_result"
    }
   ],
   "source": [
    "df"
   ]
  },
  {
   "cell_type": "code",
   "execution_count": 4,
   "metadata": {},
   "outputs": [],
   "source": [
    "# pd.set_option('display.max_columns', None)\n",
    "\n",
    "# git add .\n",
    "\n",
    "# git commit -m \"Finalised API Loop\"\n",
    "\n",
    "#  git status\n",
    "\n",
    "#  git push origin Andreas"
   ]
  },
  {
   "cell_type": "code",
   "execution_count": 5,
   "metadata": {},
   "outputs": [],
   "source": [
    "df = df.drop(columns=['ReceivedDate','AccountNumber','ApplicationID','SSN','DisbursedDate','Amount','IsMainApplicant','ApplicantNo','NR','_merge'])\n",
    "\n",
    "base = df.drop(columns=['HasCoapp'])\n",
    "\n",
    "\n"
   ]
  },
  {
   "cell_type": "code",
   "execution_count": 6,
   "metadata": {},
   "outputs": [],
   "source": [
    "features_list_NB = [ 'Ever90',\n",
    "    'avg3Months_Loan', 'avg3Months_DebtCollection', 'avg6Months_Loan', 'avg6Months_Gambling', 'avg_Gambling', 'avg_Salary',\n",
    "    'avg3Months_Deposit', 'avg3Months_Gambling', 'avg_Loan', 'avg_HousingCost', 'avg3Months_CashWithdrawal', 'avg6Months_DirectDebit',\n",
    "    'avg_Gaming', 'avg3Months_Gaming', 'avg_CashWithdrawal', 'avg_OtherIncome', 'avg6Months_CashWithdrawal', 'avg6Months_InstallmentPayment',\n",
    "    'avg_DirectDebit', 'avg6Months_HousingCost', 'avg6Months_Gaming', 'avg3Months_DirectDebit',\n",
    "    'count_Loan', 'trend_DebtCollection', 'sum_Loan', 'trend_Deposit', 'sum_Gambling', 'count_Gambling',\n",
    "    'sum_Salary', 'trend_CashWithdrawal', 'sum_DirectDebit',\n",
    "    'trend_Loan', 'Gambling_sum9Months', 'MoneyRemittance_monthlyAvg', 'trend_Salary',\n",
    "    'MoneyRemittance_partOfSalary9Months', 'Gambling_sum12Months', 'trend_MoneyRemittance', 'Crypto_count3Months',\n",
    "    'trend_OtherIncome', 'trend_PassiveIncome', 'Gambling_count9Months', 'Gambling_partOfSalary3Months',\n",
    "    'MoneyRemittance_category', 'DebtCollection_count9Months', 'CashWithdrawal_sum3Months',\n",
    "    'DebtCollection_sum3Months', 'DebtCollection_sum9Months', 'InstallmentPayment_count12Months',\n",
    "    'DebtCollection_partOfSalary12Months', 'DebtCollection_sum12Months', 'InstallmentPayment_count9Months'\n",
    "]"
   ]
  },
  {
   "cell_type": "code",
   "execution_count": 7,
   "metadata": {},
   "outputs": [
    {
     "name": "stderr",
     "output_type": "stream",
     "text": [
      "[I 2024-05-27 11:57:03,542] A new study created in memory with name: no-name-4cf7c2b4-1e50-41e9-b693-0e365d58dc7f\n",
      "[I 2024-05-27 11:57:03,543] A new study created in memory with name: no-name-94bc75c5-4f9b-46dd-8bcb-627c2969e8c2\n",
      "[I 2024-05-27 11:57:03,543] A new study created in memory with name: no-name-ddca3e0e-d459-4fa5-9a53-657795d2eab3\n",
      "[I 2024-05-27 11:57:03,544] A new study created in memory with name: no-name-0dd9d705-030c-4cbd-b8e3-713949f12950\n"
     ]
    },
    {
     "name": "stdout",
     "output_type": "stream",
     "text": [
      "Binary Split: Ever90\n",
      "0    3170\n",
      "1     323\n",
      "Name: count, dtype: int64\n"
     ]
    },
    {
     "name": "stderr",
     "output_type": "stream",
     "text": [
      "[I 2024-05-27 11:57:04,107] Trial 0 finished with value: -0.07748859526830272 and parameters: {'nb_type': 'gaussian'}. Best is trial 0 with value: -0.07748859526830272.\n",
      "[I 2024-05-27 11:57:04,500] Trial 1 finished with value: 0.1362757862712276 and parameters: {'nb_type': 'bernoulli', 'alpha': 0.04728615119957254, 'binarize': 0.2611656277346308}. Best is trial 1 with value: 0.1362757862712276.\n",
      "[I 2024-05-27 11:57:04,657] Trial 2 finished with value: 0.22454430117174864 and parameters: {'nb_type': 'bernoulli', 'alpha': 0.18935184099043073, 'binarize': 0.014456917943183102}. Best is trial 2 with value: 0.22454430117174864.\n",
      "[I 2024-05-27 11:57:04,699] Trial 0 finished with value: 0.17575258365211913 and parameters: {'C': 0.46700931169318016, 'solver': 'lbfgs'}. Best is trial 0 with value: 0.17575258365211913.\n",
      "[I 2024-05-27 11:57:04,722] Trial 3 finished with value: 0.10738684110237966 and parameters: {'nb_type': 'bernoulli', 'alpha': 0.011457337804416793, 'binarize': 0.39960229243793927}. Best is trial 2 with value: 0.22454430117174864.\n",
      "[I 2024-05-27 11:57:04,774] Trial 4 finished with value: 0.10651094806002985 and parameters: {'nb_type': 'bernoulli', 'alpha': 0.07252562726874949, 'binarize': 0.4287230751267099}. Best is trial 2 with value: 0.22454430117174864.\n",
      "[I 2024-05-27 11:57:04,780] Trial 1 finished with value: 0.20246372756640643 and parameters: {'C': 0.016665518119644326, 'solver': 'liblinear', 'penalty_liblinear': 'l2'}. Best is trial 1 with value: 0.20246372756640643.\n",
      "[I 2024-05-27 11:57:04,815] Trial 5 finished with value: -0.0648555213051805 and parameters: {'nb_type': 'gaussian'}. Best is trial 2 with value: 0.22454430117174864.\n",
      "[I 2024-05-27 11:57:04,846] Trial 2 finished with value: 0.0 and parameters: {'C': 0.001864109894455211, 'solver': 'saga', 'penalty_saga': 'elasticnet', 'l1_ratio': 0.48305177153922907}. Best is trial 1 with value: 0.20246372756640643.\n",
      "[I 2024-05-27 11:57:04,864] Trial 6 finished with value: -0.08022052095946071 and parameters: {'nb_type': 'gaussian'}. Best is trial 2 with value: 0.22454430117174864.\n",
      "[I 2024-05-27 11:57:04,898] Trial 7 finished with value: -0.08131306772408671 and parameters: {'nb_type': 'gaussian'}. Best is trial 2 with value: 0.22454430117174864.\n",
      "[I 2024-05-27 11:57:04,908] Trial 0 finished with value: 0.26364220578847425 and parameters: {'n_estimators': 25, 'max_depth': 12, 'min_samples_split': 8, 'min_samples_leaf': 4}. Best is trial 0 with value: 0.26364220578847425.\n",
      "[I 2024-05-27 11:57:04,943] Trial 8 finished with value: 0.12402976566633057 and parameters: {'nb_type': 'bernoulli', 'alpha': 0.11449948245986594, 'binarize': 0.4197211902256209}. Best is trial 2 with value: 0.22454430117174864.\n",
      "[I 2024-05-27 11:57:04,972] Trial 9 finished with value: -0.07956567951618532 and parameters: {'nb_type': 'gaussian'}. Best is trial 2 with value: 0.22454430117174864.\n",
      "[I 2024-05-27 11:57:05,008] Trial 10 finished with value: 0.22609533664259499 and parameters: {'nb_type': 'bernoulli', 'alpha': 0.9296085723487499, 'binarize': 0.001990665448191229}. Best is trial 10 with value: 0.22609533664259499.\n",
      "[I 2024-05-27 11:57:05,049] Trial 11 finished with value: 0.21383764196619656 and parameters: {'nb_type': 'bernoulli', 'alpha': 0.9668735816464793, 'binarize': 0.001689761263236931}. Best is trial 10 with value: 0.22609533664259499.\n",
      "[I 2024-05-27 11:57:05,088] Trial 12 finished with value: 0.21310925065646558 and parameters: {'nb_type': 'bernoulli', 'alpha': 0.9949187942222785, 'binarize': 0.0029168449980039824}. Best is trial 10 with value: 0.22609533664259499.\n",
      "[I 2024-05-27 11:57:05,123] Trial 13 finished with value: 0.22206410769732954 and parameters: {'nb_type': 'bernoulli', 'alpha': 0.2537164687411751, 'binarize': 0.01640236055145958}. Best is trial 10 with value: 0.22609533664259499.\n",
      "[I 2024-05-27 11:57:05,171] Trial 14 finished with value: 0.21541401949859376 and parameters: {'nb_type': 'bernoulli', 'alpha': 0.0010815942635903392, 'binarize': 0.014119409073494679}. Best is trial 10 with value: 0.22609533664259499.\n",
      "[I 2024-05-27 11:57:05,221] Trial 15 finished with value: 0.2228099699143419 and parameters: {'nb_type': 'bernoulli', 'alpha': 0.30707372102017977, 'binarize': 0.006420695382633087}. Best is trial 10 with value: 0.22609533664259499.\n",
      "[I 2024-05-27 11:57:05,261] Trial 16 finished with value: 0.2025324453963797 and parameters: {'nb_type': 'bernoulli', 'alpha': 0.011916788975869608, 'binarize': 0.06650386875672258}. Best is trial 10 with value: 0.22609533664259499.\n",
      "[I 2024-05-27 11:57:05,610] Trial 1 finished with value: 0.2585898573865841 and parameters: {'n_estimators': 31, 'max_depth': 11, 'min_samples_split': 4, 'min_samples_leaf': 2}. Best is trial 0 with value: 0.26364220578847425.\n",
      "[I 2024-05-27 11:57:05,938] Trial 0 finished with value: 0.21299689173826283 and parameters: {'n_estimators': 26, 'max_depth': 12, 'learning_rate': 0.14725983567739195}. Best is trial 0 with value: 0.21299689173826283.\n",
      "[I 2024-05-27 11:57:06,222] Trial 2 finished with value: 0.25464871657573435 and parameters: {'n_estimators': 30, 'max_depth': 11, 'min_samples_split': 7, 'min_samples_leaf': 1}. Best is trial 0 with value: 0.26364220578847425.\n",
      "[I 2024-05-27 11:57:06,503] Trial 1 finished with value: 0.25030428161848306 and parameters: {'n_estimators': 25, 'max_depth': 6, 'learning_rate': 0.16935222024718577}. Best is trial 1 with value: 0.25030428161848306.\n",
      "[I 2024-05-27 11:57:06,885] Trial 3 finished with value: 0.290567462786887 and parameters: {'n_estimators': 35, 'max_depth': 10, 'min_samples_split': 7, 'min_samples_leaf': 4}. Best is trial 3 with value: 0.290567462786887.\n",
      "[I 2024-05-27 11:57:07,171] Trial 4 finished with value: 0.2614253462423479 and parameters: {'n_estimators': 30, 'max_depth': 3, 'min_samples_split': 6, 'min_samples_leaf': 2}. Best is trial 3 with value: 0.290567462786887.\n",
      "[I 2024-05-27 11:57:07,458] Trial 5 finished with value: 0.25908522554595587 and parameters: {'n_estimators': 33, 'max_depth': 3, 'min_samples_split': 7, 'min_samples_leaf': 4}. Best is trial 3 with value: 0.290567462786887.\n",
      "[I 2024-05-27 11:57:07,802] Trial 6 finished with value: 0.2883154925863214 and parameters: {'n_estimators': 27, 'max_depth': 5, 'min_samples_split': 7, 'min_samples_leaf': 4}. Best is trial 3 with value: 0.290567462786887.\n",
      "[I 2024-05-27 11:57:08,153] Trial 7 finished with value: 0.2703934129935954 and parameters: {'n_estimators': 34, 'max_depth': 4, 'min_samples_split': 8, 'min_samples_leaf': 2}. Best is trial 3 with value: 0.290567462786887.\n",
      "[I 2024-05-27 11:57:08,373] Trial 2 finished with value: 0.17579878949848116 and parameters: {'n_estimators': 37, 'max_depth': 13, 'learning_rate': 0.030304835137220244}. Best is trial 1 with value: 0.25030428161848306.\n",
      "[I 2024-05-27 11:57:08,821] Trial 8 finished with value: 0.2820060267796127 and parameters: {'n_estimators': 26, 'max_depth': 7, 'min_samples_split': 7, 'min_samples_leaf': 4}. Best is trial 3 with value: 0.290567462786887.\n",
      "[I 2024-05-27 11:57:09,593] Trial 9 finished with value: 0.2647964675481716 and parameters: {'n_estimators': 40, 'max_depth': 8, 'min_samples_split': 6, 'min_samples_leaf': 2}. Best is trial 3 with value: 0.290567462786887.\n",
      "[I 2024-05-27 11:57:09,668] Trial 3 finished with value: 0.2037277111262262 and parameters: {'n_estimators': 30, 'max_depth': 6, 'learning_rate': 0.14954776259764893}. Best is trial 1 with value: 0.25030428161848306.\n",
      "[I 2024-05-27 11:57:09,990] Trial 10 finished with value: 0.26382288857693714 and parameters: {'n_estimators': 21, 'max_depth': 9, 'min_samples_split': 2, 'min_samples_leaf': 3}. Best is trial 3 with value: 0.290567462786887.\n",
      "[I 2024-05-27 11:57:10,488] Trial 11 finished with value: 0.2846298467094716 and parameters: {'n_estimators': 38, 'max_depth': 5, 'min_samples_split': 4, 'min_samples_leaf': 3}. Best is trial 3 with value: 0.290567462786887.\n",
      "[I 2024-05-27 11:57:11,041] Trial 4 finished with value: 0.18482206688953529 and parameters: {'n_estimators': 37, 'max_depth': 10, 'learning_rate': 0.0199684097463011}. Best is trial 1 with value: 0.25030428161848306.\n",
      "[I 2024-05-27 11:57:11,929] Trial 5 finished with value: 0.22949688128627047 and parameters: {'n_estimators': 40, 'max_depth': 8, 'learning_rate': 0.04838096796669822}. Best is trial 1 with value: 0.25030428161848306.\n",
      "[I 2024-05-27 11:57:12,194] Trial 6 finished with value: 0.27183580402353485 and parameters: {'n_estimators': 35, 'max_depth': 3, 'learning_rate': 0.08495855178375976}. Best is trial 6 with value: 0.27183580402353485.\n",
      "[I 2024-05-27 11:57:12,951] Trial 7 finished with value: 0.23111070911140397 and parameters: {'n_estimators': 37, 'max_depth': 8, 'learning_rate': 0.06392679256146876}. Best is trial 6 with value: 0.27183580402353485.\n",
      "[I 2024-05-27 11:57:13,176] Trial 8 finished with value: 0.2652215420387174 and parameters: {'n_estimators': 34, 'max_depth': 3, 'learning_rate': 0.0382361965379333}. Best is trial 6 with value: 0.27183580402353485.\n",
      "[I 2024-05-27 11:57:14,642] Trial 9 finished with value: 0.16101474374126665 and parameters: {'n_estimators': 37, 'max_depth': 11, 'learning_rate': 0.02007007738787089}. Best is trial 6 with value: 0.27183580402353485.\n",
      "[I 2024-05-27 11:57:14,828] Trial 10 finished with value: 0.27698380423579055 and parameters: {'n_estimators': 20, 'max_depth': 3, 'learning_rate': 0.08302186170274552}. Best is trial 10 with value: 0.27698380423579055.\n",
      "[I 2024-05-27 11:57:15,023] Trial 11 finished with value: 0.2524194593586335 and parameters: {'n_estimators': 22, 'max_depth': 3, 'learning_rate': 0.08597030306145087}. Best is trial 10 with value: 0.27698380423579055.\n",
      "[I 2024-05-27 11:57:15,379] Trial 12 finished with value: 0.2065847712862865 and parameters: {'n_estimators': 30, 'max_depth': 5, 'learning_rate': 0.2955898927890856}. Best is trial 10 with value: 0.27698380423579055.\n",
      "[I 2024-05-27 11:57:15,562] Trial 13 finished with value: 0.1864828643604747 and parameters: {'n_estimators': 20, 'max_depth': 4, 'learning_rate': 0.01069390247979348}. Best is trial 10 with value: 0.27698380423579055.\n",
      "[I 2024-05-27 11:57:15,928] Trial 14 finished with value: 0.23410924100847255 and parameters: {'n_estimators': 32, 'max_depth': 6, 'learning_rate': 0.09060417296754968}. Best is trial 10 with value: 0.27698380423579055.\n",
      "[I 2024-05-27 11:57:16,086] Trial 15 finished with value: 0.26745104045564244 and parameters: {'n_estimators': 27, 'max_depth': 3, 'learning_rate': 0.09251579805004004}. Best is trial 10 with value: 0.27698380423579055.\n",
      "[I 2024-05-27 11:57:16,377] Trial 16 finished with value: 0.2138507551966502 and parameters: {'n_estimators': 33, 'max_depth': 5, 'learning_rate': 0.2583629705473897}. Best is trial 10 with value: 0.27698380423579055.\n",
      "[I 2024-05-27 11:57:16,956] Trial 3 finished with value: 0.17092313604795692 and parameters: {'C': 28.72898714452438, 'solver': 'sag'}. Best is trial 1 with value: 0.20246372756640643.\n",
      "[I 2024-05-27 11:57:17,181] Trial 17 finished with value: 0.21155704938646802 and parameters: {'n_estimators': 23, 'max_depth': 14, 'learning_rate': 0.0558005183790937}. Best is trial 10 with value: 0.27698380423579055.\n",
      "[I 2024-05-27 11:57:17,307] Trial 4 finished with value: 0.22448803729270886 and parameters: {'C': 0.007046802196369346, 'solver': 'saga', 'penalty_saga': 'elasticnet', 'l1_ratio': 0.1225756539077062}. Best is trial 4 with value: 0.22448803729270886.\n",
      "[I 2024-05-27 11:57:18,023] Trial 18 finished with value: 0.21577617299494603 and parameters: {'n_estimators': 29, 'max_depth': 9, 'learning_rate': 0.1181388155728953}. Best is trial 10 with value: 0.27698380423579055.\n",
      "[I 2024-05-27 11:57:28,306] Trial 5 finished with value: 0.1639210729854589 and parameters: {'C': 0.1536546346440934, 'solver': 'sag'}. Best is trial 4 with value: 0.22448803729270886.\n",
      "[I 2024-05-27 11:57:28,373] Trial 6 finished with value: 0.0 and parameters: {'C': 0.00110592134910144, 'solver': 'liblinear', 'penalty_liblinear': 'l1'}. Best is trial 4 with value: 0.22448803729270886.\n",
      "[I 2024-05-27 11:57:28,541] Trial 7 finished with value: 0.18544027811947758 and parameters: {'C': 9.90050817908662, 'solver': 'liblinear', 'penalty_liblinear': 'l2'}. Best is trial 4 with value: 0.22448803729270886.\n",
      "[I 2024-05-27 11:57:39,610] Trial 8 finished with value: 0.17565399724389005 and parameters: {'C': 0.01003894920990783, 'solver': 'sag'}. Best is trial 4 with value: 0.22448803729270886.\n",
      "[I 2024-05-27 11:57:39,773] Trial 9 finished with value: 0.17240133721182657 and parameters: {'C': 14.025675778486663, 'solver': 'liblinear', 'penalty_liblinear': 'l2'}. Best is trial 4 with value: 0.22448803729270886.\n",
      "[I 2024-05-27 11:57:44,451] Trial 10 finished with value: 0.19431971197524978 and parameters: {'C': 0.2533051609856444, 'solver': 'saga', 'penalty_saga': 'elasticnet', 'l1_ratio': 0.0974031725939658}. Best is trial 4 with value: 0.22448803729270886.\n",
      "[I 2024-05-27 11:57:45,042] Trial 11 finished with value: 0.19078042615184976 and parameters: {'C': 0.0177795174284558, 'solver': 'saga', 'penalty_saga': 'l2'}. Best is trial 4 with value: 0.22448803729270886.\n"
     ]
    },
    {
     "name": "stdout",
     "output_type": "stream",
     "text": [
      "Best parameters: {'naive_bayes': {'alpha': 0.9296085723487499, 'binarize': 0.001990665448191229}, 'xgboost': {'n_estimators': 20, 'max_depth': 3, 'learning_rate': 0.08302186170274552}, 'random_forest': {'n_estimators': 35, 'max_depth': 10, 'min_samples_split': 7, 'min_samples_leaf': 4}, 'logistic_regression': {'C': 0.007046802196369346, 'solver': 'saga', 'penalty_saga': 'elasticnet', 'l1_ratio': 0.1225756539077062}}\n"
     ]
    },
    {
     "data": {
      "image/png": "[encoded data removed]",
      "text/plain": [
       "<Figure size 1000x800 with 4 Axes>"
      ]
     },
     "metadata": {},
     "output_type": "display_data"
    },
    {
     "name": "stdout",
     "output_type": "stream",
     "text": [
      "Available steps in pipeline: {'upsample': SMOTE(), 'model': RandomForestClassifier(max_depth=10, min_samples_leaf=4, min_samples_split=7,\n",
      "                       n_estimators=35)}\n",
      "Available steps in pipeline: {'upsample': SMOTE(), 'model': LogisticRegression(C=0.007046802196369346, l1_ratio=0.1225756539077062,\n",
      "                   max_iter=10000, solver='saga')}\n",
      "Available steps in pipeline: {'upsample': SMOTE(), 'model': XGBClassifier(base_score=None, booster=None, callbacks=None,\n",
      "              colsample_bylevel=None, colsample_bynode=None,\n",
      "              colsample_bytree=None, device=None, early_stopping_rounds=None,\n",
      "              enable_categorical=False, eval_metric='logloss',\n",
      "              feature_types=None, gamma=None, grow_policy=None,\n",
      "              importance_type=None, interaction_constraints=None,\n",
      "              learning_rate=0.08302186170274552, max_bin=None,\n",
      "              max_cat_threshold=None, max_cat_to_onehot=None,\n",
      "              max_delta_step=None, max_depth=3, max_leaves=None,\n",
      "              min_child_weight=None, missing=nan, monotone_constraints=None,\n",
      "              multi_strategy=None, n_estimators=20, n_jobs=None,\n",
      "              num_parallel_tree=None, random_state=None, ...)}\n",
      "Available steps in pipeline: {'upsample': SMOTE(), 'model': BernoulliNB(alpha=0.9296085723487499, binarize=0.001990665448191229)}\n",
      "Features to keep: ['avg6Months_Gambling', 'sum_Salary', 'sum_Loan', 'avg_HousingCost', 'avg6Months_DirectDebit', 'avg_Gaming', 'avg_CashWithdrawal']\n",
      "Features to discard: ['avg_Gambling', 'sum_Gambling', 'avg_Salary', 'avg_Loan', 'avg6Months_HousingCost', 'avg3Months_DirectDebit', 'avg_DirectDebit', 'sum_DirectDebit', 'avg6Months_Gaming', 'avg3Months_Gaming', 'avg6Months_CashWithdrawal']\n"
     ]
    },
    {
     "data": {
      "application/vnd.plotly.v1+json": {
       "config": {
        "plotlyServerURL": "https://plot.ly"
       },
       "data": [
        {
         "name": "RFS",
         "type": "bar",
         "x": [
          "avg3Months_Loan",
          "avg3Months_DebtCollection",
          "avg6Months_Loan",
          "count_Loan",
          "DebtCollection_sum3Months",
          "trend_Loan",
          "avg3Months_Deposit",
          "DebtCollection_sum9Months",
          "DebtCollection_sum12Months",
          "sum_Salary",
          "DebtCollection_partOfSalary12Months",
          "avg_HousingCost",
          "DebtCollection_count9Months",
          "CashWithdrawal_sum3Months",
          "sum_Loan",
          "trend_DebtCollection",
          "InstallmentPayment_count12Months",
          "count_Gambling",
          "Gambling_sum12Months",
          "avg_OtherIncome",
          "avg_Salary",
          "avg6Months_InstallmentPayment",
          "avg6Months_DirectDebit",
          "avg6Months_Gambling",
          "trend_Salary",
          "trend_Deposit",
          "avg_Gaming",
          "Crypto_count3Months",
          "trend_OtherIncome",
          "InstallmentPayment_count9Months",
          "avg_CashWithdrawal",
          "avg_Loan",
          "trend_PassiveIncome",
          "avg6Months_CashWithdrawal",
          "trend_CashWithdrawal",
          "avg3Months_Gambling",
          "MoneyRemittance_monthlyAvg",
          "avg_Gambling",
          "avg3Months_CashWithdrawal",
          "Gambling_sum9Months",
          "Gambling_partOfSalary3Months",
          "Gambling_count9Months",
          "avg3Months_DirectDebit",
          "MoneyRemittance_category",
          "trend_MoneyRemittance",
          "avg6Months_Gaming",
          "avg3Months_Gaming",
          "avg_DirectDebit",
          "avg6Months_HousingCost",
          "sum_Gambling",
          "sum_DirectDebit",
          "MoneyRemittance_partOfSalary9Months"
         ],
         "y": [
          0.06466577938859885,
          0.052617489828687074,
          0.02837306858050585,
          0.024574158900272855,
          0.02692965134156641,
          0.05864746280768329,
          0.03331994090631857,
          0.036411863505237,
          0.014148802663628297,
          0.02455628789587413,
          0.037610655571509555,
          0.03913628843174219,
          0.008663315614589127,
          0.026191698364296235,
          0.03023219834831143,
          0.027465966510398895,
          0.018591673326179132,
          0.013672796308178317,
          0.013142708617318019,
          0.03779839400409375,
          0.02003981915732041,
          0.02011528787432033,
          0.005806425178069769,
          0.020466941319767566,
          0.010508408377536213,
          0.02166720933645781,
          0.009315340669596555,
          0.009975677916686,
          0.008355438320179496,
          0.00880282888807832,
          0.0145423914658841,
          0.02909028407014334,
          0.006770117943615175,
          0.020103587288550766,
          0.011835369465213954,
          0.012081584272606218,
          0.007978342031093738,
          0.010027588343130991,
          0.014522290847696375,
          0.019353031915090236,
          0.01407385669372783,
          0.006619534617233985,
          0.0034056158499055373,
          0.0002612073226667586,
          0.009447169662444495,
          0.009747222030254073,
          0.008938858872355892,
          0.0047626623804925645,
          0.017678785564197688,
          0.012888033726345866,
          0.005790143223363969,
          0.00827874446098507
         ]
        },
        {
         "name": "LG",
         "type": "bar",
         "x": [
          "avg3Months_Loan",
          "avg3Months_DebtCollection",
          "avg6Months_Loan",
          "count_Loan",
          "DebtCollection_sum3Months",
          "trend_Loan",
          "avg3Months_Deposit",
          "DebtCollection_sum9Months",
          "DebtCollection_sum12Months",
          "sum_Salary",
          "DebtCollection_partOfSalary12Months",
          "avg_HousingCost",
          "DebtCollection_count9Months",
          "CashWithdrawal_sum3Months",
          "sum_Loan",
          "trend_DebtCollection",
          "InstallmentPayment_count12Months",
          "count_Gambling",
          "Gambling_sum12Months",
          "avg_OtherIncome",
          "avg_Salary",
          "avg6Months_InstallmentPayment",
          "avg6Months_DirectDebit",
          "avg6Months_Gambling",
          "trend_Salary",
          "trend_Deposit",
          "avg_Gaming",
          "Crypto_count3Months",
          "trend_OtherIncome",
          "InstallmentPayment_count9Months",
          "avg_CashWithdrawal",
          "avg_Loan",
          "trend_PassiveIncome",
          "avg6Months_CashWithdrawal",
          "trend_CashWithdrawal",
          "avg3Months_Gambling",
          "MoneyRemittance_monthlyAvg",
          "avg_Gambling",
          "avg3Months_CashWithdrawal",
          "Gambling_sum9Months",
          "Gambling_partOfSalary3Months",
          "Gambling_count9Months",
          "avg3Months_DirectDebit",
          "MoneyRemittance_category",
          "trend_MoneyRemittance",
          "avg6Months_Gaming",
          "avg3Months_Gaming",
          "avg_DirectDebit",
          "avg6Months_HousingCost",
          "sum_Gambling",
          "sum_DirectDebit",
          "MoneyRemittance_partOfSalary9Months"
         ],
         "y": [
          0.02869744090713124,
          0.016836503667683005,
          0.02643944639355291,
          0.05633344525592262,
          0.03363301449032221,
          0.02385382655956088,
          0.007815820446540892,
          0.013866451581790775,
          0.031018684213603483,
          0.04385359418407306,
          0.012900418441080063,
          0.0280642678908026,
          0.017346624851709094,
          0.013888906056378995,
          0.018037959233994764,
          0.019704458492524536,
          0.010380578710025701,
          0.05900269468685875,
          0.015072870534325681,
          0.005108142181900824,
          0.02792661790697849,
          0.03352091193098056,
          0.018691241046815063,
          0.012141110951842844,
          0.012375433144112364,
          0.010861017527161886,
          0.03081027763610342,
          0.010472270433741875,
          0.023274691428276668,
          0.021763836658536075,
          0.019894416723702874,
          0.009569213619655927,
          0.033771686309682906,
          0.007868789388358931,
          0.014093660350654985,
          0.018974810423167298,
          0.013006767981813048,
          0.031163544535897196,
          0.02745820970725459,
          0.00812364703673372,
          0.014112359795300984,
          0.028036048535426263,
          0.012113180123972004,
          0.00859139162020858,
          0.01710969268886878,
          0.004485884020492968,
          0.0077410761327731765,
          0.015134033037419864,
          0.007873699965233856,
          0.007241507755578666,
          0.008615421799260012,
          0.0013284010042124018
         ]
        },
        {
         "name": "XGB",
         "type": "bar",
         "x": [
          "avg3Months_Loan",
          "avg3Months_DebtCollection",
          "avg6Months_Loan",
          "count_Loan",
          "DebtCollection_sum3Months",
          "trend_Loan",
          "avg3Months_Deposit",
          "DebtCollection_sum9Months",
          "DebtCollection_sum12Months",
          "sum_Salary",
          "DebtCollection_partOfSalary12Months",
          "avg_HousingCost",
          "DebtCollection_count9Months",
          "CashWithdrawal_sum3Months",
          "sum_Loan",
          "trend_DebtCollection",
          "InstallmentPayment_count12Months",
          "count_Gambling",
          "Gambling_sum12Months",
          "avg_OtherIncome",
          "avg_Salary",
          "avg6Months_InstallmentPayment",
          "avg6Months_DirectDebit",
          "avg6Months_Gambling",
          "trend_Salary",
          "trend_Deposit",
          "avg_Gaming",
          "Crypto_count3Months",
          "trend_OtherIncome",
          "InstallmentPayment_count9Months",
          "avg_CashWithdrawal",
          "avg_Loan",
          "trend_PassiveIncome",
          "avg6Months_CashWithdrawal",
          "trend_CashWithdrawal",
          "avg3Months_Gambling",
          "MoneyRemittance_monthlyAvg",
          "avg_Gambling",
          "avg3Months_CashWithdrawal",
          "Gambling_sum9Months",
          "Gambling_partOfSalary3Months",
          "Gambling_count9Months",
          "avg3Months_DirectDebit",
          "MoneyRemittance_category",
          "trend_MoneyRemittance",
          "avg6Months_Gaming",
          "avg3Months_Gaming",
          "avg_DirectDebit",
          "avg6Months_HousingCost",
          "sum_Gambling",
          "sum_DirectDebit",
          "MoneyRemittance_partOfSalary9Months"
         ],
         "y": [
          0.11467708129027336,
          0.09169068964557048,
          0.02617816476357448,
          0.01575245096671678,
          0,
          0.03371599602341246,
          0.04478672898895325,
          0.04549431068821091,
          0.04751506105425819,
          0.029045766818490606,
          0.018827303977016974,
          0.038167457537016496,
          0.03306657728651402,
          0.02230271327267113,
          0.03634688193683164,
          0.020486511163667325,
          0.015810636280819683,
          0.0102200572658565,
          0.042714640392951926,
          0.03359700279061427,
          0.02102311133696058,
          0.02319991971477186,
          0.04151961931799106,
          0.03498270286566202,
          0.011119959887039243,
          0,
          0.01739455720680273,
          0.03250969104318124,
          0.01618481937127054,
          0.02148023057235496,
          0.013009538113947929,
          0,
          0,
          0.008034982468172353,
          0,
          0,
          0.012731316647073082,
          0,
          0,
          0.010623327425422888,
          0,
          0,
          0,
          0,
          0,
          0.015790191885929054,
          0,
          0,
          0,
          0,
          0,
          0
         ]
        },
        {
         "name": "Naive Bayes",
         "type": "bar",
         "x": [
          "avg3Months_Loan",
          "avg3Months_DebtCollection",
          "avg6Months_Loan",
          "count_Loan",
          "DebtCollection_sum3Months",
          "trend_Loan",
          "avg3Months_Deposit",
          "DebtCollection_sum9Months",
          "DebtCollection_sum12Months",
          "sum_Salary",
          "DebtCollection_partOfSalary12Months",
          "avg_HousingCost",
          "DebtCollection_count9Months",
          "CashWithdrawal_sum3Months",
          "sum_Loan",
          "trend_DebtCollection",
          "InstallmentPayment_count12Months",
          "count_Gambling",
          "Gambling_sum12Months",
          "avg_OtherIncome",
          "avg_Salary",
          "avg6Months_InstallmentPayment",
          "avg6Months_DirectDebit",
          "avg6Months_Gambling",
          "trend_Salary",
          "trend_Deposit",
          "avg_Gaming",
          "Crypto_count3Months",
          "trend_OtherIncome",
          "InstallmentPayment_count9Months",
          "avg_CashWithdrawal",
          "avg_Loan",
          "trend_PassiveIncome",
          "avg6Months_CashWithdrawal",
          "trend_CashWithdrawal",
          "avg3Months_Gambling",
          "MoneyRemittance_monthlyAvg",
          "avg_Gambling",
          "avg3Months_CashWithdrawal",
          "Gambling_sum9Months",
          "Gambling_partOfSalary3Months",
          "Gambling_count9Months",
          "avg3Months_DirectDebit",
          "MoneyRemittance_category",
          "trend_MoneyRemittance",
          "avg6Months_Gaming",
          "avg3Months_Gaming",
          "avg_DirectDebit",
          "avg6Months_HousingCost",
          "sum_Gambling",
          "sum_DirectDebit",
          "MoneyRemittance_partOfSalary9Months"
         ],
         "y": [
          0.16000614377491884,
          0.04065801948000365,
          0.07294143817296637,
          0.05640726872129971,
          0.07835855282322153,
          0.015614721755849853,
          0.03782976447097378,
          0.01873533570963365,
          0.020633550307454288,
          0.010488906778809929,
          0.03806704129570074,
          0.00036333013786654027,
          0.04023642940749647,
          0.03664867670503057,
          0.013786419079600007,
          0.025723350052166034,
          0.04643846426812271,
          0.0025835632835323388,
          0.012609568399813706,
          0.006036788500549626,
          0.010558818700381683,
          0.0007277195472650261,
          0.009105498148925155,
          0.003214889120753337,
          0.027309079545996456,
          0.025971219592286852,
          0.0007637347795944084,
          0.0033769576662109925,
          0.0082390140300529,
          0.0032996308438708265,
          0.0038049033679512685,
          0.009310996827483015,
          0.006077040819030392,
          0.009976219353948068,
          0.019171755583686566,
          0.0134495707302055,
          0.01009697630938916,
          0.002568733481985881,
          0.0013537490267920994,
          0.002527421891966668,
          0.011415769375401886,
          0.0028886334867529407,
          0.020807270839844502,
          0.023503116906500237,
          0.004221197082764042,
          0.0003612115947841056,
          0.010117102468629303,
          0.006400118638413758,
          0.00047349437791448413,
          0.00225942619260932,
          0.004715876891462896,
          0.007765519652136008
         ]
        }
       ],
       "layout": {
        "barmode": "stack",
        "height": 800,
        "template": {
         "data": {
          "bar": [
           {
            "error_x": {
             "color": "#2a3f5f"
            },
            "error_y": {
             "color": "#2a3f5f"
            },
            "marker": {
             "line": {
              "color": "#E5ECF6",
              "width": 0.5
             },
             "pattern": {
              "fillmode": "overlay",
              "size": 10,
              "solidity": 0.2
             }
            },
            "type": "bar"
           }
          ],
          "barpolar": [
           {
            "marker": {
             "line": {
              "color": "#E5ECF6",
              "width": 0.5
             },
             "pattern": {
              "fillmode": "overlay",
              "size": 10,
              "solidity": 0.2
             }
            },
            "type": "barpolar"
           }
          ],
          "carpet": [
           {
            "aaxis": {
             "endlinecolor": "#2a3f5f",
             "gridcolor": "white",
             "linecolor": "white",
             "minorgridcolor": "white",
             "startlinecolor": "#2a3f5f"
            },
            "baxis": {
             "endlinecolor": "#2a3f5f",
             "gridcolor": "white",
             "linecolor": "white",
             "minorgridcolor": "white",
             "startlinecolor": "#2a3f5f"
            },
            "type": "carpet"
           }
          ],
          "choropleth": [
           {
            "colorbar": {
             "outlinewidth": 0,
             "ticks": ""
            },
            "type": "choropleth"
           }
          ],
          "contour": [
           {
            "colorbar": {
             "outlinewidth": 0,
             "ticks": ""
            },
            "colorscale": [
             [
              0,
              "#0d0887"
             ],
             [
              0.1111111111111111,
              "#46039f"
             ],
             [
              0.2222222222222222,
              "#7201a8"
             ],
             [
              0.3333333333333333,
              "#9c179e"
             ],
             [
              0.4444444444444444,
              "#bd3786"
             ],
             [
              0.5555555555555556,
              "#d8576b"
             ],
             [
              0.6666666666666666,
              "#ed7953"
             ],
             [
              0.7777777777777778,
              "#fb9f3a"
             ],
             [
              0.8888888888888888,
              "#fdca26"
             ],
             [
              1,
              "#f0f921"
             ]
            ],
            "type": "contour"
           }
          ],
          "contourcarpet": [
           {
            "colorbar": {
             "outlinewidth": 0,
             "ticks": ""
            },
            "type": "contourcarpet"
           }
          ],
          "heatmap": [
           {
            "colorbar": {
             "outlinewidth": 0,
             "ticks": ""
            },
            "colorscale": [
             [
              0,
              "#0d0887"
             ],
             [
              0.1111111111111111,
              "#46039f"
             ],
             [
              0.2222222222222222,
              "#7201a8"
             ],
             [
              0.3333333333333333,
              "#9c179e"
             ],
             [
              0.4444444444444444,
              "#bd3786"
             ],
             [
              0.5555555555555556,
              "#d8576b"
             ],
             [
              0.6666666666666666,
              "#ed7953"
             ],
             [
              0.7777777777777778,
              "#fb9f3a"
             ],
             [
              0.8888888888888888,
              "#fdca26"
             ],
             [
              1,
              "#f0f921"
             ]
            ],
            "type": "heatmap"
           }
          ],
          "heatmapgl": [
           {
            "colorbar": {
             "outlinewidth": 0,
             "ticks": ""
            },
            "colorscale": [
             [
              0,
              "#0d0887"
             ],
             [
              0.1111111111111111,
              "#46039f"
             ],
             [
              0.2222222222222222,
              "#7201a8"
             ],
             [
              0.3333333333333333,
              "#9c179e"
             ],
             [
              0.4444444444444444,
              "#bd3786"
             ],
             [
              0.5555555555555556,
              "#d8576b"
             ],
             [
              0.6666666666666666,
              "#ed7953"
             ],
             [
              0.7777777777777778,
              "#fb9f3a"
             ],
             [
              0.8888888888888888,
              "#fdca26"
             ],
             [
              1,
              "#f0f921"
             ]
            ],
            "type": "heatmapgl"
           }
          ],
          "histogram": [
           {
            "marker": {
             "pattern": {
              "fillmode": "overlay",
              "size": 10,
              "solidity": 0.2
             }
            },
            "type": "histogram"
           }
          ],
          "histogram2d": [
           {
            "colorbar": {
             "outlinewidth": 0,
             "ticks": ""
            },
            "colorscale": [
             [
              0,
              "#0d0887"
             ],
             [
              0.1111111111111111,
              "#46039f"
             ],
             [
              0.2222222222222222,
              "#7201a8"
             ],
             [
              0.3333333333333333,
              "#9c179e"
             ],
             [
              0.4444444444444444,
              "#bd3786"
             ],
             [
              0.5555555555555556,
              "#d8576b"
             ],
             [
              0.6666666666666666,
              "#ed7953"
             ],
             [
              0.7777777777777778,
              "#fb9f3a"
             ],
             [
              0.8888888888888888,
              "#fdca26"
             ],
             [
              1,
              "#f0f921"
             ]
            ],
            "type": "histogram2d"
           }
          ],
          "histogram2dcontour": [
           {
            "colorbar": {
             "outlinewidth": 0,
             "ticks": ""
            },
            "colorscale": [
             [
              0,
              "#0d0887"
             ],
             [
              0.1111111111111111,
              "#46039f"
             ],
             [
              0.2222222222222222,
              "#7201a8"
             ],
             [
              0.3333333333333333,
              "#9c179e"
             ],
             [
              0.4444444444444444,
              "#bd3786"
             ],
             [
              0.5555555555555556,
              "#d8576b"
             ],
             [
              0.6666666666666666,
              "#ed7953"
             ],
             [
              0.7777777777777778,
              "#fb9f3a"
             ],
             [
              0.8888888888888888,
              "#fdca26"
             ],
             [
              1,
              "#f0f921"
             ]
            ],
            "type": "histogram2dcontour"
           }
          ],
          "mesh3d": [
           {
            "colorbar": {
             "outlinewidth": 0,
             "ticks": ""
            },
            "type": "mesh3d"
           }
          ],
          "parcoords": [
           {
            "line": {
             "colorbar": {
              "outlinewidth": 0,
              "ticks": ""
             }
            },
            "type": "parcoords"
           }
          ],
          "pie": [
           {
            "automargin": true,
            "type": "pie"
           }
          ],
          "scatter": [
           {
            "fillpattern": {
             "fillmode": "overlay",
             "size": 10,
             "solidity": 0.2
            },
            "type": "scatter"
           }
          ],
          "scatter3d": [
           {
            "line": {
             "colorbar": {
              "outlinewidth": 0,
              "ticks": ""
             }
            },
            "marker": {
             "colorbar": {
              "outlinewidth": 0,
              "ticks": ""
             }
            },
            "type": "scatter3d"
           }
          ],
          "scattercarpet": [
           {
            "marker": {
             "colorbar": {
              "outlinewidth": 0,
              "ticks": ""
             }
            },
            "type": "scattercarpet"
           }
          ],
          "scattergeo": [
           {
            "marker": {
             "colorbar": {
              "outlinewidth": 0,
              "ticks": ""
             }
            },
            "type": "scattergeo"
           }
          ],
          "scattergl": [
           {
            "marker": {
             "colorbar": {
              "outlinewidth": 0,
              "ticks": ""
             }
            },
            "type": "scattergl"
           }
          ],
          "scattermapbox": [
           {
            "marker": {
             "colorbar": {
              "outlinewidth": 0,
              "ticks": ""
             }
            },
            "type": "scattermapbox"
           }
          ],
          "scatterpolar": [
           {
            "marker": {
             "colorbar": {
              "outlinewidth": 0,
              "ticks": ""
             }
            },
            "type": "scatterpolar"
           }
          ],
          "scatterpolargl": [
           {
            "marker": {
             "colorbar": {
              "outlinewidth": 0,
              "ticks": ""
             }
            },
            "type": "scatterpolargl"
           }
          ],
          "scatterternary": [
           {
            "marker": {
             "colorbar": {
              "outlinewidth": 0,
              "ticks": ""
             }
            },
            "type": "scatterternary"
           }
          ],
          "surface": [
           {
            "colorbar": {
             "outlinewidth": 0,
             "ticks": ""
            },
            "colorscale": [
             [
              0,
              "#0d0887"
             ],
             [
              0.1111111111111111,
              "#46039f"
             ],
             [
              0.2222222222222222,
              "#7201a8"
             ],
             [
              0.3333333333333333,
              "#9c179e"
             ],
             [
              0.4444444444444444,
              "#bd3786"
             ],
             [
              0.5555555555555556,
              "#d8576b"
             ],
             [
              0.6666666666666666,
              "#ed7953"
             ],
             [
              0.7777777777777778,
              "#fb9f3a"
             ],
             [
              0.8888888888888888,
              "#fdca26"
             ],
             [
              1,
              "#f0f921"
             ]
            ],
            "type": "surface"
           }
          ],
          "table": [
           {
            "cells": {
             "fill": {
              "color": "#EBF0F8"
             },
             "line": {
              "color": "white"
             }
            },
            "header": {
             "fill": {
              "color": "#C8D4E3"
             },
             "line": {
              "color": "white"
             }
            },
            "type": "table"
           }
          ]
         },
         "layout": {
          "annotationdefaults": {
           "arrowcolor": "#2a3f5f",
           "arrowhead": 0,
           "arrowwidth": 1
          },
          "autotypenumbers": "strict",
          "coloraxis": {
           "colorbar": {
            "outlinewidth": 0,
            "ticks": ""
           }
          },
          "colorscale": {
           "diverging": [
            [
             0,
             "#8e0152"
            ],
            [
             0.1,
             "#c51b7d"
            ],
            [
             0.2,
             "#de77ae"
            ],
            [
             0.3,
             "#f1b6da"
            ],
            [
             0.4,
             "#fde0ef"
            ],
            [
             0.5,
             "#f7f7f7"
            ],
            [
             0.6,
             "#e6f5d0"
            ],
            [
             0.7,
             "#b8e186"
            ],
            [
             0.8,
             "#7fbc41"
            ],
            [
             0.9,
             "#4d9221"
            ],
            [
             1,
             "#276419"
            ]
           ],
           "sequential": [
            [
             0,
             "#0d0887"
            ],
            [
             0.1111111111111111,
             "#46039f"
            ],
            [
             0.2222222222222222,
             "#7201a8"
            ],
            [
             0.3333333333333333,
             "#9c179e"
            ],
            [
             0.4444444444444444,
             "#bd3786"
            ],
            [
             0.5555555555555556,
             "#d8576b"
            ],
            [
             0.6666666666666666,
             "#ed7953"
            ],
            [
             0.7777777777777778,
             "#fb9f3a"
            ],
            [
             0.8888888888888888,
             "#fdca26"
            ],
            [
             1,
             "#f0f921"
            ]
           ],
           "sequentialminus": [
            [
             0,
             "#0d0887"
            ],
            [
             0.1111111111111111,
             "#46039f"
            ],
            [
             0.2222222222222222,
             "#7201a8"
            ],
            [
             0.3333333333333333,
             "#9c179e"
            ],
            [
             0.4444444444444444,
             "#bd3786"
            ],
            [
             0.5555555555555556,
             "#d8576b"
            ],
            [
             0.6666666666666666,
             "#ed7953"
            ],
            [
             0.7777777777777778,
             "#fb9f3a"
            ],
            [
             0.8888888888888888,
             "#fdca26"
            ],
            [
             1,
             "#f0f921"
            ]
           ]
          },
          "colorway": [
           "#636efa",
           "#EF553B",
           "#00cc96",
           "#ab63fa",
           "#FFA15A",
           "#19d3f3",
           "#FF6692",
           "#B6E880",
           "#FF97FF",
           "#FECB52"
          ],
          "font": {
           "color": "#2a3f5f"
          },
          "geo": {
           "bgcolor": "white",
           "lakecolor": "white",
           "landcolor": "#E5ECF6",
           "showlakes": true,
           "showland": true,
           "subunitcolor": "white"
          },
          "hoverlabel": {
           "align": "left"
          },
          "hovermode": "closest",
          "mapbox": {
           "style": "light"
          },
          "paper_bgcolor": "white",
          "plot_bgcolor": "#E5ECF6",
          "polar": {
           "angularaxis": {
            "gridcolor": "white",
            "linecolor": "white",
            "ticks": ""
           },
           "bgcolor": "#E5ECF6",
           "radialaxis": {
            "gridcolor": "white",
            "linecolor": "white",
            "ticks": ""
           }
          },
          "scene": {
           "xaxis": {
            "backgroundcolor": "#E5ECF6",
            "gridcolor": "white",
            "gridwidth": 2,
            "linecolor": "white",
            "showbackground": true,
            "ticks": "",
            "zerolinecolor": "white"
           },
           "yaxis": {
            "backgroundcolor": "#E5ECF6",
            "gridcolor": "white",
            "gridwidth": 2,
            "linecolor": "white",
            "showbackground": true,
            "ticks": "",
            "zerolinecolor": "white"
           },
           "zaxis": {
            "backgroundcolor": "#E5ECF6",
            "gridcolor": "white",
            "gridwidth": 2,
            "linecolor": "white",
            "showbackground": true,
            "ticks": "",
            "zerolinecolor": "white"
           }
          },
          "shapedefaults": {
           "line": {
            "color": "#2a3f5f"
           }
          },
          "ternary": {
           "aaxis": {
            "gridcolor": "white",
            "linecolor": "white",
            "ticks": ""
           },
           "baxis": {
            "gridcolor": "white",
            "linecolor": "white",
            "ticks": ""
           },
           "bgcolor": "#E5ECF6",
           "caxis": {
            "gridcolor": "white",
            "linecolor": "white",
            "ticks": ""
           }
          },
          "title": {
           "x": 0.05
          },
          "xaxis": {
           "automargin": true,
           "gridcolor": "white",
           "linecolor": "white",
           "ticks": "",
           "title": {
            "standoff": 15
           },
           "zerolinecolor": "white",
           "zerolinewidth": 2
          },
          "yaxis": {
           "automargin": true,
           "gridcolor": "white",
           "linecolor": "white",
           "ticks": "",
           "title": {
            "standoff": 15
           },
           "zerolinecolor": "white",
           "zerolinewidth": 2
          }
         }
        },
        "title": {
         "text": "Normalized Feature Importances by Algorithm"
        },
        "width": 2800,
        "xaxis": {
         "categoryorder": "total descending",
         "tickangle": 50,
         "title": {
          "text": "Features"
         }
        },
        "yaxis": {
         "title": {
          "text": "Importance"
         }
        }
       }
      }
     },
     "metadata": {},
     "output_type": "display_data"
    },
    {
     "name": "stdout",
     "output_type": "stream",
     "text": [
      "Non-zero features: ['avg3Months_Loan', 'avg3Months_DebtCollection', 'avg6Months_Loan', 'count_Loan', 'DebtCollection_sum3Months', 'trend_Loan', 'avg3Months_Deposit', 'DebtCollection_sum9Months', 'DebtCollection_sum12Months', 'sum_Salary', 'DebtCollection_partOfSalary12Months', 'avg_HousingCost', 'DebtCollection_count9Months', 'CashWithdrawal_sum3Months', 'sum_Loan', 'trend_DebtCollection', 'InstallmentPayment_count12Months', 'count_Gambling', 'Gambling_sum12Months', 'avg_OtherIncome', 'avg_Salary', 'avg6Months_InstallmentPayment', 'avg6Months_DirectDebit', 'avg6Months_Gambling', 'trend_Salary', 'trend_Deposit', 'avg_Gaming', 'Crypto_count3Months', 'trend_OtherIncome', 'InstallmentPayment_count9Months', 'avg_CashWithdrawal', 'avg_Loan', 'trend_PassiveIncome', 'avg6Months_CashWithdrawal', 'trend_CashWithdrawal', 'avg3Months_Gambling', 'MoneyRemittance_monthlyAvg', 'avg_Gambling', 'avg3Months_CashWithdrawal', 'Gambling_sum9Months', 'Gambling_partOfSalary3Months', 'Gambling_count9Months', 'avg3Months_DirectDebit', 'MoneyRemittance_category', 'trend_MoneyRemittance', 'avg6Months_Gaming', 'avg3Months_Gaming', 'avg_DirectDebit', 'avg6Months_HousingCost', 'sum_Gambling', 'sum_DirectDebit', 'MoneyRemittance_partOfSalary9Months']\n"
     ]
    }
   ],
   "source": [
    "\n",
    "\n",
    "\n",
    "\n",
    "forforsta = base[features_list_NB]\n",
    "\n",
    "preprocessor = DataPreprocessor(forforsta)\n",
    "\n",
    "(Xtrain, Ytrain), (Xtest, Ytest), train_upsampled,  = preprocessor.get_split_data_with_upsample_and_scaling(0.7,upsample= False)\n",
    "\n",
    "\n",
    "models = ['naive_bayes', 'xgboost', 'random_forest', 'logistic_regression']\n",
    "\n",
    "\n",
    "optimizer = ModelOptimizer(models, Xtrain, Ytrain, n_trials=iterations, early_stopping_rounds=10)\n",
    "best_params, best_models = optimizer.run_models()\n",
    "print(\"Best parameters:\", best_params)\n",
    "\n",
    "evaluator = ModelEvaluator(Xtrain, Ytrain, Xtest, Ytest, best_models)\n",
    "evaluator.evaluate_models()\n",
    "evaluator.plot_roc_curves()\n",
    "\n",
    "\n",
    "feature_importance = FeatureImportance(train_upsampled, best_models, forforsta, run_correlation_cluster=True)\n",
    "feature_importance.calculate_importances()\n",
    "feature_importance.calculate_cumulative_importance()\n",
    "features_to_keep, features_to_discard = feature_importance.find_highly_correlated_features()\n",
    "\n",
    "print(\"Features to keep:\", features_to_keep)\n",
    "print(\"Features to discard:\", features_to_discard)\n",
    "\n",
    "sorted_features, non_zero_features = feature_importance.plot_importances()\n",
    "\n",
    "# Filter away highly correlated features and take away the absolute worst\n",
    "filtered_list = [item for item in sorted_features if item not in features_to_discard]\n",
    "SelectionOne = filtered_list[:40]\n",
    "\n",
    "print(\"Non-zero features:\", non_zero_features)\n"
   ]
  },
  {
   "cell_type": "code",
   "execution_count": 8,
   "metadata": {},
   "outputs": [
    {
     "name": "stderr",
     "output_type": "stream",
     "text": [
      "[I 2024-05-27 11:57:48,000] A new study created in memory with name: no-name-e56aae0c-7490-4c04-b191-ee1148cad156\n",
      "[I 2024-05-27 11:57:48,000] A new study created in memory with name: no-name-f8d8b973-15fc-4216-8d4e-cbd7878beb2b\n",
      "[I 2024-05-27 11:57:48,000] A new study created in memory with name: no-name-cacbe124-9e0e-4112-b6fc-7a4be30741cb\n",
      "[I 2024-05-27 11:57:48,001] A new study created in memory with name: no-name-312e3ec6-9b62-4f17-a2d0-6e8447950f35\n",
      "[I 2024-05-27 11:57:48,064] Trial 0 finished with value: 0.23682355107245487 and parameters: {'nb_type': 'bernoulli', 'alpha': 0.09028712697793004, 'binarize': 0.0028634320130155777}. Best is trial 0 with value: 0.23682355107245487.\n",
      "[I 2024-05-27 11:57:48,099] Trial 1 finished with value: -0.09042033089399919 and parameters: {'nb_type': 'gaussian'}. Best is trial 0 with value: 0.23682355107245487.\n",
      "[I 2024-05-27 11:57:48,138] Trial 2 finished with value: 0.23682792482927084 and parameters: {'nb_type': 'bernoulli', 'alpha': 0.05317238775457342, 'binarize': 0.0013304323002270775}. Best is trial 2 with value: 0.23682792482927084.\n",
      "[I 2024-05-27 11:57:48,179] Trial 3 finished with value: 0.23690693385175213 and parameters: {'nb_type': 'bernoulli', 'alpha': 0.0016840017020063403, 'binarize': 0.008335423148796301}. Best is trial 3 with value: 0.23690693385175213.\n"
     ]
    },
    {
     "name": "stdout",
     "output_type": "stream",
     "text": [
      "Binary Split: Ever90\n",
      "0    3170\n",
      "1     323\n",
      "Name: count, dtype: int64\n"
     ]
    },
    {
     "name": "stderr",
     "output_type": "stream",
     "text": [
      "[I 2024-05-27 11:57:48,217] Trial 4 finished with value: 0.24715125319388784 and parameters: {'nb_type': 'bernoulli', 'alpha': 0.2875066054340862, 'binarize': 0.01787961310809439}. Best is trial 4 with value: 0.24715125319388784.\n",
      "[I 2024-05-27 11:57:48,252] Trial 5 finished with value: 0.23571187716175346 and parameters: {'nb_type': 'bernoulli', 'alpha': 0.04187885164927343, 'binarize': 0.12002879075613032}. Best is trial 4 with value: 0.24715125319388784.\n",
      "[I 2024-05-27 11:57:48,281] Trial 6 finished with value: -0.0832710876986481 and parameters: {'nb_type': 'gaussian'}. Best is trial 4 with value: 0.24715125319388784.\n",
      "[I 2024-05-27 11:57:48,322] Trial 7 finished with value: -0.08773002825253935 and parameters: {'nb_type': 'gaussian'}. Best is trial 4 with value: 0.24715125319388784.\n",
      "[I 2024-05-27 11:57:48,353] Trial 8 finished with value: -0.10235758356367912 and parameters: {'nb_type': 'gaussian'}. Best is trial 4 with value: 0.24715125319388784.\n",
      "[I 2024-05-27 11:57:48,393] Trial 9 finished with value: 0.1970169852916348 and parameters: {'nb_type': 'bernoulli', 'alpha': 0.0016901159166364107, 'binarize': 0.24825517116019188}. Best is trial 4 with value: 0.24715125319388784.\n",
      "[I 2024-05-27 11:57:48,427] Trial 10 finished with value: 0.249568075434441 and parameters: {'nb_type': 'bernoulli', 'alpha': 0.8733616081323008, 'binarize': 0.02549962075246186}. Best is trial 10 with value: 0.249568075434441.\n",
      "[I 2024-05-27 11:57:48,461] Trial 11 finished with value: 0.23755092934292357 and parameters: {'nb_type': 'bernoulli', 'alpha': 0.9328091274034258, 'binarize': 0.02676599107298638}. Best is trial 10 with value: 0.249568075434441.\n",
      "[I 2024-05-27 11:57:48,471] Trial 0 finished with value: 0.27295907160579586 and parameters: {'n_estimators': 40, 'max_depth': 4, 'min_samples_split': 5, 'min_samples_leaf': 3}. Best is trial 0 with value: 0.27295907160579586.\n",
      "[I 2024-05-27 11:57:48,516] Trial 12 finished with value: 0.2374510967356016 and parameters: {'nb_type': 'bernoulli', 'alpha': 0.9827019509479877, 'binarize': 0.025194542845348965}. Best is trial 10 with value: 0.249568075434441.\n",
      "[I 2024-05-27 11:57:48,565] Trial 13 finished with value: 0.24745525341257543 and parameters: {'nb_type': 'bernoulli', 'alpha': 0.25078483540635815, 'binarize': 0.06304782299998758}. Best is trial 10 with value: 0.249568075434441.\n",
      "[I 2024-05-27 11:57:48,604] Trial 14 finished with value: 0.23778330929375083 and parameters: {'nb_type': 'bernoulli', 'alpha': 0.20624754245798915, 'binarize': 0.0779269550568862}. Best is trial 10 with value: 0.249568075434441.\n",
      "[I 2024-05-27 11:57:48,643] Trial 15 finished with value: 0.07634678745953871 and parameters: {'nb_type': 'bernoulli', 'alpha': 0.01145445177860104, 'binarize': 0.5600359670014898}. Best is trial 10 with value: 0.249568075434441.\n",
      "[I 2024-05-27 11:57:48,677] Trial 16 finished with value: 0.21543674856204711 and parameters: {'nb_type': 'bernoulli', 'alpha': 0.31468898862521155, 'binarize': 0.08861669025405}. Best is trial 10 with value: 0.249568075434441.\n",
      "[I 2024-05-27 11:57:48,721] Trial 17 finished with value: 0.2305677120267057 and parameters: {'nb_type': 'bernoulli', 'alpha': 0.01012796264229263, 'binarize': 0.004246371093042666}. Best is trial 10 with value: 0.249568075434441.\n",
      "[I 2024-05-27 11:57:48,770] Trial 1 finished with value: 0.27657197965559877 and parameters: {'n_estimators': 22, 'max_depth': 5, 'min_samples_split': 8, 'min_samples_leaf': 2}. Best is trial 1 with value: 0.27657197965559877.\n",
      "[I 2024-05-27 11:57:49,067] Trial 2 finished with value: 0.28715655155003034 and parameters: {'n_estimators': 35, 'max_depth': 4, 'min_samples_split': 8, 'min_samples_leaf': 4}. Best is trial 2 with value: 0.28715655155003034.\n",
      "[I 2024-05-27 11:57:49,442] Trial 3 finished with value: 0.2473390031372058 and parameters: {'n_estimators': 25, 'max_depth': 9, 'min_samples_split': 7, 'min_samples_leaf': 2}. Best is trial 2 with value: 0.28715655155003034.\n",
      "[I 2024-05-27 11:57:49,887] Trial 4 finished with value: 0.23752028088523555 and parameters: {'n_estimators': 29, 'max_depth': 10, 'min_samples_split': 5, 'min_samples_leaf': 3}. Best is trial 2 with value: 0.28715655155003034.\n",
      "[I 2024-05-27 11:57:50,159] Trial 0 finished with value: 0.213072113923501 and parameters: {'n_estimators': 33, 'max_depth': 9, 'learning_rate': 0.06288763507701471}. Best is trial 0 with value: 0.213072113923501.\n",
      "[I 2024-05-27 11:57:50,188] Trial 5 finished with value: 0.27286704583279064 and parameters: {'n_estimators': 21, 'max_depth': 8, 'min_samples_split': 8, 'min_samples_leaf': 1}. Best is trial 2 with value: 0.28715655155003034.\n",
      "[I 2024-05-27 11:57:50,479] Trial 6 finished with value: 0.26727576054324637 and parameters: {'n_estimators': 20, 'max_depth': 8, 'min_samples_split': 7, 'min_samples_leaf': 2}. Best is trial 2 with value: 0.28715655155003034.\n",
      "[I 2024-05-27 11:57:50,707] Trial 7 finished with value: 0.2645402811746753 and parameters: {'n_estimators': 25, 'max_depth': 4, 'min_samples_split': 3, 'min_samples_leaf': 1}. Best is trial 2 with value: 0.28715655155003034.\n",
      "[I 2024-05-27 11:57:50,931] Trial 8 finished with value: 0.26908920534305847 and parameters: {'n_estimators': 25, 'max_depth': 4, 'min_samples_split': 4, 'min_samples_leaf': 2}. Best is trial 2 with value: 0.28715655155003034.\n",
      "[I 2024-05-27 11:57:51,503] Trial 9 finished with value: 0.2523273371056985 and parameters: {'n_estimators': 34, 'max_depth': 12, 'min_samples_split': 2, 'min_samples_leaf': 1}. Best is trial 2 with value: 0.28715655155003034.\n",
      "[I 2024-05-27 11:57:51,910] Trial 10 finished with value: 0.29656153570320215 and parameters: {'n_estimators': 36, 'max_depth': 6, 'min_samples_split': 6, 'min_samples_leaf': 4}. Best is trial 10 with value: 0.29656153570320215.\n",
      "[I 2024-05-27 11:57:52,321] Trial 11 finished with value: 0.2611485774838356 and parameters: {'n_estimators': 36, 'max_depth': 6, 'min_samples_split': 6, 'min_samples_leaf': 4}. Best is trial 10 with value: 0.29656153570320215.\n",
      "[I 2024-05-27 11:57:52,361] Trial 1 finished with value: 0.18056607186789972 and parameters: {'n_estimators': 28, 'max_depth': 11, 'learning_rate': 0.023512415572286477}. Best is trial 0 with value: 0.213072113923501.\n",
      "[I 2024-05-27 11:58:13,522] Trial 12 finished with value: 0.2770809756050497 and parameters: {'n_estimators': 34, 'max_depth': 6, 'min_samples_split': 6, 'min_samples_leaf': 4}. Best is trial 10 with value: 0.29656153570320215.\n",
      "[I 2024-05-27 11:58:13,840] Trial 13 finished with value: 0.2649990995206555 and parameters: {'n_estimators': 39, 'max_depth': 3, 'min_samples_split': 7, 'min_samples_leaf': 4}. Best is trial 10 with value: 0.29656153570320215.\n",
      "[I 2024-05-27 11:58:14,322] Trial 2 finished with value: 0.213224938132245 and parameters: {'n_estimators': 23, 'max_depth': 12, 'learning_rate': 0.11467199112344213}. Best is trial 2 with value: 0.213224938132245.\n",
      "[I 2024-05-27 11:58:14,664] Trial 3 finished with value: 0.2695528637655152 and parameters: {'n_estimators': 32, 'max_depth': 3, 'learning_rate': 0.0697850959009093}. Best is trial 3 with value: 0.2695528637655152.\n",
      "[I 2024-05-27 11:58:15,740] Trial 4 finished with value: 0.2375661329718551 and parameters: {'n_estimators': 38, 'max_depth': 13, 'learning_rate': 0.13622832745641109}. Best is trial 3 with value: 0.2695528637655152.\n",
      "[I 2024-05-27 11:58:15,942] Trial 5 finished with value: 0.24090267426285314 and parameters: {'n_estimators': 21, 'max_depth': 3, 'learning_rate': 0.01890455758732146}. Best is trial 3 with value: 0.2695528637655152.\n",
      "[I 2024-05-27 11:58:16,542] Trial 6 finished with value: 0.24916204769002936 and parameters: {'n_estimators': 32, 'max_depth': 5, 'learning_rate': 0.08068309919083477}. Best is trial 3 with value: 0.2695528637655152.\n",
      "[I 2024-05-27 11:58:16,547] Trial 0 finished with value: 0.17954807192900368 and parameters: {'C': 0.06043679900227973, 'solver': 'saga', 'penalty_saga': None}. Best is trial 0 with value: 0.17954807192900368.\n",
      "[I 2024-05-27 11:58:17,608] Trial 7 finished with value: 0.21640972453372043 and parameters: {'n_estimators': 25, 'max_depth': 13, 'learning_rate': 0.09474240191940916}. Best is trial 3 with value: 0.2695528637655152.\n",
      "[I 2024-05-27 11:58:18,163] Trial 8 finished with value: 0.25615432607965066 and parameters: {'n_estimators': 31, 'max_depth': 4, 'learning_rate': 0.011403129723340006}. Best is trial 3 with value: 0.2695528637655152.\n",
      "[I 2024-05-27 11:58:19,013] Trial 9 finished with value: 0.2135570702904528 and parameters: {'n_estimators': 35, 'max_depth': 8, 'learning_rate': 0.280671847715694}. Best is trial 3 with value: 0.2695528637655152.\n",
      "[I 2024-05-27 11:58:19,748] Trial 10 finished with value: 0.22513604474095938 and parameters: {'n_estimators': 40, 'max_depth': 6, 'learning_rate': 0.03480299700205061}. Best is trial 3 with value: 0.2695528637655152.\n",
      "[I 2024-05-27 11:58:23,598] Trial 1 finished with value: 0.183490193619139 and parameters: {'C': 0.43083333423644793, 'solver': 'sag'}. Best is trial 1 with value: 0.183490193619139.\n",
      "[I 2024-05-27 11:58:32,222] Trial 2 finished with value: 0.16376044998239245 and parameters: {'C': 0.021755591395875597, 'solver': 'sag'}. Best is trial 1 with value: 0.183490193619139.\n",
      "[I 2024-05-27 11:58:38,067] Trial 3 finished with value: 0.15467855299401342 and parameters: {'C': 0.0011492240773075238, 'solver': 'sag'}. Best is trial 1 with value: 0.183490193619139.\n",
      "[I 2024-05-27 11:58:38,109] Trial 4 finished with value: 0.16909968145543197 and parameters: {'C': 0.29553289704214053, 'solver': 'lbfgs'}. Best is trial 1 with value: 0.183490193619139.\n",
      "[I 2024-05-27 11:58:38,150] Trial 5 finished with value: 0.14828492452857497 and parameters: {'C': 0.5909566331985502, 'solver': 'lbfgs'}. Best is trial 1 with value: 0.183490193619139.\n",
      "[I 2024-05-27 11:58:38,189] Trial 6 finished with value: 0.17053472393072097 and parameters: {'C': 3.9672683983918753, 'solver': 'lbfgs'}. Best is trial 1 with value: 0.183490193619139.\n",
      "[I 2024-05-27 11:58:38,253] Trial 7 finished with value: 0.20000059495956704 and parameters: {'C': 0.30247909359513403, 'solver': 'liblinear', 'penalty_liblinear': 'l1'}. Best is trial 7 with value: 0.20000059495956704.\n",
      "[I 2024-05-27 11:58:39,087] Trial 8 finished with value: 0.1836932838712894 and parameters: {'C': 2.805995092748907, 'solver': 'liblinear', 'penalty_liblinear': 'l1'}. Best is trial 7 with value: 0.20000059495956704.\n",
      "[I 2024-05-27 11:58:40,664] Trial 9 finished with value: 0.16442971517516738 and parameters: {'C': 87.26643547016891, 'solver': 'liblinear', 'penalty_liblinear': 'l1'}. Best is trial 7 with value: 0.20000059495956704.\n",
      "[I 2024-05-27 11:58:40,739] Trial 10 finished with value: 0.1629159129172153 and parameters: {'C': 70.2432522209505, 'solver': 'liblinear', 'penalty_liblinear': 'l2'}. Best is trial 7 with value: 0.20000059495956704.\n",
      "[I 2024-05-27 11:58:41,815] Trial 11 finished with value: 0.181667124946333 and parameters: {'C': 6.306122397838601, 'solver': 'liblinear', 'penalty_liblinear': 'l1'}. Best is trial 7 with value: 0.20000059495956704.\n",
      "[I 2024-05-27 11:58:43,391] Trial 12 finished with value: 0.1574982271812905 and parameters: {'C': 8.766999505005128, 'solver': 'liblinear', 'penalty_liblinear': 'l1'}. Best is trial 7 with value: 0.20000059495956704.\n",
      "[I 2024-05-27 11:58:43,425] Trial 13 finished with value: 0.2200148418291951 and parameters: {'C': 0.03161991072101085, 'solver': 'liblinear', 'penalty_liblinear': 'l1'}. Best is trial 13 with value: 0.2200148418291951.\n",
      "[I 2024-05-27 11:58:43,575] Trial 14 finished with value: 0.21998245673277142 and parameters: {'C': 0.010261332472971962, 'solver': 'saga', 'penalty_saga': 'l2'}. Best is trial 13 with value: 0.2200148418291951.\n"
     ]
    },
    {
     "name": "stdout",
     "output_type": "stream",
     "text": [
      "Best parameters: {'naive_bayes': {'alpha': 0.8733616081323008, 'binarize': 0.02549962075246186}, 'xgboost': {'n_estimators': 32, 'max_depth': 3, 'learning_rate': 0.0697850959009093}, 'random_forest': {'n_estimators': 36, 'max_depth': 6, 'min_samples_split': 6, 'min_samples_leaf': 4}, 'logistic_regression': {'C': 0.03161991072101085, 'solver': 'liblinear', 'penalty_liblinear': 'l1'}}\n"
     ]
    },
    {
     "data": {
      "image/png": "[encoded data removed]",
      "text/plain": [
       "<Figure size 1000x800 with 4 Axes>"
      ]
     },
     "metadata": {},
     "output_type": "display_data"
    },
    {
     "name": "stdout",
     "output_type": "stream",
     "text": [
      "Available steps in pipeline: {'upsample': SMOTE(), 'model': RandomForestClassifier(max_depth=6, min_samples_leaf=4, min_samples_split=6,\n",
      "                       n_estimators=36)}\n",
      "Available steps in pipeline: {'upsample': SMOTE(), 'model': LogisticRegression(C=0.03161991072101085, max_iter=10000, solver='liblinear')}\n",
      "Available steps in pipeline: {'upsample': SMOTE(), 'model': XGBClassifier(base_score=None, booster=None, callbacks=None,\n",
      "              colsample_bylevel=None, colsample_bynode=None,\n",
      "              colsample_bytree=None, device=None, early_stopping_rounds=None,\n",
      "              enable_categorical=False, eval_metric='logloss',\n",
      "              feature_types=None, gamma=None, grow_policy=None,\n",
      "              importance_type=None, interaction_constraints=None,\n",
      "              learning_rate=0.0697850959009093, max_bin=None,\n",
      "              max_cat_threshold=None, max_cat_to_onehot=None,\n",
      "              max_delta_step=None, max_depth=3, max_leaves=None,\n",
      "              min_child_weight=None, missing=nan, monotone_constraints=None,\n",
      "              multi_strategy=None, n_estimators=32, n_jobs=None,\n",
      "              num_parallel_tree=None, random_state=None, ...)}\n",
      "Available steps in pipeline: {'upsample': SMOTE(), 'model': BernoulliNB(alpha=0.8733616081323008, binarize=0.02549962075246186)}\n",
      "Features to keep: ['sum_Loan', 'sum_Salary', 'avg6Months_DirectDebit']\n",
      "Features to discard: ['avg_Loan', 'avg_Salary', 'avg3Months_DirectDebit']\n"
     ]
    },
    {
     "data": {
      "application/vnd.plotly.v1+json": {
       "config": {
        "plotlyServerURL": "https://plot.ly"
       },
       "data": [
        {
         "name": "RFS",
         "type": "bar",
         "x": [
          "avg3Months_Loan",
          "avg3Months_DebtCollection",
          "count_Loan",
          "DebtCollection_sum3Months",
          "avg6Months_DirectDebit",
          "trend_Loan",
          "Gambling_sum9Months",
          "DebtCollection_partOfSalary12Months",
          "sum_Loan",
          "avg3Months_Deposit",
          "CashWithdrawal_sum3Months",
          "avg6Months_Loan",
          "DebtCollection_sum9Months",
          "sum_Salary",
          "trend_Deposit",
          "DebtCollection_sum12Months",
          "Gambling_partOfSalary3Months",
          "DebtCollection_count9Months",
          "avg3Months_DirectDebit",
          "Gambling_sum12Months",
          "InstallmentPayment_count12Months",
          "trend_Salary",
          "avg_Salary",
          "trend_CashWithdrawal",
          "MoneyRemittance_monthlyAvg",
          "avg_Loan",
          "Crypto_count3Months",
          "avg_CashWithdrawal"
         ],
         "y": [
          0.11226751970970943,
          0.08986951731478043,
          0.05331974631050919,
          0.049972282905601594,
          0.009379752919248032,
          0.06915247190202255,
          0.046353727115372716,
          0.047522634738344144,
          0.046626312786208025,
          0.051432533096579566,
          0.03775548710297418,
          0.0168335753764379,
          0.04297314450032142,
          0.03659551178387726,
          0.034474173783111316,
          0.01620268361817555,
          0.017818096412578175,
          0.009791037285005449,
          0.006823992040304805,
          0.03559987267074478,
          0.029080361855407764,
          0.009881593516174209,
          0.02297445189508178,
          0.017283419960965288,
          0.021842054392094044,
          0.03370677572947174,
          0.015488626896401417,
          0.018978642382497198
         ]
        },
        {
         "name": "LG",
         "type": "bar",
         "x": [
          "avg3Months_Loan",
          "avg3Months_DebtCollection",
          "count_Loan",
          "DebtCollection_sum3Months",
          "avg6Months_DirectDebit",
          "trend_Loan",
          "Gambling_sum9Months",
          "DebtCollection_partOfSalary12Months",
          "sum_Loan",
          "avg3Months_Deposit",
          "CashWithdrawal_sum3Months",
          "avg6Months_Loan",
          "DebtCollection_sum9Months",
          "sum_Salary",
          "trend_Deposit",
          "DebtCollection_sum12Months",
          "Gambling_partOfSalary3Months",
          "DebtCollection_count9Months",
          "avg3Months_DirectDebit",
          "Gambling_sum12Months",
          "InstallmentPayment_count12Months",
          "trend_Salary",
          "avg_Salary",
          "trend_CashWithdrawal",
          "MoneyRemittance_monthlyAvg",
          "avg_Loan",
          "Crypto_count3Months",
          "avg_CashWithdrawal"
         ],
         "y": [
          0.004603303575437239,
          0.016469001819824,
          0.09096355253382236,
          0.08267831489660918,
          0.07152792194280666,
          0.06280537169139523,
          0.023154044514286987,
          0.032554948359392676,
          0.056098184025572324,
          0.018581955692561453,
          0.02935620640430212,
          0.04922139620077532,
          0.05033242658563244,
          0.06090374818473174,
          0.027103736046637277,
          0.08174089577152337,
          0.036270289255839055,
          0.0621708908791771,
          0.004901286226781874,
          0.017508758823692856,
          0.009255638677334015,
          0.017227504176368057,
          0.0393831337565816,
          0.019086087848216703,
          0.009899610921375776,
          0.020821558445116996,
          0.002472921591445432,
          0.0029073111527598556
         ]
        },
        {
         "name": "XGB",
         "type": "bar",
         "x": [
          "avg3Months_Loan",
          "avg3Months_DebtCollection",
          "count_Loan",
          "DebtCollection_sum3Months",
          "avg6Months_DirectDebit",
          "trend_Loan",
          "Gambling_sum9Months",
          "DebtCollection_partOfSalary12Months",
          "sum_Loan",
          "avg3Months_Deposit",
          "CashWithdrawal_sum3Months",
          "avg6Months_Loan",
          "DebtCollection_sum9Months",
          "sum_Salary",
          "trend_Deposit",
          "DebtCollection_sum12Months",
          "Gambling_partOfSalary3Months",
          "DebtCollection_count9Months",
          "avg3Months_DirectDebit",
          "Gambling_sum12Months",
          "InstallmentPayment_count12Months",
          "trend_Salary",
          "avg_Salary",
          "trend_CashWithdrawal",
          "MoneyRemittance_monthlyAvg",
          "avg_Loan",
          "Crypto_count3Months",
          "avg_CashWithdrawal"
         ],
         "y": [
          0.08109419549322891,
          0.10265725542726323,
          0.062017871066856814,
          0.05632073635575944,
          0.044349240669735696,
          0.0535010083341901,
          0.08413569376489509,
          0.04980721547614532,
          0.051270893166320115,
          0.06557459932306704,
          0.03381972658384016,
          0.030929117465890908,
          0.04044696567168958,
          0.021286466450906785,
          0.02188665354080072,
          0.022102817229166762,
          0.026957075233230668,
          0.014465300863137513,
          0.007592471088415763,
          0.011817216518237039,
          0.014146166428724427,
          0.0023524977025873484,
          0.010725549100060986,
          0.033296461148363654,
          0.022316736430195393,
          0,
          0.02510521485503467,
          0.010024854612255878
         ]
        },
        {
         "name": "Naive Bayes",
         "type": "bar",
         "x": [
          "avg3Months_Loan",
          "avg3Months_DebtCollection",
          "count_Loan",
          "DebtCollection_sum3Months",
          "avg6Months_DirectDebit",
          "trend_Loan",
          "Gambling_sum9Months",
          "DebtCollection_partOfSalary12Months",
          "sum_Loan",
          "avg3Months_Deposit",
          "CashWithdrawal_sum3Months",
          "avg6Months_Loan",
          "DebtCollection_sum9Months",
          "sum_Salary",
          "trend_Deposit",
          "DebtCollection_sum12Months",
          "Gambling_partOfSalary3Months",
          "DebtCollection_count9Months",
          "avg3Months_DirectDebit",
          "Gambling_sum12Months",
          "InstallmentPayment_count12Months",
          "trend_Salary",
          "avg_Salary",
          "trend_CashWithdrawal",
          "MoneyRemittance_monthlyAvg",
          "avg_Loan",
          "Crypto_count3Months",
          "avg_CashWithdrawal"
         ],
         "y": [
          0.12893988066517406,
          0.049345860711803566,
          0.036215665238513065,
          0.036491712094598734,
          0.07474217147174259,
          0.007921244826033496,
          0.03137758086605333,
          0.04490540615974471,
          0.008678270830258194,
          0.026721488603699186,
          0.059746939206223836,
          0.0624928789851876,
          0.008568157956916777,
          0.012279114723085195,
          0.046573157387236,
          0.0003066337653479168,
          0.036355600348384524,
          0.026651138712398395,
          0.09049978245060823,
          0.03428333724590869,
          0.04272608887485302,
          0.06094135801289057,
          0.01438043538935954,
          0.01720743047786638,
          0.031737741722609014,
          0.006461484581521118,
          0.0022619019398984973,
          0.0011875367520835997
         ]
        }
       ],
       "layout": {
        "barmode": "stack",
        "height": 800,
        "template": {
         "data": {
          "bar": [
           {
            "error_x": {
             "color": "#2a3f5f"
            },
            "error_y": {
             "color": "#2a3f5f"
            },
            "marker": {
             "line": {
              "color": "#E5ECF6",
              "width": 0.5
             },
             "pattern": {
              "fillmode": "overlay",
              "size": 10,
              "solidity": 0.2
             }
            },
            "type": "bar"
           }
          ],
          "barpolar": [
           {
            "marker": {
             "line": {
              "color": "#E5ECF6",
              "width": 0.5
             },
             "pattern": {
              "fillmode": "overlay",
              "size": 10,
              "solidity": 0.2
             }
            },
            "type": "barpolar"
           }
          ],
          "carpet": [
           {
            "aaxis": {
             "endlinecolor": "#2a3f5f",
             "gridcolor": "white",
             "linecolor": "white",
             "minorgridcolor": "white",
             "startlinecolor": "#2a3f5f"
            },
            "baxis": {
             "endlinecolor": "#2a3f5f",
             "gridcolor": "white",
             "linecolor": "white",
             "minorgridcolor": "white",
             "startlinecolor": "#2a3f5f"
            },
            "type": "carpet"
           }
          ],
          "choropleth": [
           {
            "colorbar": {
             "outlinewidth": 0,
             "ticks": ""
            },
            "type": "choropleth"
           }
          ],
          "contour": [
           {
            "colorbar": {
             "outlinewidth": 0,
             "ticks": ""
            },
            "colorscale": [
             [
              0,
              "#0d0887"
             ],
             [
              0.1111111111111111,
              "#46039f"
             ],
             [
              0.2222222222222222,
              "#7201a8"
             ],
             [
              0.3333333333333333,
              "#9c179e"
             ],
             [
              0.4444444444444444,
              "#bd3786"
             ],
             [
              0.5555555555555556,
              "#d8576b"
             ],
             [
              0.6666666666666666,
              "#ed7953"
             ],
             [
              0.7777777777777778,
              "#fb9f3a"
             ],
             [
              0.8888888888888888,
              "#fdca26"
             ],
             [
              1,
              "#f0f921"
             ]
            ],
            "type": "contour"
           }
          ],
          "contourcarpet": [
           {
            "colorbar": {
             "outlinewidth": 0,
             "ticks": ""
            },
            "type": "contourcarpet"
           }
          ],
          "heatmap": [
           {
            "colorbar": {
             "outlinewidth": 0,
             "ticks": ""
            },
            "colorscale": [
             [
              0,
              "#0d0887"
             ],
             [
              0.1111111111111111,
              "#46039f"
             ],
             [
              0.2222222222222222,
              "#7201a8"
             ],
             [
              0.3333333333333333,
              "#9c179e"
             ],
             [
              0.4444444444444444,
              "#bd3786"
             ],
             [
              0.5555555555555556,
              "#d8576b"
             ],
             [
              0.6666666666666666,
              "#ed7953"
             ],
             [
              0.7777777777777778,
              "#fb9f3a"
             ],
             [
              0.8888888888888888,
              "#fdca26"
             ],
             [
              1,
              "#f0f921"
             ]
            ],
            "type": "heatmap"
           }
          ],
          "heatmapgl": [
           {
            "colorbar": {
             "outlinewidth": 0,
             "ticks": ""
            },
            "colorscale": [
             [
              0,
              "#0d0887"
             ],
             [
              0.1111111111111111,
              "#46039f"
             ],
             [
              0.2222222222222222,
              "#7201a8"
             ],
             [
              0.3333333333333333,
              "#9c179e"
             ],
             [
              0.4444444444444444,
              "#bd3786"
             ],
             [
              0.5555555555555556,
              "#d8576b"
             ],
             [
              0.6666666666666666,
              "#ed7953"
             ],
             [
              0.7777777777777778,
              "#fb9f3a"
             ],
             [
              0.8888888888888888,
              "#fdca26"
             ],
             [
              1,
              "#f0f921"
             ]
            ],
            "type": "heatmapgl"
           }
          ],
          "histogram": [
           {
            "marker": {
             "pattern": {
              "fillmode": "overlay",
              "size": 10,
              "solidity": 0.2
             }
            },
            "type": "histogram"
           }
          ],
          "histogram2d": [
           {
            "colorbar": {
             "outlinewidth": 0,
             "ticks": ""
            },
            "colorscale": [
             [
              0,
              "#0d0887"
             ],
             [
              0.1111111111111111,
              "#46039f"
             ],
             [
              0.2222222222222222,
              "#7201a8"
             ],
             [
              0.3333333333333333,
              "#9c179e"
             ],
             [
              0.4444444444444444,
              "#bd3786"
             ],
             [
              0.5555555555555556,
              "#d8576b"
             ],
             [
              0.6666666666666666,
              "#ed7953"
             ],
             [
              0.7777777777777778,
              "#fb9f3a"
             ],
             [
              0.8888888888888888,
              "#fdca26"
             ],
             [
              1,
              "#f0f921"
             ]
            ],
            "type": "histogram2d"
           }
          ],
          "histogram2dcontour": [
           {
            "colorbar": {
             "outlinewidth": 0,
             "ticks": ""
            },
            "colorscale": [
             [
              0,
              "#0d0887"
             ],
             [
              0.1111111111111111,
              "#46039f"
             ],
             [
              0.2222222222222222,
              "#7201a8"
             ],
             [
              0.3333333333333333,
              "#9c179e"
             ],
             [
              0.4444444444444444,
              "#bd3786"
             ],
             [
              0.5555555555555556,
              "#d8576b"
             ],
             [
              0.6666666666666666,
              "#ed7953"
             ],
             [
              0.7777777777777778,
              "#fb9f3a"
             ],
             [
              0.8888888888888888,
              "#fdca26"
             ],
             [
              1,
              "#f0f921"
             ]
            ],
            "type": "histogram2dcontour"
           }
          ],
          "mesh3d": [
           {
            "colorbar": {
             "outlinewidth": 0,
             "ticks": ""
            },
            "type": "mesh3d"
           }
          ],
          "parcoords": [
           {
            "line": {
             "colorbar": {
              "outlinewidth": 0,
              "ticks": ""
             }
            },
            "type": "parcoords"
           }
          ],
          "pie": [
           {
            "automargin": true,
            "type": "pie"
           }
          ],
          "scatter": [
           {
            "fillpattern": {
             "fillmode": "overlay",
             "size": 10,
             "solidity": 0.2
            },
            "type": "scatter"
           }
          ],
          "scatter3d": [
           {
            "line": {
             "colorbar": {
              "outlinewidth": 0,
              "ticks": ""
             }
            },
            "marker": {
             "colorbar": {
              "outlinewidth": 0,
              "ticks": ""
             }
            },
            "type": "scatter3d"
           }
          ],
          "scattercarpet": [
           {
            "marker": {
             "colorbar": {
              "outlinewidth": 0,
              "ticks": ""
             }
            },
            "type": "scattercarpet"
           }
          ],
          "scattergeo": [
           {
            "marker": {
             "colorbar": {
              "outlinewidth": 0,
              "ticks": ""
             }
            },
            "type": "scattergeo"
           }
          ],
          "scattergl": [
           {
            "marker": {
             "colorbar": {
              "outlinewidth": 0,
              "ticks": ""
             }
            },
            "type": "scattergl"
           }
          ],
          "scattermapbox": [
           {
            "marker": {
             "colorbar": {
              "outlinewidth": 0,
              "ticks": ""
             }
            },
            "type": "scattermapbox"
           }
          ],
          "scatterpolar": [
           {
            "marker": {
             "colorbar": {
              "outlinewidth": 0,
              "ticks": ""
             }
            },
            "type": "scatterpolar"
           }
          ],
          "scatterpolargl": [
           {
            "marker": {
             "colorbar": {
              "outlinewidth": 0,
              "ticks": ""
             }
            },
            "type": "scatterpolargl"
           }
          ],
          "scatterternary": [
           {
            "marker": {
             "colorbar": {
              "outlinewidth": 0,
              "ticks": ""
             }
            },
            "type": "scatterternary"
           }
          ],
          "surface": [
           {
            "colorbar": {
             "outlinewidth": 0,
             "ticks": ""
            },
            "colorscale": [
             [
              0,
              "#0d0887"
             ],
             [
              0.1111111111111111,
              "#46039f"
             ],
             [
              0.2222222222222222,
              "#7201a8"
             ],
             [
              0.3333333333333333,
              "#9c179e"
             ],
             [
              0.4444444444444444,
              "#bd3786"
             ],
             [
              0.5555555555555556,
              "#d8576b"
             ],
             [
              0.6666666666666666,
              "#ed7953"
             ],
             [
              0.7777777777777778,
              "#fb9f3a"
             ],
             [
              0.8888888888888888,
              "#fdca26"
             ],
             [
              1,
              "#f0f921"
             ]
            ],
            "type": "surface"
           }
          ],
          "table": [
           {
            "cells": {
             "fill": {
              "color": "#EBF0F8"
             },
             "line": {
              "color": "white"
             }
            },
            "header": {
             "fill": {
              "color": "#C8D4E3"
             },
             "line": {
              "color": "white"
             }
            },
            "type": "table"
           }
          ]
         },
         "layout": {
          "annotationdefaults": {
           "arrowcolor": "#2a3f5f",
           "arrowhead": 0,
           "arrowwidth": 1
          },
          "autotypenumbers": "strict",
          "coloraxis": {
           "colorbar": {
            "outlinewidth": 0,
            "ticks": ""
           }
          },
          "colorscale": {
           "diverging": [
            [
             0,
             "#8e0152"
            ],
            [
             0.1,
             "#c51b7d"
            ],
            [
             0.2,
             "#de77ae"
            ],
            [
             0.3,
             "#f1b6da"
            ],
            [
             0.4,
             "#fde0ef"
            ],
            [
             0.5,
             "#f7f7f7"
            ],
            [
             0.6,
             "#e6f5d0"
            ],
            [
             0.7,
             "#b8e186"
            ],
            [
             0.8,
             "#7fbc41"
            ],
            [
             0.9,
             "#4d9221"
            ],
            [
             1,
             "#276419"
            ]
           ],
           "sequential": [
            [
             0,
             "#0d0887"
            ],
            [
             0.1111111111111111,
             "#46039f"
            ],
            [
             0.2222222222222222,
             "#7201a8"
            ],
            [
             0.3333333333333333,
             "#9c179e"
            ],
            [
             0.4444444444444444,
             "#bd3786"
            ],
            [
             0.5555555555555556,
             "#d8576b"
            ],
            [
             0.6666666666666666,
             "#ed7953"
            ],
            [
             0.7777777777777778,
             "#fb9f3a"
            ],
            [
             0.8888888888888888,
             "#fdca26"
            ],
            [
             1,
             "#f0f921"
            ]
           ],
           "sequentialminus": [
            [
             0,
             "#0d0887"
            ],
            [
             0.1111111111111111,
             "#46039f"
            ],
            [
             0.2222222222222222,
             "#7201a8"
            ],
            [
             0.3333333333333333,
             "#9c179e"
            ],
            [
             0.4444444444444444,
             "#bd3786"
            ],
            [
             0.5555555555555556,
             "#d8576b"
            ],
            [
             0.6666666666666666,
             "#ed7953"
            ],
            [
             0.7777777777777778,
             "#fb9f3a"
            ],
            [
             0.8888888888888888,
             "#fdca26"
            ],
            [
             1,
             "#f0f921"
            ]
           ]
          },
          "colorway": [
           "#636efa",
           "#EF553B",
           "#00cc96",
           "#ab63fa",
           "#FFA15A",
           "#19d3f3",
           "#FF6692",
           "#B6E880",
           "#FF97FF",
           "#FECB52"
          ],
          "font": {
           "color": "#2a3f5f"
          },
          "geo": {
           "bgcolor": "white",
           "lakecolor": "white",
           "landcolor": "#E5ECF6",
           "showlakes": true,
           "showland": true,
           "subunitcolor": "white"
          },
          "hoverlabel": {
           "align": "left"
          },
          "hovermode": "closest",
          "mapbox": {
           "style": "light"
          },
          "paper_bgcolor": "white",
          "plot_bgcolor": "#E5ECF6",
          "polar": {
           "angularaxis": {
            "gridcolor": "white",
            "linecolor": "white",
            "ticks": ""
           },
           "bgcolor": "#E5ECF6",
           "radialaxis": {
            "gridcolor": "white",
            "linecolor": "white",
            "ticks": ""
           }
          },
          "scene": {
           "xaxis": {
            "backgroundcolor": "#E5ECF6",
            "gridcolor": "white",
            "gridwidth": 2,
            "linecolor": "white",
            "showbackground": true,
            "ticks": "",
            "zerolinecolor": "white"
           },
           "yaxis": {
            "backgroundcolor": "#E5ECF6",
            "gridcolor": "white",
            "gridwidth": 2,
            "linecolor": "white",
            "showbackground": true,
            "ticks": "",
            "zerolinecolor": "white"
           },
           "zaxis": {
            "backgroundcolor": "#E5ECF6",
            "gridcolor": "white",
            "gridwidth": 2,
            "linecolor": "white",
            "showbackground": true,
            "ticks": "",
            "zerolinecolor": "white"
           }
          },
          "shapedefaults": {
           "line": {
            "color": "#2a3f5f"
           }
          },
          "ternary": {
           "aaxis": {
            "gridcolor": "white",
            "linecolor": "white",
            "ticks": ""
           },
           "baxis": {
            "gridcolor": "white",
            "linecolor": "white",
            "ticks": ""
           },
           "bgcolor": "#E5ECF6",
           "caxis": {
            "gridcolor": "white",
            "linecolor": "white",
            "ticks": ""
           }
          },
          "title": {
           "x": 0.05
          },
          "xaxis": {
           "automargin": true,
           "gridcolor": "white",
           "linecolor": "white",
           "ticks": "",
           "title": {
            "standoff": 15
           },
           "zerolinecolor": "white",
           "zerolinewidth": 2
          },
          "yaxis": {
           "automargin": true,
           "gridcolor": "white",
           "linecolor": "white",
           "ticks": "",
           "title": {
            "standoff": 15
           },
           "zerolinecolor": "white",
           "zerolinewidth": 2
          }
         }
        },
        "title": {
         "text": "Normalized Feature Importances by Algorithm"
        },
        "width": 2800,
        "xaxis": {
         "categoryorder": "total descending",
         "tickangle": 50,
         "title": {
          "text": "Features"
         }
        },
        "yaxis": {
         "title": {
          "text": "Importance"
         }
        }
       }
      }
     },
     "metadata": {},
     "output_type": "display_data"
    },
    {
     "name": "stdout",
     "output_type": "stream",
     "text": [
      "Non-zero features: ['avg3Months_Loan', 'avg3Months_DebtCollection', 'count_Loan', 'DebtCollection_sum3Months', 'avg6Months_DirectDebit', 'trend_Loan', 'Gambling_sum9Months', 'DebtCollection_partOfSalary12Months', 'sum_Loan', 'avg3Months_Deposit', 'CashWithdrawal_sum3Months', 'avg6Months_Loan', 'DebtCollection_sum9Months', 'sum_Salary', 'trend_Deposit', 'DebtCollection_sum12Months', 'Gambling_partOfSalary3Months', 'DebtCollection_count9Months', 'avg3Months_DirectDebit', 'Gambling_sum12Months', 'InstallmentPayment_count12Months', 'trend_Salary', 'avg_Salary', 'trend_CashWithdrawal', 'MoneyRemittance_monthlyAvg', 'avg_Loan', 'Crypto_count3Months', 'avg_CashWithdrawal']\n"
     ]
    }
   ],
   "source": [
    "features_list2 = ['Ever90','avg3Months_Loan', 'avg3Months_DebtCollection', 'avg6Months_Loan', 'DebtCollection_sum3Months', 'count_Loan', 'trend_Loan', 'DebtCollection_partOfSalary12Months', 'avg3Months_Deposit', 'sum_Loan', 'sum_Salary', 'DebtCollection_sum12Months','avg_Salary', 'avg_CashWithdrawal', 'avg3Months_DirectDebit','avg_Loan',\n",
    "'InstallmentPayment_count12Months','DebtCollection_count9Months','trend_Salary', 'trend_CashWithdrawal','avg6Months_DirectDebit', 'DebtCollection_sum9Months', 'Gambling_sum12Months', 'Gambling_sum9Months', 'Crypto_count3Months', 'trend_Deposit', 'CashWithdrawal_sum3Months', 'Gambling_partOfSalary3Months','MoneyRemittance_monthlyAvg']\n",
    "\n",
    "\n",
    "forforsta = base[features_list2]\n",
    "\n",
    "preprocessor = DataPreprocessor(forforsta)\n",
    "\n",
    "(Xtrain, Ytrain), (Xtest, Ytest), train_upsampled,  = preprocessor.get_split_data_with_upsample_and_scaling(0.7,upsample= False)\n",
    "\n",
    "\n",
    "models = ['naive_bayes', 'xgboost', 'random_forest', 'logistic_regression']\n",
    "\n",
    "\n",
    "optimizer = ModelOptimizer(models, Xtrain, Ytrain, n_trials=iterations, early_stopping_rounds=10)\n",
    "best_params, best_models = optimizer.run_models()\n",
    "print(\"Best parameters:\", best_params)\n",
    "\n",
    "evaluator = ModelEvaluator(Xtrain, Ytrain, Xtest, Ytest, best_models)\n",
    "evaluator.evaluate_models()\n",
    "evaluator.plot_roc_curves()\n",
    "\n",
    "\n",
    "feature_importance = FeatureImportance(train_upsampled, best_models, forforsta, run_correlation_cluster=True)\n",
    "feature_importance.calculate_importances()\n",
    "feature_importance.calculate_cumulative_importance()\n",
    "features_to_keep, features_to_discard = feature_importance.find_highly_correlated_features()\n",
    "\n",
    "print(\"Features to keep:\", features_to_keep)\n",
    "print(\"Features to discard:\", features_to_discard)\n",
    "\n",
    "sorted_features, non_zero_features = feature_importance.plot_importances()\n",
    "\n",
    "# Filter away highly correlated features and take away the absolute worst\n",
    "filtered_list = [item for item in sorted_features if item not in features_to_discard]\n",
    "SelectionOne = filtered_list[:40]\n",
    "\n",
    "print(\"Non-zero features:\", non_zero_features)\n",
    "\n"
   ]
  },
  {
   "cell_type": "markdown",
   "metadata": {},
   "source": [
    "## Try only thoise that are quite high"
   ]
  },
  {
   "cell_type": "code",
   "execution_count": 9,
   "metadata": {},
   "outputs": [],
   "source": [
    "features_list_NB_Reduced =  ['Ever90','avg3Months_Loan', 'DebtCollection_sum3Months', 'avg3Months_DebtCollection', 'avg3Months_Deposit', 'Gambling_sum9Months', 'avg6Months_DirectDebit', 'count_Loan','CashWithdrawal_sum3Months','Gambling_sum12Months', 'avg3Months_DirectDebit', 'trend_Deposit','trend_Salary', 'MoneyRemittance_monthlyAvg']"
   ]
  },
  {
   "cell_type": "code",
   "execution_count": 10,
   "metadata": {},
   "outputs": [
    {
     "name": "stderr",
     "output_type": "stream",
     "text": [
      "[I 2024-05-27 11:58:44,686] A new study created in memory with name: no-name-602e425f-6a69-440c-8beb-baa13ba4ecc1\n",
      "[I 2024-05-27 11:58:44,686] A new study created in memory with name: no-name-8c6e343a-01b0-4028-a3b7-07b2229ee846\n",
      "[I 2024-05-27 11:58:44,687] A new study created in memory with name: no-name-0a3308f0-e9a5-4374-8487-07bcf9e0e4a4\n",
      "[I 2024-05-27 11:58:44,687] A new study created in memory with name: no-name-7001d52d-01a7-4240-9240-31c5f5bf534d\n",
      "[I 2024-05-27 11:58:44,746] Trial 0 finished with value: -0.046131798016051086 and parameters: {'nb_type': 'gaussian'}. Best is trial 0 with value: -0.046131798016051086.\n",
      "[I 2024-05-27 11:58:44,772] Trial 1 finished with value: -0.04792132383327626 and parameters: {'nb_type': 'gaussian'}. Best is trial 0 with value: -0.046131798016051086.\n",
      "[I 2024-05-27 11:58:44,781] Trial 0 finished with value: 0.20345767988280908 and parameters: {'C': 2.350260857791645, 'solver': 'liblinear', 'penalty_liblinear': 'l1'}. Best is trial 0 with value: 0.20345767988280908.\n",
      "[I 2024-05-27 11:58:44,803] Trial 2 finished with value: 0.18169622972514476 and parameters: {'nb_type': 'bernoulli', 'alpha': 0.06742177806912518, 'binarize': 0.10777322514126426}. Best is trial 2 with value: 0.18169622972514476.\n",
      "[I 2024-05-27 11:58:44,829] Trial 3 finished with value: -0.05796416896208493 and parameters: {'nb_type': 'gaussian'}. Best is trial 2 with value: 0.18169622972514476.\n",
      "[I 2024-05-27 11:58:44,848] Trial 4 finished with value: -0.05266239582177575 and parameters: {'nb_type': 'gaussian'}. Best is trial 2 with value: 0.18169622972514476.\n"
     ]
    },
    {
     "name": "stdout",
     "output_type": "stream",
     "text": [
      "Binary Split: Ever90\n",
      "0    3170\n",
      "1     323\n",
      "Name: count, dtype: int64\n"
     ]
    },
    {
     "name": "stderr",
     "output_type": "stream",
     "text": [
      "[I 2024-05-27 11:58:44,872] Trial 5 finished with value: 0.19390604623639832 and parameters: {'nb_type': 'bernoulli', 'alpha': 0.0014501576948094852, 'binarize': 0.37588665188855647}. Best is trial 5 with value: 0.19390604623639832.\n",
      "[I 2024-05-27 11:58:44,915] Trial 6 finished with value: -0.047385345663468414 and parameters: {'nb_type': 'gaussian'}. Best is trial 5 with value: 0.19390604623639832.\n",
      "[I 2024-05-27 11:58:44,937] Trial 7 finished with value: 0.21806378448956484 and parameters: {'nb_type': 'bernoulli', 'alpha': 0.3078357897778339, 'binarize': 0.026990993308908785}. Best is trial 7 with value: 0.21806378448956484.\n",
      "[I 2024-05-27 11:58:44,958] Trial 8 finished with value: -0.04734776673082586 and parameters: {'nb_type': 'gaussian'}. Best is trial 7 with value: 0.21806378448956484.\n",
      "[I 2024-05-27 11:58:44,966] Trial 0 finished with value: 0.2543427545984747 and parameters: {'n_estimators': 28, 'max_depth': 3, 'min_samples_split': 5, 'min_samples_leaf': 4}. Best is trial 0 with value: 0.2543427545984747.\n",
      "[I 2024-05-27 11:58:44,989] Trial 9 finished with value: -0.04510640128253981 and parameters: {'nb_type': 'gaussian'}. Best is trial 7 with value: 0.21806378448956484.\n",
      "[I 2024-05-27 11:58:45,014] Trial 10 finished with value: 0.2154233217718217 and parameters: {'nb_type': 'bernoulli', 'alpha': 0.9315720977205045, 'binarize': 0.0016022276927039072}. Best is trial 7 with value: 0.21806378448956484.\n",
      "[I 2024-05-27 11:58:45,037] Trial 11 finished with value: 0.2135411269820596 and parameters: {'nb_type': 'bernoulli', 'alpha': 0.8321400393499196, 'binarize': 0.0013882977389877672}. Best is trial 7 with value: 0.21806378448956484.\n",
      "[I 2024-05-27 11:58:45,060] Trial 12 finished with value: 0.21431487993876738 and parameters: {'nb_type': 'bernoulli', 'alpha': 0.7795850633328076, 'binarize': 0.0028707442547409347}. Best is trial 7 with value: 0.21806378448956484.\n",
      "[I 2024-05-27 11:58:45,206] Trial 1 finished with value: 0.18480209554407448 and parameters: {'C': 23.575988217675544, 'solver': 'saga', 'penalty_saga': None}. Best is trial 0 with value: 0.20345767988280908.\n",
      "[I 2024-05-27 11:58:45,214] Trial 1 finished with value: 0.24830454211429331 and parameters: {'n_estimators': 28, 'max_depth': 6, 'min_samples_split': 3, 'min_samples_leaf': 4}. Best is trial 0 with value: 0.2543427545984747.\n",
      "[I 2024-05-27 11:58:45,257] Trial 0 finished with value: 0.18108220733215305 and parameters: {'n_estimators': 25, 'max_depth': 7, 'learning_rate': 0.020950041577772548}. Best is trial 0 with value: 0.18108220733215305.\n",
      "[I 2024-05-27 11:58:45,356] Trial 2 finished with value: 0.2469374054295689 and parameters: {'n_estimators': 20, 'max_depth': 5, 'min_samples_split': 3, 'min_samples_leaf': 3}. Best is trial 0 with value: 0.2543427545984747.\n",
      "[I 2024-05-27 11:58:45,470] Trial 2 finished with value: 0.1846550118911514 and parameters: {'C': 0.0412922321182077, 'solver': 'sag'}. Best is trial 0 with value: 0.20345767988280908.\n",
      "[I 2024-05-27 11:58:45,577] Trial 3 finished with value: 0.23220317547608826 and parameters: {'n_estimators': 24, 'max_depth': 8, 'min_samples_split': 5, 'min_samples_leaf': 3}. Best is trial 0 with value: 0.2543427545984747.\n",
      "[I 2024-05-27 11:58:45,616] Trial 1 finished with value: 0.23208720660051352 and parameters: {'n_estimators': 36, 'max_depth': 3, 'learning_rate': 0.11987799597043858}. Best is trial 1 with value: 0.23208720660051352.\n",
      "[I 2024-05-27 11:58:45,851] Trial 4 finished with value: 0.23635574401301848 and parameters: {'n_estimators': 29, 'max_depth': 7, 'min_samples_split': 3, 'min_samples_leaf': 1}. Best is trial 0 with value: 0.2543427545984747.\n",
      "[I 2024-05-27 11:58:45,916] Trial 3 finished with value: 0.2106212825077063 and parameters: {'C': 0.5930812432357121, 'solver': 'saga', 'penalty_saga': 'l1'}. Best is trial 3 with value: 0.2106212825077063.\n",
      "[I 2024-05-27 11:58:45,947] Trial 4 finished with value: 0.19788747545791785 and parameters: {'C': 4.582324316504621, 'solver': 'lbfgs'}. Best is trial 3 with value: 0.2106212825077063.\n",
      "[I 2024-05-27 11:58:46,076] Trial 5 finished with value: 0.16624729253197104 and parameters: {'n_estimators': 20, 'max_depth': 12, 'min_samples_split': 3, 'min_samples_leaf': 1}. Best is trial 0 with value: 0.2543427545984747.\n",
      "[I 2024-05-27 11:58:46,328] Trial 6 finished with value: 0.2418258103108101 and parameters: {'n_estimators': 39, 'max_depth': 5, 'min_samples_split': 4, 'min_samples_leaf': 3}. Best is trial 0 with value: 0.2543427545984747.\n",
      "[I 2024-05-27 11:58:46,391] Trial 5 finished with value: 0.20267961748923846 and parameters: {'C': 66.24804714545817, 'solver': 'saga', 'penalty_saga': 'l1'}. Best is trial 3 with value: 0.2106212825077063.\n",
      "[I 2024-05-27 11:58:46,410] Trial 6 finished with value: 0.23473208327504338 and parameters: {'C': 0.012489699279400432, 'solver': 'liblinear', 'penalty_liblinear': 'l1'}. Best is trial 6 with value: 0.23473208327504338.\n",
      "[I 2024-05-27 11:58:46,419] Trial 2 finished with value: 0.2172534093595182 and parameters: {'n_estimators': 30, 'max_depth': 8, 'learning_rate': 0.04150900398649274}. Best is trial 1 with value: 0.23208720660051352.\n",
      "[I 2024-05-27 11:58:46,450] Trial 7 finished with value: 0.21352976647032995 and parameters: {'C': 0.03749429102696439, 'solver': 'liblinear', 'penalty_liblinear': 'l2'}. Best is trial 6 with value: 0.23473208327504338.\n",
      "[I 2024-05-27 11:58:46,601] Trial 7 finished with value: 0.22014878813168223 and parameters: {'n_estimators': 25, 'max_depth': 10, 'min_samples_split': 6, 'min_samples_leaf': 4}. Best is trial 0 with value: 0.2543427545984747.\n",
      "[I 2024-05-27 11:58:46,695] Trial 8 finished with value: 0.20498698324947617 and parameters: {'C': 0.21766706282840106, 'solver': 'saga', 'penalty_saga': 'l2'}. Best is trial 6 with value: 0.23473208327504338.\n",
      "[I 2024-05-27 11:58:46,836] Trial 8 finished with value: 0.2198366433989237 and parameters: {'n_estimators': 24, 'max_depth': 10, 'min_samples_split': 2, 'min_samples_leaf': 4}. Best is trial 0 with value: 0.2543427545984747.\n",
      "[I 2024-05-27 11:58:47,007] Trial 9 finished with value: 0.19552418349839437 and parameters: {'C': 0.008085666914610568, 'solver': 'sag'}. Best is trial 6 with value: 0.23473208327504338.\n",
      "[I 2024-05-27 11:58:47,028] Trial 10 finished with value: 0.0 and parameters: {'C': 0.0020022609752594045, 'solver': 'liblinear', 'penalty_liblinear': 'l1'}. Best is trial 6 with value: 0.23473208327504338.\n",
      "[I 2024-05-27 11:58:47,056] Trial 11 finished with value: 0.21420498125877363 and parameters: {'C': 0.037106937838522674, 'solver': 'liblinear', 'penalty_liblinear': 'l2'}. Best is trial 6 with value: 0.23473208327504338.\n",
      "[I 2024-05-27 11:58:47,089] Trial 12 finished with value: 0.22563254653950615 and parameters: {'C': 0.0012088419510477334, 'solver': 'liblinear', 'penalty_liblinear': 'l2'}. Best is trial 6 with value: 0.23473208327504338.\n",
      "[I 2024-05-27 11:58:47,112] Trial 13 finished with value: 0.0 and parameters: {'C': 0.0010820637064823766, 'solver': 'liblinear', 'penalty_liblinear': 'l1'}. Best is trial 6 with value: 0.23473208327504338.\n",
      "[I 2024-05-27 11:58:47,137] Trial 14 finished with value: 0.219729759716735 and parameters: {'C': 0.0065401632986028324, 'solver': 'lbfgs'}. Best is trial 6 with value: 0.23473208327504338.\n",
      "[I 2024-05-27 11:58:47,162] Trial 15 finished with value: 0.21827905533284783 and parameters: {'C': 0.006061564519779368, 'solver': 'liblinear', 'penalty_liblinear': 'l2'}. Best is trial 6 with value: 0.23473208327504338.\n",
      "[I 2024-05-27 11:58:47,198] Trial 16 finished with value: 0.22067997446497864 and parameters: {'C': 0.14002451569529678, 'solver': 'liblinear', 'penalty_liblinear': 'l1'}. Best is trial 6 with value: 0.23473208327504338.\n",
      "[I 2024-05-27 11:58:47,211] Trial 9 finished with value: 0.24275397135510887 and parameters: {'n_estimators': 38, 'max_depth': 7, 'min_samples_split': 4, 'min_samples_leaf': 1}. Best is trial 0 with value: 0.2543427545984747.\n",
      "[I 2024-05-27 11:58:47,243] Trial 17 finished with value: 0.22872188213046982 and parameters: {'C': 0.0028101084209936115, 'solver': 'liblinear', 'penalty_liblinear': 'l2'}. Best is trial 6 with value: 0.23473208327504338.\n",
      "[I 2024-05-27 11:58:47,400] Trial 10 finished with value: 0.26067991818501945 and parameters: {'n_estimators': 34, 'max_depth': 3, 'min_samples_split': 8, 'min_samples_leaf': 2}. Best is trial 10 with value: 0.26067991818501945.\n",
      "[I 2024-05-27 11:58:47,575] Trial 11 finished with value: 0.24852099483671575 and parameters: {'n_estimators': 34, 'max_depth': 3, 'min_samples_split': 8, 'min_samples_leaf': 2}. Best is trial 10 with value: 0.26067991818501945.\n",
      "[I 2024-05-27 11:58:47,607] Trial 3 finished with value: 0.18784165553127474 and parameters: {'n_estimators': 31, 'max_depth': 14, 'learning_rate': 0.10311326339634658}. Best is trial 1 with value: 0.23208720660051352.\n",
      "[I 2024-05-27 11:58:47,695] Trial 18 finished with value: 0.19921568249098312 and parameters: {'C': 0.01495066257446748, 'solver': 'sag'}. Best is trial 6 with value: 0.23473208327504338.\n",
      "[I 2024-05-27 11:58:47,734] Trial 19 finished with value: 0.19998440241135507 and parameters: {'C': 0.0034153341488728966, 'solver': 'lbfgs'}. Best is trial 6 with value: 0.23473208327504338.\n",
      "[I 2024-05-27 11:58:47,780] Trial 12 finished with value: 0.2643604425855978 and parameters: {'n_estimators': 34, 'max_depth': 3, 'min_samples_split': 8, 'min_samples_leaf': 2}. Best is trial 12 with value: 0.2643604425855978.\n",
      "[I 2024-05-27 11:58:47,910] Trial 4 finished with value: 0.15993650012622793 and parameters: {'n_estimators': 34, 'max_depth': 4, 'learning_rate': 0.2116327967077418}. Best is trial 1 with value: 0.23208720660051352.\n",
      "[I 2024-05-27 11:58:47,954] Trial 13 finished with value: 0.27099103379852746 and parameters: {'n_estimators': 34, 'max_depth': 3, 'min_samples_split': 8, 'min_samples_leaf': 2}. Best is trial 13 with value: 0.27099103379852746.\n",
      "[I 2024-05-27 11:58:48,149] Trial 14 finished with value: 0.2512248931082779 and parameters: {'n_estimators': 34, 'max_depth': 4, 'min_samples_split': 7, 'min_samples_leaf': 2}. Best is trial 13 with value: 0.27099103379852746.\n",
      "[I 2024-05-27 11:58:48,538] Trial 5 finished with value: 0.12832346826051513 and parameters: {'n_estimators': 38, 'max_depth': 12, 'learning_rate': 0.013127423772517851}. Best is trial 1 with value: 0.23208720660051352.\n",
      "[I 2024-05-27 11:58:48,807] Trial 6 finished with value: 0.1674710680810625 and parameters: {'n_estimators': 29, 'max_depth': 9, 'learning_rate': 0.25473456610569456}. Best is trial 1 with value: 0.23208720660051352.\n",
      "[I 2024-05-27 11:58:49,251] Trial 7 finished with value: 0.15262546008866487 and parameters: {'n_estimators': 40, 'max_depth': 13, 'learning_rate': 0.22836225978188368}. Best is trial 1 with value: 0.23208720660051352.\n",
      "[I 2024-05-27 11:58:49,553] Trial 8 finished with value: 0.18957113063221684 and parameters: {'n_estimators': 25, 'max_depth': 13, 'learning_rate': 0.094852770266307}. Best is trial 1 with value: 0.23208720660051352.\n",
      "[I 2024-05-27 11:58:49,737] Trial 9 finished with value: 0.2195039484411255 and parameters: {'n_estimators': 37, 'max_depth': 6, 'learning_rate': 0.03929909617820219}. Best is trial 1 with value: 0.23208720660051352.\n",
      "[I 2024-05-27 11:58:49,811] Trial 10 finished with value: 0.2404579580666065 and parameters: {'n_estimators': 21, 'max_depth': 3, 'learning_rate': 0.1042158952842895}. Best is trial 10 with value: 0.2404579580666065.\n",
      "[I 2024-05-27 11:58:49,889] Trial 11 finished with value: 0.2421625011456993 and parameters: {'n_estimators': 20, 'max_depth': 3, 'learning_rate': 0.09305422947098864}. Best is trial 11 with value: 0.2421625011456993.\n",
      "[I 2024-05-27 11:58:49,988] Trial 12 finished with value: 0.2036256996804906 and parameters: {'n_estimators': 20, 'max_depth': 5, 'learning_rate': 0.0633766882324129}. Best is trial 11 with value: 0.2421625011456993.\n",
      "[I 2024-05-27 11:58:50,056] Trial 13 finished with value: 0.24783667877489787 and parameters: {'n_estimators': 20, 'max_depth': 3, 'learning_rate': 0.14531985665513844}. Best is trial 13 with value: 0.24783667877489787.\n",
      "[I 2024-05-27 11:58:50,160] Trial 14 finished with value: 0.22506687667131375 and parameters: {'n_estimators': 23, 'max_depth': 5, 'learning_rate': 0.16316414787603203}. Best is trial 13 with value: 0.24783667877489787.\n"
     ]
    },
    {
     "name": "stdout",
     "output_type": "stream",
     "text": [
      "Best parameters: {'naive_bayes': {'alpha': 0.3078357897778339, 'binarize': 0.026990993308908785}, 'xgboost': {'n_estimators': 20, 'max_depth': 3, 'learning_rate': 0.14531985665513844}, 'random_forest': {'n_estimators': 34, 'max_depth': 3, 'min_samples_split': 8, 'min_samples_leaf': 2}, 'logistic_regression': {'C': 0.012489699279400432, 'solver': 'liblinear', 'penalty_liblinear': 'l1'}}\n"
     ]
    },
    {
     "data": {
      "image/png": "[encoded data removed]",
      "text/plain": [
       "<Figure size 1000x800 with 4 Axes>"
      ]
     },
     "metadata": {},
     "output_type": "display_data"
    },
    {
     "name": "stdout",
     "output_type": "stream",
     "text": [
      "Available steps in pipeline: {'upsample': SMOTE(), 'model': RandomForestClassifier(max_depth=3, min_samples_leaf=2, min_samples_split=8,\n",
      "                       n_estimators=34)}\n",
      "Available steps in pipeline: {'upsample': SMOTE(), 'model': LogisticRegression(C=0.012489699279400432, max_iter=10000, solver='liblinear')}\n",
      "Available steps in pipeline: {'upsample': SMOTE(), 'model': XGBClassifier(base_score=None, booster=None, callbacks=None,\n",
      "              colsample_bylevel=None, colsample_bynode=None,\n",
      "              colsample_bytree=None, device=None, early_stopping_rounds=None,\n",
      "              enable_categorical=False, eval_metric='logloss',\n",
      "              feature_types=None, gamma=None, grow_policy=None,\n",
      "              importance_type=None, interaction_constraints=None,\n",
      "              learning_rate=0.14531985665513844, max_bin=None,\n",
      "              max_cat_threshold=None, max_cat_to_onehot=None,\n",
      "              max_delta_step=None, max_depth=3, max_leaves=None,\n",
      "              min_child_weight=None, missing=nan, monotone_constraints=None,\n",
      "              multi_strategy=None, n_estimators=20, n_jobs=None,\n",
      "              num_parallel_tree=None, random_state=None, ...)}\n",
      "Available steps in pipeline: {'upsample': SMOTE(), 'model': BernoulliNB(alpha=0.3078357897778339, binarize=0.026990993308908785)}\n"
     ]
    }
   ],
   "source": [
    "\n",
    "forforsta = base[features_list_NB_Reduced]\n",
    "\n",
    "preprocessor = DataPreprocessor(forforsta)\n",
    "\n",
    "(Xtrain, Ytrain), (Xtest, Ytest), train_upsampled,  = preprocessor.get_split_data_with_upsample_and_scaling(0.7,upsample= False)\n",
    "\n",
    "\n",
    "models = ['naive_bayes', 'xgboost', 'random_forest', 'logistic_regression']\n",
    "\n",
    "\n",
    "optimizer = ModelOptimizer(models, Xtrain, Ytrain, n_trials=iterations, early_stopping_rounds=10)\n",
    "best_params, best_models = optimizer.run_models()\n",
    "print(\"Best parameters:\", best_params)\n",
    "\n",
    "evaluator = ModelEvaluator(Xtrain, Ytrain, Xtest, Ytest, best_models)\n",
    "evaluator.evaluate_models()\n",
    "evaluator.plot_roc_curves()\n",
    "\n",
    "\n",
    "feature_importance = FeatureImportance(train_upsampled, best_models, forforsta, run_correlation_cluster=True)\n",
    "feature_importance.calculate_importances()\n",
    "feature_importance.calculate_cumulative_importance()"
   ]
  },
  {
   "cell_type": "code",
   "execution_count": null,
   "metadata": {},
   "outputs": [],
   "source": []
  },
  {
   "cell_type": "markdown",
   "metadata": {},
   "source": [
    "## Do Recursive on the first set"
   ]
  },
  {
   "cell_type": "code",
   "execution_count": null,
   "metadata": {},
   "outputs": [
    {
     "name": "stderr",
     "output_type": "stream",
     "text": [
      "[I 2024-05-27 10:53:58,520] A new study created in memory with name: no-name-8c59ae5d-f15b-44b8-8477-044254732165\n",
      "[I 2024-05-27 10:53:58,520] A new study created in memory with name: no-name-6db13846-a0d3-42ad-a339-084898170490\n",
      "[I 2024-05-27 10:53:58,520] A new study created in memory with name: no-name-4c932ea0-f159-4501-971e-2e0fcf0eb2dd\n",
      "[I 2024-05-27 10:53:58,522] A new study created in memory with name: no-name-262404c3-e26d-4323-b269-121c01f20408\n",
      "[I 2024-05-27 10:53:58,586] Trial 0 finished with value: 0.220179927029013 and parameters: {'nb_type': 'bernoulli', 'alpha': 0.0031815363563317905, 'binarize': 0.023108598192282406}. Best is trial 0 with value: 0.220179927029013.\n"
     ]
    },
    {
     "name": "stdout",
     "output_type": "stream",
     "text": [
      "Binary Split: Ever90\n",
      "0    3170\n",
      "1     323\n",
      "Name: count, dtype: int64\n"
     ]
    },
    {
     "name": "stderr",
     "output_type": "stream",
     "text": [
      "[I 2024-05-27 10:53:58,971] Trial 0 finished with value: 0.2964708606492133 and parameters: {'n_estimators': 23, 'max_depth': 9, 'min_samples_split': 3, 'min_samples_leaf': 3}. Best is trial 0 with value: 0.2964708606492133.\n",
      "[I 2024-05-27 10:53:59,817] Trial 0 finished with value: 0.16756697717124056 and parameters: {'n_estimators': 22, 'max_depth': 13, 'learning_rate': 0.02933566079392247}. Best is trial 0 with value: 0.16756697717124056.\n",
      "[I 2024-05-27 10:54:07,879] Trial 0 finished with value: 0.17542294389209698 and parameters: {'C': 0.4645662106942532, 'solver': 'saga', 'penalty_saga': 'l1'}. Best is trial 0 with value: 0.17542294389209698.\n",
      "[I 2024-05-27 10:54:11,430] A new study created in memory with name: no-name-fc5ae64a-250a-42ab-a442-5fb3e81aa065\n",
      "[I 2024-05-27 10:54:11,453] Trial 0 finished with value: -0.07941239702777492 and parameters: {'nb_type': 'gaussian'}. Best is trial 0 with value: -0.07941239702777492.\n",
      "[I 2024-05-27 10:54:11,483] A new study created in memory with name: no-name-5a333aed-68dc-4f1b-8b01-732052ca0ab1\n",
      "[I 2024-05-27 10:54:11,508] Trial 0 finished with value: 0.21155026363140816 and parameters: {'nb_type': 'bernoulli', 'alpha': 0.007518858972420364, 'binarize': 0.001068935914671253}. Best is trial 0 with value: 0.21155026363140816.\n",
      "[I 2024-05-27 10:54:11,540] A new study created in memory with name: no-name-4285e17f-f9df-44eb-bae7-dd350cc9018a\n",
      "[I 2024-05-27 10:54:11,566] Trial 0 finished with value: 0.21909192286108015 and parameters: {'nb_type': 'bernoulli', 'alpha': 0.09925708882967602, 'binarize': 0.0491953846979383}. Best is trial 0 with value: 0.21909192286108015.\n",
      "[I 2024-05-27 10:54:11,599] A new study created in memory with name: no-name-e356cfa4-ccf6-4f2a-902a-d731fe0c0222\n",
      "[I 2024-05-27 10:54:11,624] Trial 0 finished with value: 0.18720550707439085 and parameters: {'nb_type': 'bernoulli', 'alpha': 0.001846303919757424, 'binarize': 0.1528487900906521}. Best is trial 0 with value: 0.18720550707439085.\n"
     ]
    },
    {
     "name": "stdout",
     "output_type": "stream",
     "text": [
      "Best parameters: {'naive_bayes': {'alpha': 0.0031815363563317905, 'binarize': 0.023108598192282406}, 'xgboost': {'n_estimators': 22, 'max_depth': 13, 'learning_rate': 0.02933566079392247}, 'random_forest': {'n_estimators': 23, 'max_depth': 9, 'min_samples_split': 3, 'min_samples_leaf': 3}, 'logistic_regression': {'C': 0.4645662106942532, 'solver': 'saga', 'penalty_saga': 'l1'}}\n"
     ]
    },
    {
     "name": "stderr",
     "output_type": "stream",
     "text": [
      "[I 2024-05-27 10:54:11,656] A new study created in memory with name: no-name-21b0f30b-a008-4666-82dc-e90a0d3e9f41\n",
      "[I 2024-05-27 10:54:11,682] Trial 0 finished with value: 0.2142169206500817 and parameters: {'nb_type': 'bernoulli', 'alpha': 0.10029833531362936, 'binarize': 0.00335143686486045}. Best is trial 0 with value: 0.2142169206500817.\n",
      "[I 2024-05-27 10:54:11,714] A new study created in memory with name: no-name-5ce464ec-d683-49ca-b353-30ea0a1b62f7\n",
      "[I 2024-05-27 10:54:11,737] Trial 0 finished with value: -0.07325158267284786 and parameters: {'nb_type': 'gaussian'}. Best is trial 0 with value: -0.07325158267284786.\n",
      "[I 2024-05-27 10:54:11,828] A new study created in memory with name: no-name-6f9b70df-8e01-4fe8-ad23-fd5441d477bb\n",
      "[I 2024-05-27 10:54:11,854] Trial 0 finished with value: 0.22047518777406339 and parameters: {'nb_type': 'bernoulli', 'alpha': 0.3421621869924577, 'binarize': 0.009754602952494213}. Best is trial 0 with value: 0.22047518777406339.\n",
      "[I 2024-05-27 10:54:11,886] A new study created in memory with name: no-name-2121e086-b376-44b1-90e0-12b8ef9e6a4d\n",
      "[I 2024-05-27 10:54:11,910] Trial 0 finished with value: 0.12223159685539753 and parameters: {'nb_type': 'bernoulli', 'alpha': 0.037766767224249854, 'binarize': 0.4372100914772722}. Best is trial 0 with value: 0.12223159685539753.\n",
      "[I 2024-05-27 10:54:11,941] A new study created in memory with name: no-name-f481f2e7-0448-4851-8e59-c261ecff0684\n",
      "[I 2024-05-27 10:54:11,964] Trial 0 finished with value: -0.08074056386086947 and parameters: {'nb_type': 'gaussian'}. Best is trial 0 with value: -0.08074056386086947.\n",
      "[I 2024-05-27 10:54:11,994] A new study created in memory with name: no-name-c7c7fb80-dee3-4c6f-a9d5-662a6387fa6f\n",
      "[I 2024-05-27 10:54:12,017] Trial 0 finished with value: -0.08485210430766814 and parameters: {'nb_type': 'gaussian'}. Best is trial 0 with value: -0.08485210430766814.\n",
      "[I 2024-05-27 10:54:12,047] A new study created in memory with name: no-name-c093d0b2-56bd-4681-8ac6-0532738fa539\n",
      "[I 2024-05-27 10:54:12,070] Trial 0 finished with value: -0.08413119019249349 and parameters: {'nb_type': 'gaussian'}. Best is trial 0 with value: -0.08413119019249349.\n",
      "[I 2024-05-27 10:54:12,101] A new study created in memory with name: no-name-c17ec60b-ac89-45d0-829d-5fea130046b3\n",
      "[I 2024-05-27 10:54:12,125] Trial 0 finished with value: 0.19836155371278896 and parameters: {'nb_type': 'bernoulli', 'alpha': 0.25648923608891955, 'binarize': 0.06338938914415672}. Best is trial 0 with value: 0.19836155371278896.\n",
      "[I 2024-05-27 10:54:12,156] A new study created in memory with name: no-name-fedc004a-98b4-4d61-8068-e267dd8d8352\n",
      "[I 2024-05-27 10:54:12,182] Trial 0 finished with value: -0.09004129340993834 and parameters: {'nb_type': 'gaussian'}. Best is trial 0 with value: -0.09004129340993834.\n",
      "[I 2024-05-27 10:54:12,211] A new study created in memory with name: no-name-6c473769-0681-464c-92b5-bd60d9092ed6\n",
      "[I 2024-05-27 10:54:12,236] Trial 0 finished with value: 0.21174815200734534 and parameters: {'nb_type': 'bernoulli', 'alpha': 0.025511314401843416, 'binarize': 0.025348407151382778}. Best is trial 0 with value: 0.21174815200734534.\n",
      "[I 2024-05-27 10:54:12,268] A new study created in memory with name: no-name-1236fade-0683-46d2-8011-7e1291d6dc56\n",
      "[I 2024-05-27 10:54:12,294] Trial 0 finished with value: 0.21626525387889503 and parameters: {'nb_type': 'bernoulli', 'alpha': 0.1048214161016158, 'binarize': 0.0010414048947100345}. Best is trial 0 with value: 0.21626525387889503.\n",
      "[I 2024-05-27 10:54:12,327] A new study created in memory with name: no-name-656f8ce5-35e6-4f69-9b77-ca7847cbd571\n",
      "[I 2024-05-27 10:54:12,352] Trial 0 finished with value: 0.2064996920682242 and parameters: {'nb_type': 'bernoulli', 'alpha': 0.02237030520334486, 'binarize': 0.023581570623783975}. Best is trial 0 with value: 0.2064996920682242.\n",
      "[I 2024-05-27 10:54:12,384] A new study created in memory with name: no-name-55635298-e4e7-4f4f-bb94-de409fb020d1\n",
      "[I 2024-05-27 10:54:12,406] Trial 0 finished with value: -0.08457743398762803 and parameters: {'nb_type': 'gaussian'}. Best is trial 0 with value: -0.08457743398762803.\n",
      "[I 2024-05-27 10:54:12,437] A new study created in memory with name: no-name-6be2891b-7997-4897-8970-3955fbedbe06\n",
      "[I 2024-05-27 10:54:12,459] Trial 0 finished with value: -0.0859384763567893 and parameters: {'nb_type': 'gaussian'}. Best is trial 0 with value: -0.0859384763567893.\n",
      "[I 2024-05-27 10:54:12,488] A new study created in memory with name: no-name-5a0dfca0-083c-4668-be60-be2920f7e5e5\n",
      "[I 2024-05-27 10:54:12,513] Trial 0 finished with value: -0.08425954869904846 and parameters: {'nb_type': 'gaussian'}. Best is trial 0 with value: -0.08425954869904846.\n",
      "[I 2024-05-27 10:54:12,541] A new study created in memory with name: no-name-aad16393-edc9-4085-b016-44b07bf00671\n",
      "[I 2024-05-27 10:54:12,567] Trial 0 finished with value: 0.19575296957183808 and parameters: {'nb_type': 'bernoulli', 'alpha': 0.08414238030408176, 'binarize': 0.11420583819858708}. Best is trial 0 with value: 0.19575296957183808.\n",
      "[I 2024-05-27 10:54:12,599] A new study created in memory with name: no-name-7e542590-450e-4ce7-bf6e-3147c65aec39\n",
      "[I 2024-05-27 10:54:12,624] Trial 0 finished with value: 0.221534223843085 and parameters: {'nb_type': 'bernoulli', 'alpha': 0.26212217960037115, 'binarize': 0.005240246802795357}. Best is trial 0 with value: 0.221534223843085.\n",
      "[I 2024-05-27 10:54:12,656] A new study created in memory with name: no-name-3f7ee54e-d6dc-4738-8e40-fdee0d490029\n",
      "[I 2024-05-27 10:54:12,679] Trial 0 finished with value: -0.06759539051055567 and parameters: {'nb_type': 'gaussian'}. Best is trial 0 with value: -0.06759539051055567.\n",
      "[I 2024-05-27 10:54:12,708] A new study created in memory with name: no-name-8bf67684-f6a2-40c0-ae30-6a696f353160\n",
      "[I 2024-05-27 10:54:12,732] Trial 0 finished with value: -0.06838191097796882 and parameters: {'nb_type': 'gaussian'}. Best is trial 0 with value: -0.06838191097796882.\n",
      "[I 2024-05-27 10:54:12,761] A new study created in memory with name: no-name-6e1040bb-d45e-467d-a5ce-f23eb1c79634\n",
      "[I 2024-05-27 10:54:12,787] Trial 0 finished with value: -0.08144242318991597 and parameters: {'nb_type': 'gaussian'}. Best is trial 0 with value: -0.08144242318991597.\n",
      "[I 2024-05-27 10:54:12,818] A new study created in memory with name: no-name-4e54c749-e9db-485b-9f0f-06a48d999023\n",
      "[I 2024-05-27 10:54:12,841] Trial 0 finished with value: -0.07581797292451568 and parameters: {'nb_type': 'gaussian'}. Best is trial 0 with value: -0.07581797292451568.\n",
      "[I 2024-05-27 10:54:12,871] A new study created in memory with name: no-name-3979411c-a0a6-44fe-a74f-7ba4a1ae7283\n",
      "[I 2024-05-27 10:54:12,895] Trial 0 finished with value: -0.0748620176204512 and parameters: {'nb_type': 'gaussian'}. Best is trial 0 with value: -0.0748620176204512.\n",
      "[I 2024-05-27 10:54:12,925] A new study created in memory with name: no-name-13d9bd23-29b1-4646-8f17-9aea8b02186d\n",
      "[I 2024-05-27 10:54:12,952] Trial 0 finished with value: 0.21652566928931272 and parameters: {'nb_type': 'bernoulli', 'alpha': 0.247366712790299, 'binarize': 0.0031520673444866247}. Best is trial 0 with value: 0.21652566928931272.\n",
      "[I 2024-05-27 10:54:12,985] A new study created in memory with name: no-name-1a8f190e-226f-4861-8150-e4197e18f8aa\n",
      "[I 2024-05-27 10:54:13,008] Trial 0 finished with value: -0.08306641356765092 and parameters: {'nb_type': 'gaussian'}. Best is trial 0 with value: -0.08306641356765092.\n",
      "[I 2024-05-27 10:54:13,039] A new study created in memory with name: no-name-9e4d2821-bb77-45cd-8e40-89f29ddfedc6\n",
      "[I 2024-05-27 10:54:13,065] Trial 0 finished with value: 0.21096672085622722 and parameters: {'nb_type': 'bernoulli', 'alpha': 0.03659984634412869, 'binarize': 0.004339851305048677}. Best is trial 0 with value: 0.21096672085622722.\n",
      "[I 2024-05-27 10:54:13,097] A new study created in memory with name: no-name-cc77a10c-6459-4001-af00-b9daf9fe8c47\n",
      "[I 2024-05-27 10:54:13,122] Trial 0 finished with value: 0.20745391073355304 and parameters: {'nb_type': 'bernoulli', 'alpha': 0.0014673752815792837, 'binarize': 0.05961982536563061}. Best is trial 0 with value: 0.20745391073355304.\n",
      "[I 2024-05-27 10:54:13,155] A new study created in memory with name: no-name-e5c208f8-0436-41ac-83e8-249aefbfd6ff\n",
      "[I 2024-05-27 10:54:13,181] Trial 0 finished with value: 0.18410859780894073 and parameters: {'nb_type': 'bernoulli', 'alpha': 0.18919478419765354, 'binarize': 0.07007891796671328}. Best is trial 0 with value: 0.18410859780894073.\n",
      "[I 2024-05-27 10:54:13,213] A new study created in memory with name: no-name-724b8928-d02c-4224-841e-dcc32df7d600\n",
      "[I 2024-05-27 10:54:13,236] Trial 0 finished with value: -0.08399875540890611 and parameters: {'nb_type': 'gaussian'}. Best is trial 0 with value: -0.08399875540890611.\n",
      "[I 2024-05-27 10:54:13,268] A new study created in memory with name: no-name-bc127c60-9986-427f-99d3-5547b204cb40\n",
      "[I 2024-05-27 10:54:13,291] Trial 0 finished with value: -0.07881306370408965 and parameters: {'nb_type': 'gaussian'}. Best is trial 0 with value: -0.07881306370408965.\n",
      "[I 2024-05-27 10:54:13,322] A new study created in memory with name: no-name-d3c98627-b3a1-47cb-b526-23643d4df105\n",
      "[I 2024-05-27 10:54:13,347] Trial 0 finished with value: 0.21946885386667447 and parameters: {'nb_type': 'bernoulli', 'alpha': 0.09657705418428099, 'binarize': 0.002397161155421898}. Best is trial 0 with value: 0.21946885386667447.\n",
      "[I 2024-05-27 10:54:13,380] A new study created in memory with name: no-name-cadeb7a7-d8ef-49cf-9acf-40b3c39d776a\n",
      "[I 2024-05-27 10:54:13,403] Trial 0 finished with value: -0.08675701208089519 and parameters: {'nb_type': 'gaussian'}. Best is trial 0 with value: -0.08675701208089519.\n",
      "[I 2024-05-27 10:54:13,432] A new study created in memory with name: no-name-4f816b16-73d8-4812-8cda-111d24cefad7\n",
      "[I 2024-05-27 10:54:13,457] Trial 0 finished with value: -0.08188863482507387 and parameters: {'nb_type': 'gaussian'}. Best is trial 0 with value: -0.08188863482507387.\n",
      "[I 2024-05-27 10:54:13,486] A new study created in memory with name: no-name-0bd84d8a-992c-482a-928a-6c0e9fec0723\n",
      "[I 2024-05-27 10:54:13,510] Trial 0 finished with value: -0.07923596739621579 and parameters: {'nb_type': 'gaussian'}. Best is trial 0 with value: -0.07923596739621579.\n",
      "[I 2024-05-27 10:54:13,540] A new study created in memory with name: no-name-41110ed3-a2de-4018-9562-c7342f9068dd\n",
      "[I 2024-05-27 10:54:13,564] Trial 0 finished with value: -0.08181916927564474 and parameters: {'nb_type': 'gaussian'}. Best is trial 0 with value: -0.08181916927564474.\n",
      "[I 2024-05-27 10:54:13,593] A new study created in memory with name: no-name-0b822340-a161-4f57-85c6-6e4cafae7165\n",
      "[I 2024-05-27 10:54:13,620] Trial 0 finished with value: 0.2107862229876297 and parameters: {'nb_type': 'bernoulli', 'alpha': 0.07711206643670605, 'binarize': 0.0029211240903939937}. Best is trial 0 with value: 0.2107862229876297.\n",
      "[I 2024-05-27 10:54:13,651] A new study created in memory with name: no-name-a5b3de41-4060-4a5c-99f4-44adb43e6386\n",
      "[I 2024-05-27 10:54:13,683] Trial 0 finished with value: -0.06964811357617322 and parameters: {'nb_type': 'gaussian'}. Best is trial 0 with value: -0.06964811357617322.\n",
      "[I 2024-05-27 10:54:13,718] A new study created in memory with name: no-name-1e90dd8e-7409-4840-8391-9eb9f344fca3\n",
      "[I 2024-05-27 10:54:13,741] Trial 0 finished with value: -0.07090578574058808 and parameters: {'nb_type': 'gaussian'}. Best is trial 0 with value: -0.07090578574058808.\n",
      "[I 2024-05-27 10:54:13,768] A new study created in memory with name: no-name-f3cdce61-b5fd-4aa8-81c2-bcb6fa497306\n",
      "[I 2024-05-27 10:54:13,792] Trial 0 finished with value: -0.07134290414236577 and parameters: {'nb_type': 'gaussian'}. Best is trial 0 with value: -0.07134290414236577.\n",
      "[I 2024-05-27 10:54:13,820] A new study created in memory with name: no-name-ec9d5db0-e67d-4356-a0cf-7867ee5f01dd\n",
      "[I 2024-05-27 10:54:13,843] Trial 0 finished with value: -0.0731177087303081 and parameters: {'nb_type': 'gaussian'}. Best is trial 0 with value: -0.0731177087303081.\n",
      "[I 2024-05-27 10:54:13,873] A new study created in memory with name: no-name-a757bbf3-d92a-4c7b-8475-ccabc73af6f2\n",
      "[I 2024-05-27 10:54:13,897] Trial 0 finished with value: -0.07799957709630785 and parameters: {'nb_type': 'gaussian'}. Best is trial 0 with value: -0.07799957709630785.\n",
      "[I 2024-05-27 10:54:13,927] A new study created in memory with name: no-name-0534f9c0-de37-4212-ab98-4fc577eaa082\n",
      "[I 2024-05-27 10:54:13,952] Trial 0 finished with value: 0.14503325341579143 and parameters: {'nb_type': 'bernoulli', 'alpha': 0.015195440541979008, 'binarize': 0.22654773868584288}. Best is trial 0 with value: 0.14503325341579143.\n",
      "[I 2024-05-27 10:54:13,983] A new study created in memory with name: no-name-918024fd-8304-419a-a2ff-0c890e71a71d\n",
      "[I 2024-05-27 10:54:14,007] Trial 0 finished with value: -0.07085813269527934 and parameters: {'nb_type': 'gaussian'}. Best is trial 0 with value: -0.07085813269527934.\n",
      "[I 2024-05-27 10:54:14,037] A new study created in memory with name: no-name-37ae7270-308e-4098-994f-894669173a47\n",
      "[I 2024-05-27 10:54:14,063] Trial 0 finished with value: 0.22934884891403806 and parameters: {'nb_type': 'bernoulli', 'alpha': 0.017341157436199746, 'binarize': 0.003456099087468765}. Best is trial 0 with value: 0.22934884891403806.\n",
      "[I 2024-05-27 10:54:14,094] A new study created in memory with name: no-name-d3233b6c-1bc2-4a1c-bbae-909710530c98\n",
      "[I 2024-05-27 10:54:14,141] Trial 0 finished with value: -0.0685174572392911 and parameters: {'nb_type': 'gaussian'}. Best is trial 0 with value: -0.0685174572392911.\n",
      "[I 2024-05-27 10:54:14,174] A new study created in memory with name: no-name-99ae85a0-2d65-4086-941b-f4425cdecbc4\n",
      "[I 2024-05-27 10:54:14,199] Trial 0 finished with value: -0.08984648435175942 and parameters: {'nb_type': 'gaussian'}. Best is trial 0 with value: -0.08984648435175942.\n",
      "[I 2024-05-27 10:54:14,230] A new study created in memory with name: no-name-531f0ba8-b303-4dc6-8db1-a01614303de4\n",
      "[I 2024-05-27 10:54:14,252] Trial 0 finished with value: -0.08177501362779005 and parameters: {'nb_type': 'gaussian'}. Best is trial 0 with value: -0.08177501362779005.\n",
      "[I 2024-05-27 10:54:14,283] A new study created in memory with name: no-name-62370320-a250-4b64-a717-a6f8ef692c4f\n",
      "[I 2024-05-27 10:54:14,307] Trial 0 finished with value: -0.07412391399779061 and parameters: {'nb_type': 'gaussian'}. Best is trial 0 with value: -0.07412391399779061.\n",
      "[I 2024-05-27 10:54:14,336] A new study created in memory with name: no-name-54b61dfd-1fca-41c7-a0cb-b6ef5425009a\n",
      "[I 2024-05-27 10:54:14,360] Trial 0 finished with value: 0.20069730869235927 and parameters: {'nb_type': 'bernoulli', 'alpha': 0.0014061048318320484, 'binarize': 0.028245370774278414}. Best is trial 0 with value: 0.20069730869235927.\n",
      "[I 2024-05-27 10:54:14,394] A new study created in memory with name: no-name-f73d7f28-30e9-4d7d-82ec-d6264e06baf2\n",
      "[I 2024-05-27 10:54:14,419] Trial 0 finished with value: 0.21468324031060107 and parameters: {'nb_type': 'bernoulli', 'alpha': 0.04879387729309108, 'binarize': 0.06395089013348519}. Best is trial 0 with value: 0.21468324031060107.\n",
      "[I 2024-05-27 10:54:14,451] A new study created in memory with name: no-name-de449694-dc40-41cf-9764-f20acf10c35a\n",
      "[I 2024-05-27 10:54:14,474] Trial 0 finished with value: -0.07183002326774308 and parameters: {'nb_type': 'gaussian'}. Best is trial 0 with value: -0.07183002326774308.\n",
      "[I 2024-05-27 10:54:14,504] A new study created in memory with name: no-name-afbb0187-0761-4098-bde4-c517e2fb0984\n",
      "[I 2024-05-27 10:54:14,529] Trial 0 finished with value: 0.22800879896959433 and parameters: {'nb_type': 'bernoulli', 'alpha': 0.024142206512157278, 'binarize': 0.005499718327740966}. Best is trial 0 with value: 0.22800879896959433.\n",
      "[I 2024-05-27 10:54:14,560] A new study created in memory with name: no-name-c730ea4c-4370-40b5-995b-1385e73fe04c\n",
      "[I 2024-05-27 10:54:14,584] Trial 0 finished with value: -0.08126800355689338 and parameters: {'nb_type': 'gaussian'}. Best is trial 0 with value: -0.08126800355689338.\n",
      "[I 2024-05-27 10:54:14,615] A new study created in memory with name: no-name-1e8b0097-d6c6-4da1-a1af-10fc513e82c1\n",
      "[I 2024-05-27 10:54:14,639] Trial 0 finished with value: -0.0657094651635094 and parameters: {'nb_type': 'gaussian'}. Best is trial 0 with value: -0.0657094651635094.\n",
      "[I 2024-05-27 10:54:14,728] A new study created in memory with name: no-name-e798c592-658e-46e5-8be1-a6befff9dc12\n",
      "[I 2024-05-27 10:54:14,753] Trial 0 finished with value: 0.1820098296968439 and parameters: {'nb_type': 'bernoulli', 'alpha': 0.19566768536336157, 'binarize': 0.10124107893242372}. Best is trial 0 with value: 0.1820098296968439.\n",
      "[I 2024-05-27 10:54:14,785] A new study created in memory with name: no-name-82f0e911-1c02-4f62-a2ae-9f8e890ec278\n",
      "[I 2024-05-27 10:54:14,809] Trial 0 finished with value: -0.0834780291079948 and parameters: {'nb_type': 'gaussian'}. Best is trial 0 with value: -0.0834780291079948.\n",
      "[I 2024-05-27 10:54:14,839] A new study created in memory with name: no-name-29dd6d1e-7456-4c31-94c5-e4113f514216\n",
      "[I 2024-05-27 10:54:14,864] Trial 0 finished with value: -0.07639424754498773 and parameters: {'nb_type': 'gaussian'}. Best is trial 0 with value: -0.07639424754498773.\n",
      "[I 2024-05-27 10:54:14,892] A new study created in memory with name: no-name-9989536c-d60e-4cda-87ac-a72008744cc2\n",
      "[I 2024-05-27 10:54:14,918] Trial 0 finished with value: 0.21424547870929164 and parameters: {'nb_type': 'bernoulli', 'alpha': 0.0015091235713312217, 'binarize': 0.0026357614283235645}. Best is trial 0 with value: 0.21424547870929164.\n",
      "[I 2024-05-27 10:54:14,950] A new study created in memory with name: no-name-d29c7764-f8c4-47fd-9dd7-dbb5961e2b36\n",
      "[I 2024-05-27 10:54:14,975] Trial 0 finished with value: 0.21780151184049937 and parameters: {'nb_type': 'bernoulli', 'alpha': 0.30738812392665577, 'binarize': 0.03001135823834564}. Best is trial 0 with value: 0.21780151184049937.\n",
      "[I 2024-05-27 10:54:15,006] A new study created in memory with name: no-name-5ff876a7-8bd7-470a-92e5-5e8438b47fb6\n",
      "[I 2024-05-27 10:54:15,030] Trial 0 finished with value: -0.06776189074934351 and parameters: {'nb_type': 'gaussian'}. Best is trial 0 with value: -0.06776189074934351.\n",
      "[I 2024-05-27 10:54:15,060] A new study created in memory with name: no-name-26d84b26-e5a0-4304-a536-fd1766ac2b7d\n",
      "[I 2024-05-27 10:54:15,084] Trial 0 finished with value: -0.07289510541236326 and parameters: {'nb_type': 'gaussian'}. Best is trial 0 with value: -0.07289510541236326.\n",
      "[I 2024-05-27 10:54:15,112] A new study created in memory with name: no-name-db93c4c7-a070-4407-94ee-dba2ac585611\n",
      "[I 2024-05-27 10:54:15,138] Trial 0 finished with value: 0.21824347835874777 and parameters: {'nb_type': 'bernoulli', 'alpha': 0.5784365396400543, 'binarize': 0.0018563104108871833}. Best is trial 0 with value: 0.21824347835874777.\n",
      "[I 2024-05-27 10:54:15,170] A new study created in memory with name: no-name-c7c71dc6-3b7f-47c6-9b5c-f32a2f7a1852\n",
      "[I 2024-05-27 10:54:15,195] Trial 0 finished with value: 0.19257715580383059 and parameters: {'nb_type': 'bernoulli', 'alpha': 0.013086655886264955, 'binarize': 0.1189329680111009}. Best is trial 0 with value: 0.19257715580383059.\n",
      "[I 2024-05-27 10:54:15,225] A new study created in memory with name: no-name-b70cec50-5ac7-4b74-b459-55bb44a2b006\n",
      "[I 2024-05-27 10:54:15,250] Trial 0 finished with value: -0.0730994257836181 and parameters: {'nb_type': 'gaussian'}. Best is trial 0 with value: -0.0730994257836181.\n",
      "[I 2024-05-27 10:54:15,278] A new study created in memory with name: no-name-52ec55c1-88d2-41d3-bf1b-6e8ba9f3c4ef\n",
      "[I 2024-05-27 10:54:15,303] Trial 0 finished with value: 0.22486621449739577 and parameters: {'nb_type': 'bernoulli', 'alpha': 0.009036261374369487, 'binarize': 0.008761920819589396}. Best is trial 0 with value: 0.22486621449739577.\n",
      "[I 2024-05-27 10:54:15,335] A new study created in memory with name: no-name-f46a2038-dc65-47a7-83a3-6e3fd1166802\n",
      "[I 2024-05-27 10:54:15,359] Trial 0 finished with value: -0.0719559938960364 and parameters: {'nb_type': 'gaussian'}. Best is trial 0 with value: -0.0719559938960364.\n",
      "[I 2024-05-27 10:54:15,391] A new study created in memory with name: no-name-4694aa55-ec03-4ab9-9a8c-2ea8aef0088d\n",
      "[I 2024-05-27 10:54:15,414] Trial 0 finished with value: -0.08162377329789301 and parameters: {'nb_type': 'gaussian'}. Best is trial 0 with value: -0.08162377329789301.\n",
      "[I 2024-05-27 10:54:15,445] A new study created in memory with name: no-name-ab133ff2-a056-4734-b6a9-a633ab401729\n",
      "[I 2024-05-27 10:54:15,469] Trial 0 finished with value: -0.0830242598783388 and parameters: {'nb_type': 'gaussian'}. Best is trial 0 with value: -0.0830242598783388.\n",
      "[I 2024-05-27 10:54:15,499] A new study created in memory with name: no-name-5bd65554-f6c6-480f-bf86-375d91946509\n",
      "[I 2024-05-27 10:54:15,525] Trial 0 finished with value: 0.200096664849628 and parameters: {'nb_type': 'bernoulli', 'alpha': 0.030834849794430807, 'binarize': 0.08096805258381291}. Best is trial 0 with value: 0.200096664849628.\n",
      "[I 2024-05-27 10:54:15,558] A new study created in memory with name: no-name-0f8979af-d291-4f6a-afb9-e98cc95dcb7f\n",
      "[I 2024-05-27 10:54:15,583] Trial 0 finished with value: -0.07329359968225942 and parameters: {'nb_type': 'gaussian'}. Best is trial 0 with value: -0.07329359968225942.\n",
      "[I 2024-05-27 10:54:15,612] A new study created in memory with name: no-name-cbdd89cc-94d3-4ff3-97c2-a060ccd6de48\n",
      "[I 2024-05-27 10:54:15,636] Trial 0 finished with value: -0.07955217232601863 and parameters: {'nb_type': 'gaussian'}. Best is trial 0 with value: -0.07955217232601863.\n",
      "[I 2024-05-27 10:54:15,666] A new study created in memory with name: no-name-471a77a0-30df-4e33-a913-65569890558e\n",
      "[I 2024-05-27 10:54:15,690] Trial 0 finished with value: -0.08063683989638055 and parameters: {'nb_type': 'gaussian'}. Best is trial 0 with value: -0.08063683989638055.\n",
      "[I 2024-05-27 10:54:15,719] A new study created in memory with name: no-name-10e73931-d954-48f8-9b50-6c02b3704efe\n",
      "[I 2024-05-27 10:54:15,744] Trial 0 finished with value: 0.2141506067783583 and parameters: {'nb_type': 'bernoulli', 'alpha': 0.001337445007529385, 'binarize': 0.0014329241342070538}. Best is trial 0 with value: 0.2141506067783583.\n",
      "[I 2024-05-27 10:54:15,775] A new study created in memory with name: no-name-623c805a-87d1-40c4-85b6-c87791e04689\n",
      "[I 2024-05-27 10:54:15,799] Trial 0 finished with value: 0.2056844607817124 and parameters: {'nb_type': 'bernoulli', 'alpha': 0.00817385921590822, 'binarize': 0.08427407689193057}. Best is trial 0 with value: 0.2056844607817124.\n",
      "[I 2024-05-27 10:54:15,829] A new study created in memory with name: no-name-6b764095-c8d9-47b8-acb1-cdbcd5c55512\n",
      "[I 2024-05-27 10:54:15,852] Trial 0 finished with value: -0.07784923724575528 and parameters: {'nb_type': 'gaussian'}. Best is trial 0 with value: -0.07784923724575528.\n",
      "[I 2024-05-27 10:54:15,881] A new study created in memory with name: no-name-7a9ddb4a-d434-4dd7-969b-0534ef1a1ef6\n",
      "[I 2024-05-27 10:54:15,904] Trial 0 finished with value: -0.07517412215323915 and parameters: {'nb_type': 'gaussian'}. Best is trial 0 with value: -0.07517412215323915.\n",
      "[I 2024-05-27 10:54:15,935] A new study created in memory with name: no-name-f5bd69fc-d4ec-4af7-9cb1-bf2ec6fcbadf\n",
      "[I 2024-05-27 10:54:15,959] Trial 0 finished with value: -0.07747375343910749 and parameters: {'nb_type': 'gaussian'}. Best is trial 0 with value: -0.07747375343910749.\n",
      "[I 2024-05-27 10:54:15,988] A new study created in memory with name: no-name-3e9d5781-3dfc-4150-965b-f062d826c47a\n",
      "[I 2024-05-27 10:54:16,017] Trial 0 finished with value: 0.20730121516471547 and parameters: {'nb_type': 'bernoulli', 'alpha': 0.017330653208553908, 'binarize': 0.01654475287874314}. Best is trial 0 with value: 0.20730121516471547.\n",
      "[I 2024-05-27 10:54:16,064] A new study created in memory with name: no-name-25507bbe-e080-4633-bdd8-b1d5143bac3c\n",
      "[I 2024-05-27 10:54:16,090] Trial 0 finished with value: -0.08016898459697923 and parameters: {'nb_type': 'gaussian'}. Best is trial 0 with value: -0.08016898459697923.\n",
      "[I 2024-05-27 10:54:16,120] A new study created in memory with name: no-name-e4fb2f99-5ec3-453a-9117-a48e62bf4670\n",
      "[I 2024-05-27 10:54:16,148] Trial 0 finished with value: -0.07499038416700032 and parameters: {'nb_type': 'gaussian'}. Best is trial 0 with value: -0.07499038416700032.\n",
      "[I 2024-05-27 10:54:16,178] A new study created in memory with name: no-name-e43bb65d-2f20-4d00-ac35-0ecfeb8d6727\n",
      "[I 2024-05-27 10:54:16,207] Trial 0 finished with value: -0.06333398457285926 and parameters: {'nb_type': 'gaussian'}. Best is trial 0 with value: -0.06333398457285926.\n",
      "[I 2024-05-27 10:54:16,246] A new study created in memory with name: no-name-232c7be3-f92a-4e67-856a-15a2a544cb87\n",
      "[I 2024-05-27 10:54:16,272] Trial 0 finished with value: 0.22035517478143274 and parameters: {'nb_type': 'bernoulli', 'alpha': 0.0011067596848199422, 'binarize': 0.01021912514135334}. Best is trial 0 with value: 0.22035517478143274.\n",
      "[I 2024-05-27 10:54:16,305] A new study created in memory with name: no-name-40360ff7-646b-462c-8230-6db76a592089\n",
      "[I 2024-05-27 10:54:16,330] Trial 0 finished with value: -0.0764915716741359 and parameters: {'nb_type': 'gaussian'}. Best is trial 0 with value: -0.0764915716741359.\n",
      "[I 2024-05-27 10:54:16,359] A new study created in memory with name: no-name-8e602382-317e-45c1-9c94-fb8532648c4c\n",
      "[I 2024-05-27 10:54:16,383] Trial 0 finished with value: -0.06648230960087871 and parameters: {'nb_type': 'gaussian'}. Best is trial 0 with value: -0.06648230960087871.\n",
      "[I 2024-05-27 10:54:16,411] A new study created in memory with name: no-name-d4750a6a-d982-4152-bc7f-0d4bb8b329bd\n",
      "[I 2024-05-27 10:54:16,435] Trial 0 finished with value: -0.0843273499696892 and parameters: {'nb_type': 'gaussian'}. Best is trial 0 with value: -0.0843273499696892.\n",
      "[I 2024-05-27 10:54:16,467] A new study created in memory with name: no-name-fa22beab-ba6f-474b-bf39-426c4f64e0f4\n",
      "[I 2024-05-27 10:54:16,490] Trial 0 finished with value: -0.07738026438716746 and parameters: {'nb_type': 'gaussian'}. Best is trial 0 with value: -0.07738026438716746.\n",
      "[I 2024-05-27 10:54:16,521] A new study created in memory with name: no-name-d2397142-9b89-41fa-9cb8-6cd0c97c8fa6\n",
      "[I 2024-05-27 10:54:16,547] Trial 0 finished with value: -0.07510146472613366 and parameters: {'nb_type': 'gaussian'}. Best is trial 0 with value: -0.07510146472613366.\n",
      "[I 2024-05-27 10:54:16,575] A new study created in memory with name: no-name-41ca75b3-f697-4c14-b2b7-b49c0f6600aa\n",
      "[I 2024-05-27 10:54:16,597] Trial 0 finished with value: -0.08151062646026397 and parameters: {'nb_type': 'gaussian'}. Best is trial 0 with value: -0.08151062646026397.\n",
      "[I 2024-05-27 10:54:16,626] A new study created in memory with name: no-name-1c3bef79-fd9b-4b01-b19a-760f5e096fae\n",
      "[I 2024-05-27 10:54:16,652] Trial 0 finished with value: 0.21465821984881606 and parameters: {'nb_type': 'bernoulli', 'alpha': 0.0026036333211241465, 'binarize': 0.05984481778827448}. Best is trial 0 with value: 0.21465821984881606.\n",
      "[I 2024-05-27 10:54:16,684] A new study created in memory with name: no-name-279e0033-07c5-4621-98f1-947f2263120e\n",
      "[I 2024-05-27 10:54:16,711] Trial 0 finished with value: 0.2210460193184979 and parameters: {'nb_type': 'bernoulli', 'alpha': 0.4960690060535208, 'binarize': 0.04725746022478257}. Best is trial 0 with value: 0.2210460193184979.\n",
      "[I 2024-05-27 10:54:16,744] A new study created in memory with name: no-name-f0080f46-8e01-40c2-9c03-aeb44d325044\n",
      "[I 2024-05-27 10:54:16,769] Trial 0 finished with value: -0.07544917035300396 and parameters: {'nb_type': 'gaussian'}. Best is trial 0 with value: -0.07544917035300396.\n",
      "[I 2024-05-27 10:54:16,799] A new study created in memory with name: no-name-f9a178ac-030f-421b-84c9-e1c33b0e35df\n",
      "[I 2024-05-27 10:54:16,822] Trial 0 finished with value: -0.08365508585909753 and parameters: {'nb_type': 'gaussian'}. Best is trial 0 with value: -0.08365508585909753.\n",
      "[I 2024-05-27 10:54:16,852] A new study created in memory with name: no-name-ca25409a-6dd9-4587-a469-56cbf1ec7afe\n",
      "[I 2024-05-27 10:54:16,877] Trial 0 finished with value: -0.0776360648409447 and parameters: {'nb_type': 'gaussian'}. Best is trial 0 with value: -0.0776360648409447.\n",
      "[I 2024-05-27 10:54:16,906] A new study created in memory with name: no-name-9e0e1030-bfef-4032-9f98-9611be52bfd5\n",
      "[I 2024-05-27 10:54:16,929] Trial 0 finished with value: -0.07996665814427284 and parameters: {'nb_type': 'gaussian'}. Best is trial 0 with value: -0.07996665814427284.\n",
      "[I 2024-05-27 10:54:16,957] A new study created in memory with name: no-name-d185e69d-1184-4f42-bf2b-6eecc537239e\n",
      "[I 2024-05-27 10:54:16,980] Trial 0 finished with value: -0.07549960523628736 and parameters: {'nb_type': 'gaussian'}. Best is trial 0 with value: -0.07549960523628736.\n",
      "[I 2024-05-27 10:54:17,008] A new study created in memory with name: no-name-dee23896-7f75-4473-a036-499ef36afffa\n",
      "[I 2024-05-27 10:54:17,033] Trial 0 finished with value: 0.2089926450133545 and parameters: {'nb_type': 'bernoulli', 'alpha': 0.08490178042345654, 'binarize': 0.0023313854959787546}. Best is trial 0 with value: 0.2089926450133545.\n",
      "[I 2024-05-27 10:54:17,065] A new study created in memory with name: no-name-a019d0e4-582c-40f1-9864-68d18e986a4a\n",
      "[I 2024-05-27 10:54:17,088] Trial 0 finished with value: -0.08773580900833104 and parameters: {'nb_type': 'gaussian'}. Best is trial 0 with value: -0.08773580900833104.\n",
      "[I 2024-05-27 10:54:17,116] A new study created in memory with name: no-name-c960e6ae-a0ce-4095-9092-e750f257ed65\n",
      "[I 2024-05-27 10:54:17,142] Trial 0 finished with value: 0.22673301269836657 and parameters: {'nb_type': 'bernoulli', 'alpha': 0.012080091043511591, 'binarize': 0.014931965650075957}. Best is trial 0 with value: 0.22673301269836657.\n",
      "[I 2024-05-27 10:54:17,172] A new study created in memory with name: no-name-100bd2ee-359b-41ac-906e-d85812616a6c\n"
     ]
    },
    {
     "name": "stdout",
     "output_type": "stream",
     "text": [
      "Best features for naive_bayes: [1, 2, 3, 4, 5, 6, 7, 8, 9, 10, 11, 12, 14, 15, 16, 17, 18, 20, 21, 22, 23, 24, 25, 26, 27, 28, 29, 30, 31, 33, 34, 35, 36, 37, 38, 39, 40, 41, 42, 43, 44, 45, 46, 47, 48, 49, 50, 51]\n",
      "Trained model for naive_bayes: Pipeline(steps=[('upsample', SMOTE()),\n",
      "                ('model',\n",
      "                 BernoulliNB(alpha=0.09657705418428099,\n",
      "                             binarize=0.002397161155421898))])\n"
     ]
    },
    {
     "name": "stderr",
     "output_type": "stream",
     "text": [
      "[I 2024-05-27 10:54:17,755] Trial 0 finished with value: 0.211518071494844 and parameters: {'n_estimators': 23, 'max_depth': 7, 'learning_rate': 0.05716877687000881}. Best is trial 0 with value: 0.211518071494844.\n",
      "[I 2024-05-27 10:54:18,524] A new study created in memory with name: no-name-0392b0d9-7877-454d-8944-00836228d175\n",
      "[I 2024-05-27 10:54:18,735] Trial 0 finished with value: 0.21851922603800347 and parameters: {'n_estimators': 20, 'max_depth': 3, 'learning_rate': 0.28707901393996194}. Best is trial 0 with value: 0.21851922603800347.\n",
      "[I 2024-05-27 10:54:19,014] A new study created in memory with name: no-name-3661dded-c10a-442f-8d2c-1fdae4166193\n",
      "[I 2024-05-27 10:54:20,269] Trial 0 finished with value: 0.18431498445869132 and parameters: {'n_estimators': 33, 'max_depth': 12, 'learning_rate': 0.05599484439919631}. Best is trial 0 with value: 0.18431498445869132.\n",
      "[I 2024-05-27 10:54:21,914] A new study created in memory with name: no-name-a497ba13-4f3d-4191-b1a8-bf1522f3dd08\n",
      "[I 2024-05-27 10:54:23,111] Trial 0 finished with value: 0.23284656796769862 and parameters: {'n_estimators': 35, 'max_depth': 11, 'learning_rate': 0.042090001664430665}. Best is trial 0 with value: 0.23284656796769862.\n",
      "[I 2024-05-27 10:54:24,591] A new study created in memory with name: no-name-3d93f363-5439-4282-997c-46b17c9809b6\n",
      "[I 2024-05-27 10:54:25,187] Trial 0 finished with value: 0.16849802457343813 and parameters: {'n_estimators': 32, 'max_depth': 6, 'learning_rate': 0.010100622534368142}. Best is trial 0 with value: 0.16849802457343813.\n",
      "[I 2024-05-27 10:54:25,989] A new study created in memory with name: no-name-cf7848e1-44a1-48de-a516-4a028cda5bd9\n",
      "[I 2024-05-27 10:54:26,693] Trial 0 finished with value: 0.24307682536007116 and parameters: {'n_estimators': 32, 'max_depth': 7, 'learning_rate': 0.0705938828243098}. Best is trial 0 with value: 0.24307682536007116.\n",
      "[I 2024-05-27 10:54:27,623] A new study created in memory with name: no-name-a9bd876d-3d22-4957-93f0-79725cbc0f1d\n",
      "[I 2024-05-27 10:54:28,070] Trial 0 finished with value: 0.26374713575208514 and parameters: {'n_estimators': 25, 'max_depth': 5, 'learning_rate': 0.10470515603020007}. Best is trial 0 with value: 0.26374713575208514.\n",
      "[I 2024-05-27 10:54:28,634] A new study created in memory with name: no-name-9a985b0b-c32d-4413-8810-4304b70633ef\n",
      "[I 2024-05-27 10:54:29,524] Trial 0 finished with value: 0.17649276159326957 and parameters: {'n_estimators': 30, 'max_depth': 9, 'learning_rate': 0.022183235805360975}. Best is trial 0 with value: 0.17649276159326957.\n",
      "[I 2024-05-27 10:54:30,660] A new study created in memory with name: no-name-d6b26f58-d33b-4879-a9dd-10c540064feb\n",
      "[I 2024-05-27 10:54:31,913] Trial 0 finished with value: 0.17727549522343944 and parameters: {'n_estimators': 34, 'max_depth': 12, 'learning_rate': 0.06044700439845577}. Best is trial 0 with value: 0.17727549522343944.\n",
      "[I 2024-05-27 10:54:33,467] A new study created in memory with name: no-name-047ec127-daa0-4fce-99e1-66e71cc39de0\n",
      "[I 2024-05-27 10:54:34,450] Trial 0 finished with value: 0.2298474330710687 and parameters: {'n_estimators': 33, 'max_depth': 10, 'learning_rate': 0.1182690475562412}. Best is trial 0 with value: 0.2298474330710687.\n",
      "[I 2024-05-27 10:54:35,792] A new study created in memory with name: no-name-041f6c90-a4eb-4835-ac97-20fc8375ff95\n",
      "[I 2024-05-27 10:54:36,815] Trial 0 finished with value: 0.2319414575866189 and parameters: {'n_estimators': 40, 'max_depth': 7, 'learning_rate': 0.034195785258271695}. Best is trial 0 with value: 0.2319414575866189.\n",
      "[I 2024-05-27 10:54:38,199] A new study created in memory with name: no-name-a04757cd-424a-4074-aa51-094a6c594e28\n",
      "[I 2024-05-27 10:54:38,578] Trial 0 finished with value: 0.2410279775716324 and parameters: {'n_estimators': 24, 'max_depth': 3, 'learning_rate': 0.018209791846346954}. Best is trial 0 with value: 0.2410279775716324.\n",
      "[I 2024-05-27 10:54:39,029] A new study created in memory with name: no-name-f880ca22-0cb7-4e67-afc0-b9f637ba15a2\n",
      "[I 2024-05-27 10:54:40,135] Trial 0 finished with value: 0.2728278749813071 and parameters: {'n_estimators': 35, 'max_depth': 10, 'learning_rate': 0.2995394930185882}. Best is trial 0 with value: 0.2728278749813071.\n",
      "[I 2024-05-27 10:54:41,631] A new study created in memory with name: no-name-b6c83a58-f9aa-4ee2-b09a-58dc8a9e680a\n",
      "[I 2024-05-27 10:54:43,044] Trial 0 finished with value: 0.17329920355817988 and parameters: {'n_estimators': 40, 'max_depth': 11, 'learning_rate': 0.03806716850328968}. Best is trial 0 with value: 0.17329920355817988.\n",
      "[I 2024-05-27 10:54:44,721] A new study created in memory with name: no-name-761a31d6-a7ec-4518-ad74-77976497b60f\n",
      "[I 2024-05-27 10:54:45,873] Trial 0 finished with value: 0.24408963950274246 and parameters: {'n_estimators': 30, 'max_depth': 14, 'learning_rate': 0.1556475977216887}. Best is trial 0 with value: 0.24408963950274246.\n",
      "[I 2024-05-27 10:54:47,307] A new study created in memory with name: no-name-da7ba854-6130-4548-a9c3-fee78fa92c5a\n",
      "[I 2024-05-27 10:54:47,672] Trial 0 finished with value: 0.24215335967235418 and parameters: {'n_estimators': 28, 'max_depth': 4, 'learning_rate': 0.20281379380262088}. Best is trial 0 with value: 0.24215335967235418.\n",
      "[I 2024-05-27 10:54:48,101] A new study created in memory with name: no-name-7ab2998c-fa7d-447a-9534-d360d7868091\n",
      "[I 2024-05-27 10:54:49,358] Trial 0 finished with value: 0.21858572482959224 and parameters: {'n_estimators': 37, 'max_depth': 12, 'learning_rate': 0.01032202492617009}. Best is trial 0 with value: 0.21858572482959224.\n",
      "[I 2024-05-27 10:54:51,064] A new study created in memory with name: no-name-1a667e93-9e91-4bd7-9e03-7ea528a52c3f\n",
      "[I 2024-05-27 10:54:51,419] Trial 0 finished with value: 0.2378771842654098 and parameters: {'n_estimators': 30, 'max_depth': 4, 'learning_rate': 0.013695583952197731}. Best is trial 0 with value: 0.2378771842654098.\n",
      "[I 2024-05-27 10:54:51,869] A new study created in memory with name: no-name-5d91093b-d59e-4063-a465-53c4fffc5352\n",
      "[I 2024-05-27 10:54:52,732] Trial 0 finished with value: 0.2210132241823728 and parameters: {'n_estimators': 22, 'max_depth': 13, 'learning_rate': 0.07832476300608403}. Best is trial 0 with value: 0.2210132241823728.\n",
      "[I 2024-05-27 10:54:53,903] A new study created in memory with name: no-name-aa22a2ee-ab65-4c98-9727-19a16030c295\n",
      "[I 2024-05-27 10:54:54,983] Trial 0 finished with value: 0.15793494358336088 and parameters: {'n_estimators': 27, 'max_depth': 14, 'learning_rate': 0.026705656387325416}. Best is trial 0 with value: 0.15793494358336088.\n",
      "[I 2024-05-27 10:54:56,417] A new study created in memory with name: no-name-b5838edb-f420-40ab-8e38-642c9f392a5b\n",
      "[I 2024-05-27 10:54:57,407] Trial 0 finished with value: 0.2401985396154632 and parameters: {'n_estimators': 31, 'max_depth': 11, 'learning_rate': 0.10630058736047326}. Best is trial 0 with value: 0.2401985396154632.\n",
      "[I 2024-05-27 10:54:58,716] A new study created in memory with name: no-name-166b18ad-f5be-4bf6-bbd5-264109910d98\n",
      "[I 2024-05-27 10:54:59,335] Trial 0 finished with value: 0.25246179796781115 and parameters: {'n_estimators': 38, 'max_depth': 5, 'learning_rate': 0.14940723164698655}. Best is trial 0 with value: 0.25246179796781115.\n",
      "[I 2024-05-27 10:55:00,085] A new study created in memory with name: no-name-df8f92b3-9b31-4fec-8140-d62db875ec28\n",
      "[I 2024-05-27 10:55:00,373] Trial 0 finished with value: 0.25895037072413024 and parameters: {'n_estimators': 23, 'max_depth': 4, 'learning_rate': 0.07492838967079729}. Best is trial 0 with value: 0.25895037072413024.\n",
      "[I 2024-05-27 10:55:00,767] A new study created in memory with name: no-name-b34f4531-a206-4185-9732-21946b319f17\n",
      "[I 2024-05-27 10:55:01,592] Trial 0 finished with value: 0.19532464692365706 and parameters: {'n_estimators': 27, 'max_depth': 9, 'learning_rate': 0.01353612915282915}. Best is trial 0 with value: 0.19532464692365706.\n",
      "[I 2024-05-27 10:55:02,601] A new study created in memory with name: no-name-57559efe-5d38-44be-8814-a4b9029720ee\n",
      "[I 2024-05-27 10:55:03,670] Trial 0 finished with value: 0.21538374088063664 and parameters: {'n_estimators': 27, 'max_depth': 13, 'learning_rate': 0.10534358865849096}. Best is trial 0 with value: 0.21538374088063664.\n",
      "[I 2024-05-27 10:55:05,151] A new study created in memory with name: no-name-9ecb9dd9-395e-44af-ab37-7c880932e807\n",
      "[I 2024-05-27 10:55:06,142] Trial 0 finished with value: 0.24413205851186146 and parameters: {'n_estimators': 32, 'max_depth': 10, 'learning_rate': 0.13757957064650864}. Best is trial 0 with value: 0.24413205851186146.\n",
      "[I 2024-05-27 10:55:07,360] A new study created in memory with name: no-name-c75eb0f3-8b26-44ac-954f-edab6d120f99\n",
      "[I 2024-05-27 10:55:07,895] Trial 0 finished with value: 0.274730861195933 and parameters: {'n_estimators': 36, 'max_depth': 5, 'learning_rate': 0.09319883752005356}. Best is trial 0 with value: 0.274730861195933.\n",
      "[I 2024-05-27 10:55:08,597] A new study created in memory with name: no-name-8e17ad3f-add8-4293-885f-ace6f731e60b\n",
      "[I 2024-05-27 10:55:09,834] Trial 0 finished with value: 0.2041191462812615 and parameters: {'n_estimators': 32, 'max_depth': 12, 'learning_rate': 0.02537472820819005}. Best is trial 0 with value: 0.2041191462812615.\n",
      "[I 2024-05-27 10:55:11,339] A new study created in memory with name: no-name-96f94436-7ffe-4c5a-a69b-e5591246569f\n",
      "[I 2024-05-27 10:55:11,740] Trial 0 finished with value: 0.22537285472856183 and parameters: {'n_estimators': 26, 'max_depth': 5, 'learning_rate': 0.08102922477052465}. Best is trial 0 with value: 0.22537285472856183.\n",
      "[I 2024-05-27 10:55:12,271] A new study created in memory with name: no-name-ef3cbf45-e542-4714-8034-23d7d000be56\n",
      "[I 2024-05-27 10:55:12,915] Trial 0 finished with value: 0.22891394151065061 and parameters: {'n_estimators': 33, 'max_depth': 6, 'learning_rate': 0.028077589599241514}. Best is trial 0 with value: 0.22891394151065061.\n",
      "[I 2024-05-27 10:55:13,790] A new study created in memory with name: no-name-6feaedf2-7006-4498-b90e-300480da985b\n",
      "[I 2024-05-27 10:55:14,581] Trial 0 finished with value: 0.2647232071215051 and parameters: {'n_estimators': 39, 'max_depth': 7, 'learning_rate': 0.1700792938283406}. Best is trial 0 with value: 0.2647232071215051.\n",
      "[I 2024-05-27 10:55:15,566] A new study created in memory with name: no-name-9a4199f4-010b-4604-a643-19b78438474e\n",
      "[I 2024-05-27 10:55:16,067] Trial 0 finished with value: 0.18944992772045258 and parameters: {'n_estimators': 21, 'max_depth': 7, 'learning_rate': 0.024513453222403624}. Best is trial 0 with value: 0.18944992772045258.\n",
      "[I 2024-05-27 10:55:16,710] A new study created in memory with name: no-name-16af9e62-2af2-4304-9bff-150d2adea7dd\n",
      "[I 2024-05-27 10:55:17,899] Trial 0 finished with value: 0.1406597940796698 and parameters: {'n_estimators': 27, 'max_depth': 14, 'learning_rate': 0.02580309955312614}. Best is trial 0 with value: 0.1406597940796698.\n",
      "[I 2024-05-27 10:55:19,363] A new study created in memory with name: no-name-ffb7b2aa-9998-4562-8ea1-f0994da76db7\n",
      "[I 2024-05-27 10:55:19,818] Trial 0 finished with value: 0.19739914229342434 and parameters: {'n_estimators': 22, 'max_depth': 6, 'learning_rate': 0.01275071340872832}. Best is trial 0 with value: 0.19739914229342434.\n",
      "[I 2024-05-27 10:55:20,388] A new study created in memory with name: no-name-57ec1cb8-8bd8-4799-853e-534485a471bf\n",
      "[I 2024-05-27 10:55:20,760] Trial 0 finished with value: 0.23268830872291132 and parameters: {'n_estimators': 30, 'max_depth': 4, 'learning_rate': 0.022679240238471617}. Best is trial 0 with value: 0.23268830872291132.\n",
      "[I 2024-05-27 10:55:21,232] A new study created in memory with name: no-name-df524c7b-f160-4f80-b6ec-4694c1912454\n",
      "[I 2024-05-27 10:55:21,883] Trial 0 finished with value: 0.23027577179923808 and parameters: {'n_estimators': 27, 'max_depth': 7, 'learning_rate': 0.024609134723527243}. Best is trial 0 with value: 0.23027577179923808.\n",
      "[I 2024-05-27 10:55:22,705] A new study created in memory with name: no-name-4f56c4fe-4458-419c-8a96-854e04a94cfe\n",
      "[I 2024-05-27 10:55:23,761] Trial 0 finished with value: 0.2570569923025095 and parameters: {'n_estimators': 37, 'max_depth': 11, 'learning_rate': 0.13315842495035154}. Best is trial 0 with value: 0.2570569923025095.\n",
      "[I 2024-05-27 10:55:25,231] A new study created in memory with name: no-name-05957ad9-3932-4cbe-a262-7a617262fc51\n",
      "[I 2024-05-27 10:55:25,880] Trial 0 finished with value: 0.2504101683413975 and parameters: {'n_estimators': 34, 'max_depth': 6, 'learning_rate': 0.12760209575728987}. Best is trial 0 with value: 0.2504101683413975.\n",
      "[I 2024-05-27 10:55:26,686] A new study created in memory with name: no-name-f7f80651-eea2-42ba-9dd9-9852fb0c0120\n",
      "[I 2024-05-27 10:55:27,690] Trial 0 finished with value: 0.240627778822977 and parameters: {'n_estimators': 31, 'max_depth': 12, 'learning_rate': 0.13851538152479917}. Best is trial 0 with value: 0.240627778822977.\n",
      "[I 2024-05-27 10:55:29,078] A new study created in memory with name: no-name-2022ffaa-68cd-4cf4-ad7e-346d10f73be7\n",
      "[I 2024-05-27 10:55:30,537] Trial 0 finished with value: 0.20166976206441314 and parameters: {'n_estimators': 38, 'max_depth': 14, 'learning_rate': 0.04608191207471578}. Best is trial 0 with value: 0.20166976206441314.\n",
      "[I 2024-05-27 10:55:32,469] A new study created in memory with name: no-name-16962fd2-50f5-4670-94db-1714720f7d4a\n",
      "[I 2024-05-27 10:55:32,973] Trial 0 finished with value: 0.18970912909175394 and parameters: {'n_estimators': 32, 'max_depth': 5, 'learning_rate': 0.013214080830632616}. Best is trial 0 with value: 0.18970912909175394.\n",
      "[I 2024-05-27 10:55:33,682] A new study created in memory with name: no-name-c915d577-19a5-4fa9-9332-037b5ade98a4\n",
      "[I 2024-05-27 10:55:34,076] Trial 0 finished with value: 0.2607021407288415 and parameters: {'n_estimators': 31, 'max_depth': 4, 'learning_rate': 0.05966911897074765}. Best is trial 0 with value: 0.2607021407288415.\n",
      "[I 2024-05-27 10:55:34,564] A new study created in memory with name: no-name-bbc6dec5-71d2-453b-8ab3-fcbe6a73a136\n",
      "[I 2024-05-27 10:55:35,070] Trial 0 finished with value: 0.19595370410570342 and parameters: {'n_estimators': 20, 'max_depth': 7, 'learning_rate': 0.014873781812953246}. Best is trial 0 with value: 0.19595370410570342.\n",
      "[I 2024-05-27 10:55:35,706] A new study created in memory with name: no-name-f5bae85e-34ae-47f1-a980-720207666887\n",
      "[I 2024-05-27 10:55:36,915] Trial 0 finished with value: 0.184352346311492 and parameters: {'n_estimators': 35, 'max_depth': 11, 'learning_rate': 0.026014525618748213}. Best is trial 0 with value: 0.184352346311492.\n",
      "[I 2024-05-27 10:55:38,498] A new study created in memory with name: no-name-9734cd1d-3957-4198-af03-4ac22324bb99\n",
      "[I 2024-05-27 10:55:39,101] Trial 0 finished with value: 0.22797946103095232 and parameters: {'n_estimators': 25, 'max_depth': 7, 'learning_rate': 0.035455416693647004}. Best is trial 0 with value: 0.22797946103095232.\n",
      "[I 2024-05-27 10:55:39,880] A new study created in memory with name: no-name-66e3b3fa-a4f2-4ba9-8077-6241c73a92be\n",
      "[I 2024-05-27 10:55:41,053] Trial 0 finished with value: 0.2234483534895987 and parameters: {'n_estimators': 37, 'max_depth': 10, 'learning_rate': 0.05002402646286755}. Best is trial 0 with value: 0.2234483534895987.\n",
      "[I 2024-05-27 10:55:42,590] A new study created in memory with name: no-name-89318520-662b-4ef4-a9df-5fda8b7b49d6\n",
      "[I 2024-05-27 10:55:43,752] Trial 0 finished with value: 0.21863064427689105 and parameters: {'n_estimators': 28, 'max_depth': 14, 'learning_rate': 0.029721147686548245}. Best is trial 0 with value: 0.21863064427689105.\n",
      "[I 2024-05-27 10:55:45,248] A new study created in memory with name: no-name-b4dece71-3e0e-48e4-a2a0-66a4e5ef7842\n",
      "[I 2024-05-27 10:55:46,461] Trial 0 finished with value: 0.1932989060783965 and parameters: {'n_estimators': 30, 'max_depth': 13, 'learning_rate': 0.0820549853928578}. Best is trial 0 with value: 0.1932989060783965.\n",
      "[I 2024-05-27 10:55:47,916] A new study created in memory with name: no-name-43d8be0d-41d8-4bbc-8210-de1fa16d8192\n",
      "[W 2024-05-27 10:55:48,542] Trial 0 failed with parameters: {'n_estimators': 39, 'max_depth': 7, 'learning_rate': 0.06820046831907826} because of the following error: KeyboardInterrupt().\n",
      "Traceback (most recent call last):\n",
      "  File \"/Users/andreasnilsson/Library/Python/3.9/lib/python/site-packages/optuna/study/_optimize.py\", line 196, in _run_trial\n",
      "    value_or_values = func(trial)\n",
      "  File \"/Users/andreasnilsson/Library/CloudStorage/OneDrive-Nstart/Skrivbordet/Repository Homes/PSD2-Data-Engineering-Modeling-DATA-258-1/2. Python/Classes/HYPERTUNNER.py\", line 81, in <lambda>\n",
      "    study.optimize(lambda trial: self.objective(trial, model_name), n_trials=self.n_trials, callbacks=[self.early_stopping_callback])\n",
      "  File \"/Users/andreasnilsson/Library/CloudStorage/OneDrive-Nstart/Skrivbordet/Repository Homes/PSD2-Data-Engineering-Modeling-DATA-258-1/2. Python/Classes/HYPERTUNNER.py\", line 76, in objective\n",
      "    scores = cross_val_score(pipeline, self.X_train, self.y_train, cv=skf, scoring=gini_scorer)\n",
      "  File \"/Users/andreasnilsson/Library/Python/3.9/lib/python/site-packages/sklearn/utils/_param_validation.py\", line 213, in wrapper\n",
      "    return func(*args, **kwargs)\n",
      "  File \"/Users/andreasnilsson/Library/Python/3.9/lib/python/site-packages/sklearn/model_selection/_validation.py\", line 719, in cross_val_score\n",
      "    cv_results = cross_validate(\n",
      "  File \"/Users/andreasnilsson/Library/Python/3.9/lib/python/site-packages/sklearn/utils/_param_validation.py\", line 213, in wrapper\n",
      "    return func(*args, **kwargs)\n",
      "  File \"/Users/andreasnilsson/Library/Python/3.9/lib/python/site-packages/sklearn/model_selection/_validation.py\", line 430, in cross_validate\n",
      "    results = parallel(\n",
      "  File \"/Users/andreasnilsson/Library/Python/3.9/lib/python/site-packages/sklearn/utils/parallel.py\", line 67, in __call__\n",
      "    return super().__call__(iterable_with_config)\n",
      "  File \"/Users/andreasnilsson/Library/Python/3.9/lib/python/site-packages/joblib/parallel.py\", line 1863, in __call__\n",
      "    return output if self.return_generator else list(output)\n",
      "  File \"/Users/andreasnilsson/Library/Python/3.9/lib/python/site-packages/joblib/parallel.py\", line 1792, in _get_sequential_output\n",
      "    res = func(*args, **kwargs)\n",
      "  File \"/Users/andreasnilsson/Library/Python/3.9/lib/python/site-packages/sklearn/utils/parallel.py\", line 129, in __call__\n",
      "    return self.function(*args, **kwargs)\n",
      "  File \"/Users/andreasnilsson/Library/Python/3.9/lib/python/site-packages/sklearn/model_selection/_validation.py\", line 895, in _fit_and_score\n",
      "    estimator.fit(X_train, y_train, **fit_params)\n",
      "  File \"/Users/andreasnilsson/Library/Python/3.9/lib/python/site-packages/sklearn/base.py\", line 1474, in wrapper\n",
      "    return fit_method(estimator, *args, **kwargs)\n",
      "  File \"/Users/andreasnilsson/Library/Python/3.9/lib/python/site-packages/imblearn/pipeline.py\", line 326, in fit\n",
      "    self._final_estimator.fit(Xt, yt, **last_step_params[\"fit\"])\n",
      "  File \"/Users/andreasnilsson/Library/Python/3.9/lib/python/site-packages/xgboost/core.py\", line 730, in inner_f\n",
      "    return func(**kwargs)\n",
      "  File \"/Users/andreasnilsson/Library/Python/3.9/lib/python/site-packages/xgboost/sklearn.py\", line 1519, in fit\n",
      "    self._Booster = train(\n",
      "  File \"/Users/andreasnilsson/Library/Python/3.9/lib/python/site-packages/xgboost/core.py\", line 730, in inner_f\n",
      "    return func(**kwargs)\n",
      "  File \"/Users/andreasnilsson/Library/Python/3.9/lib/python/site-packages/xgboost/training.py\", line 181, in train\n",
      "    bst.update(dtrain, i, obj)\n",
      "  File \"/Users/andreasnilsson/Library/Python/3.9/lib/python/site-packages/xgboost/core.py\", line 2051, in update\n",
      "    _LIB.XGBoosterUpdateOneIter(\n",
      "KeyboardInterrupt\n",
      "[W 2024-05-27 10:55:48,542] Trial 0 failed with value None.\n"
     ]
    },
    {
     "ename": "KeyboardInterrupt",
     "evalue": "",
     "output_type": "error",
     "traceback": [
      "\u001b[0;31m---------------------------------------------------------------------------\u001b[0m",
      "\u001b[0;31mKeyboardInterrupt\u001b[0m                         Traceback (most recent call last)",
      "Cell \u001b[0;32mIn[14], line 19\u001b[0m\n\u001b[1;32m     17\u001b[0m \u001b[38;5;66;03m#Testing different combinations of features\u001b[39;00m\n\u001b[1;32m     18\u001b[0m \u001b[38;5;28;01mfor\u001b[39;00m model \u001b[38;5;129;01min\u001b[39;00m models:\n\u001b[0;32m---> 19\u001b[0m     best_features, best_model \u001b[38;5;241m=\u001b[39m \u001b[43moptimizer\u001b[49m\u001b[38;5;241;43m.\u001b[39;49m\u001b[43mevaluate_feature_combinations\u001b[49m\u001b[43m(\u001b[49m\u001b[43mmodel\u001b[49m\u001b[43m)\u001b[49m\n\u001b[1;32m     20\u001b[0m     \u001b[38;5;28mprint\u001b[39m(\u001b[38;5;124mf\u001b[39m\u001b[38;5;124m\"\u001b[39m\u001b[38;5;124mBest features for \u001b[39m\u001b[38;5;132;01m{\u001b[39;00mmodel\u001b[38;5;132;01m}\u001b[39;00m\u001b[38;5;124m: \u001b[39m\u001b[38;5;132;01m{\u001b[39;00mbest_features\u001b[38;5;132;01m}\u001b[39;00m\u001b[38;5;124m\"\u001b[39m)\n\u001b[1;32m     21\u001b[0m     \u001b[38;5;28mprint\u001b[39m(\u001b[38;5;124mf\u001b[39m\u001b[38;5;124m\"\u001b[39m\u001b[38;5;124mTrained model for \u001b[39m\u001b[38;5;132;01m{\u001b[39;00mmodel\u001b[38;5;132;01m}\u001b[39;00m\u001b[38;5;124m: \u001b[39m\u001b[38;5;132;01m{\u001b[39;00mbest_model\u001b[38;5;132;01m}\u001b[39;00m\u001b[38;5;124m\"\u001b[39m)\n",
      "File \u001b[0;32m~/Library/CloudStorage/OneDrive-Nstart/Skrivbordet/Repository Homes/PSD2-Data-Engineering-Modeling-DATA-258-1/2. Python/Classes/HYPERTUNNER.py:134\u001b[0m, in \u001b[0;36mModelOptimizer.evaluate_feature_combinations\u001b[0;34m(self, model_name)\u001b[0m\n\u001b[1;32m    132\u001b[0m selected_features \u001b[38;5;241m=\u001b[39m [f \u001b[38;5;28;01mfor\u001b[39;00m f \u001b[38;5;129;01min\u001b[39;00m best_features \u001b[38;5;28;01mif\u001b[39;00m f \u001b[38;5;241m!=\u001b[39m feature]\n\u001b[1;32m    133\u001b[0m X_train_reduced \u001b[38;5;241m=\u001b[39m \u001b[38;5;28mself\u001b[39m\u001b[38;5;241m.\u001b[39mX_train[selected_features]\n\u001b[0;32m--> 134\u001b[0m score, model \u001b[38;5;241m=\u001b[39m \u001b[38;5;28;43mself\u001b[39;49m\u001b[38;5;241;43m.\u001b[39;49m\u001b[43mevaluate_model\u001b[49m\u001b[43m(\u001b[49m\u001b[43mmodel_name\u001b[49m\u001b[43m,\u001b[49m\u001b[43m \u001b[49m\u001b[43mX_train_reduced\u001b[49m\u001b[43m)\u001b[49m\n\u001b[1;32m    136\u001b[0m \u001b[38;5;28;01mif\u001b[39;00m score \u001b[38;5;241m>\u001b[39m best_score:\n\u001b[1;32m    137\u001b[0m     best_score \u001b[38;5;241m=\u001b[39m score\n",
      "File \u001b[0;32m~/Library/CloudStorage/OneDrive-Nstart/Skrivbordet/Repository Homes/PSD2-Data-Engineering-Modeling-DATA-258-1/2. Python/Classes/HYPERTUNNER.py:145\u001b[0m, in \u001b[0;36mModelOptimizer.evaluate_model\u001b[0;34m(self, model_name, X_train)\u001b[0m\n\u001b[1;32m    144\u001b[0m \u001b[38;5;28;01mdef\u001b[39;00m \u001b[38;5;21mevaluate_model\u001b[39m(\u001b[38;5;28mself\u001b[39m, model_name, X_train):\n\u001b[0;32m--> 145\u001b[0m     _, best_params, best_model \u001b[38;5;241m=\u001b[39m \u001b[38;5;28;43mself\u001b[39;49m\u001b[38;5;241;43m.\u001b[39;49m\u001b[43moptimize_and_train_model\u001b[49m\u001b[43m(\u001b[49m\u001b[43mmodel_name\u001b[49m\u001b[43m,\u001b[49m\u001b[43m \u001b[49m\u001b[43mX_train\u001b[49m\u001b[43m)\u001b[49m\n\u001b[1;32m    146\u001b[0m     score \u001b[38;5;241m=\u001b[39m cross_val_score(best_model, X_train, \u001b[38;5;28mself\u001b[39m\u001b[38;5;241m.\u001b[39my_train, cv\u001b[38;5;241m=\u001b[39mStratifiedKFold(n_splits\u001b[38;5;241m=\u001b[39m\u001b[38;5;241m3\u001b[39m), scoring\u001b[38;5;241m=\u001b[39mgini_scorer)\u001b[38;5;241m.\u001b[39mmean()\n\u001b[1;32m    147\u001b[0m     \u001b[38;5;28;01mreturn\u001b[39;00m score, best_model\n",
      "File \u001b[0;32m~/Library/CloudStorage/OneDrive-Nstart/Skrivbordet/Repository Homes/PSD2-Data-Engineering-Modeling-DATA-258-1/2. Python/Classes/HYPERTUNNER.py:116\u001b[0m, in \u001b[0;36mModelOptimizer.optimize_and_train_model\u001b[0;34m(self, model_name, X_train)\u001b[0m\n\u001b[1;32m    114\u001b[0m \u001b[38;5;28;01mdef\u001b[39;00m \u001b[38;5;21moptimize_and_train_model\u001b[39m(\u001b[38;5;28mself\u001b[39m, model_name, X_train):\n\u001b[1;32m    115\u001b[0m     \u001b[38;5;28;01mtry\u001b[39;00m:\n\u001b[0;32m--> 116\u001b[0m         best_params \u001b[38;5;241m=\u001b[39m \u001b[38;5;28;43mself\u001b[39;49m\u001b[38;5;241;43m.\u001b[39;49m\u001b[43moptimize_model\u001b[49m\u001b[43m(\u001b[49m\u001b[43mmodel_name\u001b[49m\u001b[43m)\u001b[49m\n\u001b[1;32m    117\u001b[0m         best_model \u001b[38;5;241m=\u001b[39m \u001b[38;5;28mself\u001b[39m\u001b[38;5;241m.\u001b[39mtrain_best_model(model_name, best_params, X_train)\n\u001b[1;32m    118\u001b[0m         \u001b[38;5;28;01mreturn\u001b[39;00m model_name, best_params, best_model\n",
      "File \u001b[0;32m~/Library/CloudStorage/OneDrive-Nstart/Skrivbordet/Repository Homes/PSD2-Data-Engineering-Modeling-DATA-258-1/2. Python/Classes/HYPERTUNNER.py:81\u001b[0m, in \u001b[0;36mModelOptimizer.optimize_model\u001b[0;34m(self, model_name)\u001b[0m\n\u001b[1;32m     79\u001b[0m \u001b[38;5;28;01mdef\u001b[39;00m \u001b[38;5;21moptimize_model\u001b[39m(\u001b[38;5;28mself\u001b[39m, model_name):\n\u001b[1;32m     80\u001b[0m     study \u001b[38;5;241m=\u001b[39m optuna\u001b[38;5;241m.\u001b[39mcreate_study(direction\u001b[38;5;241m=\u001b[39m\u001b[38;5;124m'\u001b[39m\u001b[38;5;124mmaximize\u001b[39m\u001b[38;5;124m'\u001b[39m)\n\u001b[0;32m---> 81\u001b[0m     \u001b[43mstudy\u001b[49m\u001b[38;5;241;43m.\u001b[39;49m\u001b[43moptimize\u001b[49m\u001b[43m(\u001b[49m\u001b[38;5;28;43;01mlambda\u001b[39;49;00m\u001b[43m \u001b[49m\u001b[43mtrial\u001b[49m\u001b[43m:\u001b[49m\u001b[43m \u001b[49m\u001b[38;5;28;43mself\u001b[39;49m\u001b[38;5;241;43m.\u001b[39;49m\u001b[43mobjective\u001b[49m\u001b[43m(\u001b[49m\u001b[43mtrial\u001b[49m\u001b[43m,\u001b[49m\u001b[43m \u001b[49m\u001b[43mmodel_name\u001b[49m\u001b[43m)\u001b[49m\u001b[43m,\u001b[49m\u001b[43m \u001b[49m\u001b[43mn_trials\u001b[49m\u001b[38;5;241;43m=\u001b[39;49m\u001b[38;5;28;43mself\u001b[39;49m\u001b[38;5;241;43m.\u001b[39;49m\u001b[43mn_trials\u001b[49m\u001b[43m,\u001b[49m\u001b[43m \u001b[49m\u001b[43mcallbacks\u001b[49m\u001b[38;5;241;43m=\u001b[39;49m\u001b[43m[\u001b[49m\u001b[38;5;28;43mself\u001b[39;49m\u001b[38;5;241;43m.\u001b[39;49m\u001b[43mearly_stopping_callback\u001b[49m\u001b[43m]\u001b[49m\u001b[43m)\u001b[49m\n\u001b[1;32m     82\u001b[0m     \u001b[38;5;28;01mreturn\u001b[39;00m study\u001b[38;5;241m.\u001b[39mbest_params\n",
      "File \u001b[0;32m~/Library/Python/3.9/lib/python/site-packages/optuna/study/study.py:451\u001b[0m, in \u001b[0;36mStudy.optimize\u001b[0;34m(self, func, n_trials, timeout, n_jobs, catch, callbacks, gc_after_trial, show_progress_bar)\u001b[0m\n\u001b[1;32m    348\u001b[0m \u001b[38;5;28;01mdef\u001b[39;00m \u001b[38;5;21moptimize\u001b[39m(\n\u001b[1;32m    349\u001b[0m     \u001b[38;5;28mself\u001b[39m,\n\u001b[1;32m    350\u001b[0m     func: ObjectiveFuncType,\n\u001b[0;32m   (...)\u001b[0m\n\u001b[1;32m    357\u001b[0m     show_progress_bar: \u001b[38;5;28mbool\u001b[39m \u001b[38;5;241m=\u001b[39m \u001b[38;5;28;01mFalse\u001b[39;00m,\n\u001b[1;32m    358\u001b[0m ) \u001b[38;5;241m-\u001b[39m\u001b[38;5;241m>\u001b[39m \u001b[38;5;28;01mNone\u001b[39;00m:\n\u001b[1;32m    359\u001b[0m \u001b[38;5;250m    \u001b[39m\u001b[38;5;124;03m\"\"\"Optimize an objective function.\u001b[39;00m\n\u001b[1;32m    360\u001b[0m \n\u001b[1;32m    361\u001b[0m \u001b[38;5;124;03m    Optimization is done by choosing a suitable set of hyperparameter values from a given\u001b[39;00m\n\u001b[0;32m   (...)\u001b[0m\n\u001b[1;32m    449\u001b[0m \u001b[38;5;124;03m            If nested invocation of this method occurs.\u001b[39;00m\n\u001b[1;32m    450\u001b[0m \u001b[38;5;124;03m    \"\"\"\u001b[39;00m\n\u001b[0;32m--> 451\u001b[0m     \u001b[43m_optimize\u001b[49m\u001b[43m(\u001b[49m\n\u001b[1;32m    452\u001b[0m \u001b[43m        \u001b[49m\u001b[43mstudy\u001b[49m\u001b[38;5;241;43m=\u001b[39;49m\u001b[38;5;28;43mself\u001b[39;49m\u001b[43m,\u001b[49m\n\u001b[1;32m    453\u001b[0m \u001b[43m        \u001b[49m\u001b[43mfunc\u001b[49m\u001b[38;5;241;43m=\u001b[39;49m\u001b[43mfunc\u001b[49m\u001b[43m,\u001b[49m\n\u001b[1;32m    454\u001b[0m \u001b[43m        \u001b[49m\u001b[43mn_trials\u001b[49m\u001b[38;5;241;43m=\u001b[39;49m\u001b[43mn_trials\u001b[49m\u001b[43m,\u001b[49m\n\u001b[1;32m    455\u001b[0m \u001b[43m        \u001b[49m\u001b[43mtimeout\u001b[49m\u001b[38;5;241;43m=\u001b[39;49m\u001b[43mtimeout\u001b[49m\u001b[43m,\u001b[49m\n\u001b[1;32m    456\u001b[0m \u001b[43m        \u001b[49m\u001b[43mn_jobs\u001b[49m\u001b[38;5;241;43m=\u001b[39;49m\u001b[43mn_jobs\u001b[49m\u001b[43m,\u001b[49m\n\u001b[1;32m    457\u001b[0m \u001b[43m        \u001b[49m\u001b[43mcatch\u001b[49m\u001b[38;5;241;43m=\u001b[39;49m\u001b[38;5;28;43mtuple\u001b[39;49m\u001b[43m(\u001b[49m\u001b[43mcatch\u001b[49m\u001b[43m)\u001b[49m\u001b[43m \u001b[49m\u001b[38;5;28;43;01mif\u001b[39;49;00m\u001b[43m \u001b[49m\u001b[38;5;28;43misinstance\u001b[39;49m\u001b[43m(\u001b[49m\u001b[43mcatch\u001b[49m\u001b[43m,\u001b[49m\u001b[43m \u001b[49m\u001b[43mIterable\u001b[49m\u001b[43m)\u001b[49m\u001b[43m \u001b[49m\u001b[38;5;28;43;01melse\u001b[39;49;00m\u001b[43m \u001b[49m\u001b[43m(\u001b[49m\u001b[43mcatch\u001b[49m\u001b[43m,\u001b[49m\u001b[43m)\u001b[49m\u001b[43m,\u001b[49m\n\u001b[1;32m    458\u001b[0m \u001b[43m        \u001b[49m\u001b[43mcallbacks\u001b[49m\u001b[38;5;241;43m=\u001b[39;49m\u001b[43mcallbacks\u001b[49m\u001b[43m,\u001b[49m\n\u001b[1;32m    459\u001b[0m \u001b[43m        \u001b[49m\u001b[43mgc_after_trial\u001b[49m\u001b[38;5;241;43m=\u001b[39;49m\u001b[43mgc_after_trial\u001b[49m\u001b[43m,\u001b[49m\n\u001b[1;32m    460\u001b[0m \u001b[43m        \u001b[49m\u001b[43mshow_progress_bar\u001b[49m\u001b[38;5;241;43m=\u001b[39;49m\u001b[43mshow_progress_bar\u001b[49m\u001b[43m,\u001b[49m\n\u001b[1;32m    461\u001b[0m \u001b[43m    \u001b[49m\u001b[43m)\u001b[49m\n",
      "File \u001b[0;32m~/Library/Python/3.9/lib/python/site-packages/optuna/study/_optimize.py:62\u001b[0m, in \u001b[0;36m_optimize\u001b[0;34m(study, func, n_trials, timeout, n_jobs, catch, callbacks, gc_after_trial, show_progress_bar)\u001b[0m\n\u001b[1;32m     60\u001b[0m \u001b[38;5;28;01mtry\u001b[39;00m:\n\u001b[1;32m     61\u001b[0m     \u001b[38;5;28;01mif\u001b[39;00m n_jobs \u001b[38;5;241m==\u001b[39m \u001b[38;5;241m1\u001b[39m:\n\u001b[0;32m---> 62\u001b[0m         \u001b[43m_optimize_sequential\u001b[49m\u001b[43m(\u001b[49m\n\u001b[1;32m     63\u001b[0m \u001b[43m            \u001b[49m\u001b[43mstudy\u001b[49m\u001b[43m,\u001b[49m\n\u001b[1;32m     64\u001b[0m \u001b[43m            \u001b[49m\u001b[43mfunc\u001b[49m\u001b[43m,\u001b[49m\n\u001b[1;32m     65\u001b[0m \u001b[43m            \u001b[49m\u001b[43mn_trials\u001b[49m\u001b[43m,\u001b[49m\n\u001b[1;32m     66\u001b[0m \u001b[43m            \u001b[49m\u001b[43mtimeout\u001b[49m\u001b[43m,\u001b[49m\n\u001b[1;32m     67\u001b[0m \u001b[43m            \u001b[49m\u001b[43mcatch\u001b[49m\u001b[43m,\u001b[49m\n\u001b[1;32m     68\u001b[0m \u001b[43m            \u001b[49m\u001b[43mcallbacks\u001b[49m\u001b[43m,\u001b[49m\n\u001b[1;32m     69\u001b[0m \u001b[43m            \u001b[49m\u001b[43mgc_after_trial\u001b[49m\u001b[43m,\u001b[49m\n\u001b[1;32m     70\u001b[0m \u001b[43m            \u001b[49m\u001b[43mreseed_sampler_rng\u001b[49m\u001b[38;5;241;43m=\u001b[39;49m\u001b[38;5;28;43;01mFalse\u001b[39;49;00m\u001b[43m,\u001b[49m\n\u001b[1;32m     71\u001b[0m \u001b[43m            \u001b[49m\u001b[43mtime_start\u001b[49m\u001b[38;5;241;43m=\u001b[39;49m\u001b[38;5;28;43;01mNone\u001b[39;49;00m\u001b[43m,\u001b[49m\n\u001b[1;32m     72\u001b[0m \u001b[43m            \u001b[49m\u001b[43mprogress_bar\u001b[49m\u001b[38;5;241;43m=\u001b[39;49m\u001b[43mprogress_bar\u001b[49m\u001b[43m,\u001b[49m\n\u001b[1;32m     73\u001b[0m \u001b[43m        \u001b[49m\u001b[43m)\u001b[49m\n\u001b[1;32m     74\u001b[0m     \u001b[38;5;28;01melse\u001b[39;00m:\n\u001b[1;32m     75\u001b[0m         \u001b[38;5;28;01mif\u001b[39;00m n_jobs \u001b[38;5;241m==\u001b[39m \u001b[38;5;241m-\u001b[39m\u001b[38;5;241m1\u001b[39m:\n",
      "File \u001b[0;32m~/Library/Python/3.9/lib/python/site-packages/optuna/study/_optimize.py:159\u001b[0m, in \u001b[0;36m_optimize_sequential\u001b[0;34m(study, func, n_trials, timeout, catch, callbacks, gc_after_trial, reseed_sampler_rng, time_start, progress_bar)\u001b[0m\n\u001b[1;32m    156\u001b[0m         \u001b[38;5;28;01mbreak\u001b[39;00m\n\u001b[1;32m    158\u001b[0m \u001b[38;5;28;01mtry\u001b[39;00m:\n\u001b[0;32m--> 159\u001b[0m     frozen_trial \u001b[38;5;241m=\u001b[39m \u001b[43m_run_trial\u001b[49m\u001b[43m(\u001b[49m\u001b[43mstudy\u001b[49m\u001b[43m,\u001b[49m\u001b[43m \u001b[49m\u001b[43mfunc\u001b[49m\u001b[43m,\u001b[49m\u001b[43m \u001b[49m\u001b[43mcatch\u001b[49m\u001b[43m)\u001b[49m\n\u001b[1;32m    160\u001b[0m \u001b[38;5;28;01mfinally\u001b[39;00m:\n\u001b[1;32m    161\u001b[0m     \u001b[38;5;66;03m# The following line mitigates memory problems that can be occurred in some\u001b[39;00m\n\u001b[1;32m    162\u001b[0m     \u001b[38;5;66;03m# environments (e.g., services that use computing containers such as GitHub Actions).\u001b[39;00m\n\u001b[1;32m    163\u001b[0m     \u001b[38;5;66;03m# Please refer to the following PR for further details:\u001b[39;00m\n\u001b[1;32m    164\u001b[0m     \u001b[38;5;66;03m# https://github.com/optuna/optuna/pull/325.\u001b[39;00m\n\u001b[1;32m    165\u001b[0m     \u001b[38;5;28;01mif\u001b[39;00m gc_after_trial:\n",
      "File \u001b[0;32m~/Library/Python/3.9/lib/python/site-packages/optuna/study/_optimize.py:247\u001b[0m, in \u001b[0;36m_run_trial\u001b[0;34m(study, func, catch)\u001b[0m\n\u001b[1;32m    240\u001b[0m         \u001b[38;5;28;01massert\u001b[39;00m \u001b[38;5;28;01mFalse\u001b[39;00m, \u001b[38;5;124m\"\u001b[39m\u001b[38;5;124mShould not reach.\u001b[39m\u001b[38;5;124m\"\u001b[39m\n\u001b[1;32m    242\u001b[0m \u001b[38;5;28;01mif\u001b[39;00m (\n\u001b[1;32m    243\u001b[0m     frozen_trial\u001b[38;5;241m.\u001b[39mstate \u001b[38;5;241m==\u001b[39m TrialState\u001b[38;5;241m.\u001b[39mFAIL\n\u001b[1;32m    244\u001b[0m     \u001b[38;5;129;01mand\u001b[39;00m func_err \u001b[38;5;129;01mis\u001b[39;00m \u001b[38;5;129;01mnot\u001b[39;00m \u001b[38;5;28;01mNone\u001b[39;00m\n\u001b[1;32m    245\u001b[0m     \u001b[38;5;129;01mand\u001b[39;00m \u001b[38;5;129;01mnot\u001b[39;00m \u001b[38;5;28misinstance\u001b[39m(func_err, catch)\n\u001b[1;32m    246\u001b[0m ):\n\u001b[0;32m--> 247\u001b[0m     \u001b[38;5;28;01mraise\u001b[39;00m func_err\n\u001b[1;32m    248\u001b[0m \u001b[38;5;28;01mreturn\u001b[39;00m frozen_trial\n",
      "File \u001b[0;32m~/Library/Python/3.9/lib/python/site-packages/optuna/study/_optimize.py:196\u001b[0m, in \u001b[0;36m_run_trial\u001b[0;34m(study, func, catch)\u001b[0m\n\u001b[1;32m    194\u001b[0m \u001b[38;5;28;01mwith\u001b[39;00m get_heartbeat_thread(trial\u001b[38;5;241m.\u001b[39m_trial_id, study\u001b[38;5;241m.\u001b[39m_storage):\n\u001b[1;32m    195\u001b[0m     \u001b[38;5;28;01mtry\u001b[39;00m:\n\u001b[0;32m--> 196\u001b[0m         value_or_values \u001b[38;5;241m=\u001b[39m \u001b[43mfunc\u001b[49m\u001b[43m(\u001b[49m\u001b[43mtrial\u001b[49m\u001b[43m)\u001b[49m\n\u001b[1;32m    197\u001b[0m     \u001b[38;5;28;01mexcept\u001b[39;00m exceptions\u001b[38;5;241m.\u001b[39mTrialPruned \u001b[38;5;28;01mas\u001b[39;00m e:\n\u001b[1;32m    198\u001b[0m         \u001b[38;5;66;03m# TODO(mamu): Handle multi-objective cases.\u001b[39;00m\n\u001b[1;32m    199\u001b[0m         state \u001b[38;5;241m=\u001b[39m TrialState\u001b[38;5;241m.\u001b[39mPRUNED\n",
      "File \u001b[0;32m~/Library/CloudStorage/OneDrive-Nstart/Skrivbordet/Repository Homes/PSD2-Data-Engineering-Modeling-DATA-258-1/2. Python/Classes/HYPERTUNNER.py:81\u001b[0m, in \u001b[0;36mModelOptimizer.optimize_model.<locals>.<lambda>\u001b[0;34m(trial)\u001b[0m\n\u001b[1;32m     79\u001b[0m \u001b[38;5;28;01mdef\u001b[39;00m \u001b[38;5;21moptimize_model\u001b[39m(\u001b[38;5;28mself\u001b[39m, model_name):\n\u001b[1;32m     80\u001b[0m     study \u001b[38;5;241m=\u001b[39m optuna\u001b[38;5;241m.\u001b[39mcreate_study(direction\u001b[38;5;241m=\u001b[39m\u001b[38;5;124m'\u001b[39m\u001b[38;5;124mmaximize\u001b[39m\u001b[38;5;124m'\u001b[39m)\n\u001b[0;32m---> 81\u001b[0m     study\u001b[38;5;241m.\u001b[39moptimize(\u001b[38;5;28;01mlambda\u001b[39;00m trial: \u001b[38;5;28;43mself\u001b[39;49m\u001b[38;5;241;43m.\u001b[39;49m\u001b[43mobjective\u001b[49m\u001b[43m(\u001b[49m\u001b[43mtrial\u001b[49m\u001b[43m,\u001b[49m\u001b[43m \u001b[49m\u001b[43mmodel_name\u001b[49m\u001b[43m)\u001b[49m, n_trials\u001b[38;5;241m=\u001b[39m\u001b[38;5;28mself\u001b[39m\u001b[38;5;241m.\u001b[39mn_trials, callbacks\u001b[38;5;241m=\u001b[39m[\u001b[38;5;28mself\u001b[39m\u001b[38;5;241m.\u001b[39mearly_stopping_callback])\n\u001b[1;32m     82\u001b[0m     \u001b[38;5;28;01mreturn\u001b[39;00m study\u001b[38;5;241m.\u001b[39mbest_params\n",
      "File \u001b[0;32m~/Library/CloudStorage/OneDrive-Nstart/Skrivbordet/Repository Homes/PSD2-Data-Engineering-Modeling-DATA-258-1/2. Python/Classes/HYPERTUNNER.py:76\u001b[0m, in \u001b[0;36mModelOptimizer.objective\u001b[0;34m(self, trial, model_name)\u001b[0m\n\u001b[1;32m     74\u001b[0m pipeline \u001b[38;5;241m=\u001b[39m ImbPipeline(steps\u001b[38;5;241m=\u001b[39m[(\u001b[38;5;124m'\u001b[39m\u001b[38;5;124mupsample\u001b[39m\u001b[38;5;124m'\u001b[39m, SMOTE()), (\u001b[38;5;124m'\u001b[39m\u001b[38;5;124mmodel\u001b[39m\u001b[38;5;124m'\u001b[39m, model)])\n\u001b[1;32m     75\u001b[0m skf \u001b[38;5;241m=\u001b[39m StratifiedKFold(n_splits\u001b[38;5;241m=\u001b[39m\u001b[38;5;241m3\u001b[39m)\n\u001b[0;32m---> 76\u001b[0m scores \u001b[38;5;241m=\u001b[39m \u001b[43mcross_val_score\u001b[49m\u001b[43m(\u001b[49m\u001b[43mpipeline\u001b[49m\u001b[43m,\u001b[49m\u001b[43m \u001b[49m\u001b[38;5;28;43mself\u001b[39;49m\u001b[38;5;241;43m.\u001b[39;49m\u001b[43mX_train\u001b[49m\u001b[43m,\u001b[49m\u001b[43m \u001b[49m\u001b[38;5;28;43mself\u001b[39;49m\u001b[38;5;241;43m.\u001b[39;49m\u001b[43my_train\u001b[49m\u001b[43m,\u001b[49m\u001b[43m \u001b[49m\u001b[43mcv\u001b[49m\u001b[38;5;241;43m=\u001b[39;49m\u001b[43mskf\u001b[49m\u001b[43m,\u001b[49m\u001b[43m \u001b[49m\u001b[43mscoring\u001b[49m\u001b[38;5;241;43m=\u001b[39;49m\u001b[43mgini_scorer\u001b[49m\u001b[43m)\u001b[49m\n\u001b[1;32m     77\u001b[0m \u001b[38;5;28;01mreturn\u001b[39;00m scores\u001b[38;5;241m.\u001b[39mmean()\n",
      "File \u001b[0;32m~/Library/Python/3.9/lib/python/site-packages/sklearn/utils/_param_validation.py:213\u001b[0m, in \u001b[0;36mvalidate_params.<locals>.decorator.<locals>.wrapper\u001b[0;34m(*args, **kwargs)\u001b[0m\n\u001b[1;32m    207\u001b[0m \u001b[38;5;28;01mtry\u001b[39;00m:\n\u001b[1;32m    208\u001b[0m     \u001b[38;5;28;01mwith\u001b[39;00m config_context(\n\u001b[1;32m    209\u001b[0m         skip_parameter_validation\u001b[38;5;241m=\u001b[39m(\n\u001b[1;32m    210\u001b[0m             prefer_skip_nested_validation \u001b[38;5;129;01mor\u001b[39;00m global_skip_validation\n\u001b[1;32m    211\u001b[0m         )\n\u001b[1;32m    212\u001b[0m     ):\n\u001b[0;32m--> 213\u001b[0m         \u001b[38;5;28;01mreturn\u001b[39;00m \u001b[43mfunc\u001b[49m\u001b[43m(\u001b[49m\u001b[38;5;241;43m*\u001b[39;49m\u001b[43margs\u001b[49m\u001b[43m,\u001b[49m\u001b[43m \u001b[49m\u001b[38;5;241;43m*\u001b[39;49m\u001b[38;5;241;43m*\u001b[39;49m\u001b[43mkwargs\u001b[49m\u001b[43m)\u001b[49m\n\u001b[1;32m    214\u001b[0m \u001b[38;5;28;01mexcept\u001b[39;00m InvalidParameterError \u001b[38;5;28;01mas\u001b[39;00m e:\n\u001b[1;32m    215\u001b[0m     \u001b[38;5;66;03m# When the function is just a wrapper around an estimator, we allow\u001b[39;00m\n\u001b[1;32m    216\u001b[0m     \u001b[38;5;66;03m# the function to delegate validation to the estimator, but we replace\u001b[39;00m\n\u001b[1;32m    217\u001b[0m     \u001b[38;5;66;03m# the name of the estimator by the name of the function in the error\u001b[39;00m\n\u001b[1;32m    218\u001b[0m     \u001b[38;5;66;03m# message to avoid confusion.\u001b[39;00m\n\u001b[1;32m    219\u001b[0m     msg \u001b[38;5;241m=\u001b[39m re\u001b[38;5;241m.\u001b[39msub(\n\u001b[1;32m    220\u001b[0m         \u001b[38;5;124mr\u001b[39m\u001b[38;5;124m\"\u001b[39m\u001b[38;5;124mparameter of \u001b[39m\u001b[38;5;124m\\\u001b[39m\u001b[38;5;124mw+ must be\u001b[39m\u001b[38;5;124m\"\u001b[39m,\n\u001b[1;32m    221\u001b[0m         \u001b[38;5;124mf\u001b[39m\u001b[38;5;124m\"\u001b[39m\u001b[38;5;124mparameter of \u001b[39m\u001b[38;5;132;01m{\u001b[39;00mfunc\u001b[38;5;241m.\u001b[39m\u001b[38;5;18m__qualname__\u001b[39m\u001b[38;5;132;01m}\u001b[39;00m\u001b[38;5;124m must be\u001b[39m\u001b[38;5;124m\"\u001b[39m,\n\u001b[1;32m    222\u001b[0m         \u001b[38;5;28mstr\u001b[39m(e),\n\u001b[1;32m    223\u001b[0m     )\n",
      "File \u001b[0;32m~/Library/Python/3.9/lib/python/site-packages/sklearn/model_selection/_validation.py:719\u001b[0m, in \u001b[0;36mcross_val_score\u001b[0;34m(estimator, X, y, groups, scoring, cv, n_jobs, verbose, fit_params, params, pre_dispatch, error_score)\u001b[0m\n\u001b[1;32m    716\u001b[0m \u001b[38;5;66;03m# To ensure multimetric format is not supported\u001b[39;00m\n\u001b[1;32m    717\u001b[0m scorer \u001b[38;5;241m=\u001b[39m check_scoring(estimator, scoring\u001b[38;5;241m=\u001b[39mscoring)\n\u001b[0;32m--> 719\u001b[0m cv_results \u001b[38;5;241m=\u001b[39m \u001b[43mcross_validate\u001b[49m\u001b[43m(\u001b[49m\n\u001b[1;32m    720\u001b[0m \u001b[43m    \u001b[49m\u001b[43mestimator\u001b[49m\u001b[38;5;241;43m=\u001b[39;49m\u001b[43mestimator\u001b[49m\u001b[43m,\u001b[49m\n\u001b[1;32m    721\u001b[0m \u001b[43m    \u001b[49m\u001b[43mX\u001b[49m\u001b[38;5;241;43m=\u001b[39;49m\u001b[43mX\u001b[49m\u001b[43m,\u001b[49m\n\u001b[1;32m    722\u001b[0m \u001b[43m    \u001b[49m\u001b[43my\u001b[49m\u001b[38;5;241;43m=\u001b[39;49m\u001b[43my\u001b[49m\u001b[43m,\u001b[49m\n\u001b[1;32m    723\u001b[0m \u001b[43m    \u001b[49m\u001b[43mgroups\u001b[49m\u001b[38;5;241;43m=\u001b[39;49m\u001b[43mgroups\u001b[49m\u001b[43m,\u001b[49m\n\u001b[1;32m    724\u001b[0m \u001b[43m    \u001b[49m\u001b[43mscoring\u001b[49m\u001b[38;5;241;43m=\u001b[39;49m\u001b[43m{\u001b[49m\u001b[38;5;124;43m\"\u001b[39;49m\u001b[38;5;124;43mscore\u001b[39;49m\u001b[38;5;124;43m\"\u001b[39;49m\u001b[43m:\u001b[49m\u001b[43m \u001b[49m\u001b[43mscorer\u001b[49m\u001b[43m}\u001b[49m\u001b[43m,\u001b[49m\n\u001b[1;32m    725\u001b[0m \u001b[43m    \u001b[49m\u001b[43mcv\u001b[49m\u001b[38;5;241;43m=\u001b[39;49m\u001b[43mcv\u001b[49m\u001b[43m,\u001b[49m\n\u001b[1;32m    726\u001b[0m \u001b[43m    \u001b[49m\u001b[43mn_jobs\u001b[49m\u001b[38;5;241;43m=\u001b[39;49m\u001b[43mn_jobs\u001b[49m\u001b[43m,\u001b[49m\n\u001b[1;32m    727\u001b[0m \u001b[43m    \u001b[49m\u001b[43mverbose\u001b[49m\u001b[38;5;241;43m=\u001b[39;49m\u001b[43mverbose\u001b[49m\u001b[43m,\u001b[49m\n\u001b[1;32m    728\u001b[0m \u001b[43m    \u001b[49m\u001b[43mfit_params\u001b[49m\u001b[38;5;241;43m=\u001b[39;49m\u001b[43mfit_params\u001b[49m\u001b[43m,\u001b[49m\n\u001b[1;32m    729\u001b[0m \u001b[43m    \u001b[49m\u001b[43mparams\u001b[49m\u001b[38;5;241;43m=\u001b[39;49m\u001b[43mparams\u001b[49m\u001b[43m,\u001b[49m\n\u001b[1;32m    730\u001b[0m \u001b[43m    \u001b[49m\u001b[43mpre_dispatch\u001b[49m\u001b[38;5;241;43m=\u001b[39;49m\u001b[43mpre_dispatch\u001b[49m\u001b[43m,\u001b[49m\n\u001b[1;32m    731\u001b[0m \u001b[43m    \u001b[49m\u001b[43merror_score\u001b[49m\u001b[38;5;241;43m=\u001b[39;49m\u001b[43merror_score\u001b[49m\u001b[43m,\u001b[49m\n\u001b[1;32m    732\u001b[0m \u001b[43m\u001b[49m\u001b[43m)\u001b[49m\n\u001b[1;32m    733\u001b[0m \u001b[38;5;28;01mreturn\u001b[39;00m cv_results[\u001b[38;5;124m\"\u001b[39m\u001b[38;5;124mtest_score\u001b[39m\u001b[38;5;124m\"\u001b[39m]\n",
      "File \u001b[0;32m~/Library/Python/3.9/lib/python/site-packages/sklearn/utils/_param_validation.py:213\u001b[0m, in \u001b[0;36mvalidate_params.<locals>.decorator.<locals>.wrapper\u001b[0;34m(*args, **kwargs)\u001b[0m\n\u001b[1;32m    207\u001b[0m \u001b[38;5;28;01mtry\u001b[39;00m:\n\u001b[1;32m    208\u001b[0m     \u001b[38;5;28;01mwith\u001b[39;00m config_context(\n\u001b[1;32m    209\u001b[0m         skip_parameter_validation\u001b[38;5;241m=\u001b[39m(\n\u001b[1;32m    210\u001b[0m             prefer_skip_nested_validation \u001b[38;5;129;01mor\u001b[39;00m global_skip_validation\n\u001b[1;32m    211\u001b[0m         )\n\u001b[1;32m    212\u001b[0m     ):\n\u001b[0;32m--> 213\u001b[0m         \u001b[38;5;28;01mreturn\u001b[39;00m \u001b[43mfunc\u001b[49m\u001b[43m(\u001b[49m\u001b[38;5;241;43m*\u001b[39;49m\u001b[43margs\u001b[49m\u001b[43m,\u001b[49m\u001b[43m \u001b[49m\u001b[38;5;241;43m*\u001b[39;49m\u001b[38;5;241;43m*\u001b[39;49m\u001b[43mkwargs\u001b[49m\u001b[43m)\u001b[49m\n\u001b[1;32m    214\u001b[0m \u001b[38;5;28;01mexcept\u001b[39;00m InvalidParameterError \u001b[38;5;28;01mas\u001b[39;00m e:\n\u001b[1;32m    215\u001b[0m     \u001b[38;5;66;03m# When the function is just a wrapper around an estimator, we allow\u001b[39;00m\n\u001b[1;32m    216\u001b[0m     \u001b[38;5;66;03m# the function to delegate validation to the estimator, but we replace\u001b[39;00m\n\u001b[1;32m    217\u001b[0m     \u001b[38;5;66;03m# the name of the estimator by the name of the function in the error\u001b[39;00m\n\u001b[1;32m    218\u001b[0m     \u001b[38;5;66;03m# message to avoid confusion.\u001b[39;00m\n\u001b[1;32m    219\u001b[0m     msg \u001b[38;5;241m=\u001b[39m re\u001b[38;5;241m.\u001b[39msub(\n\u001b[1;32m    220\u001b[0m         \u001b[38;5;124mr\u001b[39m\u001b[38;5;124m\"\u001b[39m\u001b[38;5;124mparameter of \u001b[39m\u001b[38;5;124m\\\u001b[39m\u001b[38;5;124mw+ must be\u001b[39m\u001b[38;5;124m\"\u001b[39m,\n\u001b[1;32m    221\u001b[0m         \u001b[38;5;124mf\u001b[39m\u001b[38;5;124m\"\u001b[39m\u001b[38;5;124mparameter of \u001b[39m\u001b[38;5;132;01m{\u001b[39;00mfunc\u001b[38;5;241m.\u001b[39m\u001b[38;5;18m__qualname__\u001b[39m\u001b[38;5;132;01m}\u001b[39;00m\u001b[38;5;124m must be\u001b[39m\u001b[38;5;124m\"\u001b[39m,\n\u001b[1;32m    222\u001b[0m         \u001b[38;5;28mstr\u001b[39m(e),\n\u001b[1;32m    223\u001b[0m     )\n",
      "File \u001b[0;32m~/Library/Python/3.9/lib/python/site-packages/sklearn/model_selection/_validation.py:430\u001b[0m, in \u001b[0;36mcross_validate\u001b[0;34m(estimator, X, y, groups, scoring, cv, n_jobs, verbose, fit_params, params, pre_dispatch, return_train_score, return_estimator, return_indices, error_score)\u001b[0m\n\u001b[1;32m    427\u001b[0m \u001b[38;5;66;03m# We clone the estimator to make sure that all the folds are\u001b[39;00m\n\u001b[1;32m    428\u001b[0m \u001b[38;5;66;03m# independent, and that it is pickle-able.\u001b[39;00m\n\u001b[1;32m    429\u001b[0m parallel \u001b[38;5;241m=\u001b[39m Parallel(n_jobs\u001b[38;5;241m=\u001b[39mn_jobs, verbose\u001b[38;5;241m=\u001b[39mverbose, pre_dispatch\u001b[38;5;241m=\u001b[39mpre_dispatch)\n\u001b[0;32m--> 430\u001b[0m results \u001b[38;5;241m=\u001b[39m \u001b[43mparallel\u001b[49m\u001b[43m(\u001b[49m\n\u001b[1;32m    431\u001b[0m \u001b[43m    \u001b[49m\u001b[43mdelayed\u001b[49m\u001b[43m(\u001b[49m\u001b[43m_fit_and_score\u001b[49m\u001b[43m)\u001b[49m\u001b[43m(\u001b[49m\n\u001b[1;32m    432\u001b[0m \u001b[43m        \u001b[49m\u001b[43mclone\u001b[49m\u001b[43m(\u001b[49m\u001b[43mestimator\u001b[49m\u001b[43m)\u001b[49m\u001b[43m,\u001b[49m\n\u001b[1;32m    433\u001b[0m \u001b[43m        \u001b[49m\u001b[43mX\u001b[49m\u001b[43m,\u001b[49m\n\u001b[1;32m    434\u001b[0m \u001b[43m        \u001b[49m\u001b[43my\u001b[49m\u001b[43m,\u001b[49m\n\u001b[1;32m    435\u001b[0m \u001b[43m        \u001b[49m\u001b[43mscorer\u001b[49m\u001b[38;5;241;43m=\u001b[39;49m\u001b[43mscorers\u001b[49m\u001b[43m,\u001b[49m\n\u001b[1;32m    436\u001b[0m \u001b[43m        \u001b[49m\u001b[43mtrain\u001b[49m\u001b[38;5;241;43m=\u001b[39;49m\u001b[43mtrain\u001b[49m\u001b[43m,\u001b[49m\n\u001b[1;32m    437\u001b[0m \u001b[43m        \u001b[49m\u001b[43mtest\u001b[49m\u001b[38;5;241;43m=\u001b[39;49m\u001b[43mtest\u001b[49m\u001b[43m,\u001b[49m\n\u001b[1;32m    438\u001b[0m \u001b[43m        \u001b[49m\u001b[43mverbose\u001b[49m\u001b[38;5;241;43m=\u001b[39;49m\u001b[43mverbose\u001b[49m\u001b[43m,\u001b[49m\n\u001b[1;32m    439\u001b[0m \u001b[43m        \u001b[49m\u001b[43mparameters\u001b[49m\u001b[38;5;241;43m=\u001b[39;49m\u001b[38;5;28;43;01mNone\u001b[39;49;00m\u001b[43m,\u001b[49m\n\u001b[1;32m    440\u001b[0m \u001b[43m        \u001b[49m\u001b[43mfit_params\u001b[49m\u001b[38;5;241;43m=\u001b[39;49m\u001b[43mrouted_params\u001b[49m\u001b[38;5;241;43m.\u001b[39;49m\u001b[43mestimator\u001b[49m\u001b[38;5;241;43m.\u001b[39;49m\u001b[43mfit\u001b[49m\u001b[43m,\u001b[49m\n\u001b[1;32m    441\u001b[0m \u001b[43m        \u001b[49m\u001b[43mscore_params\u001b[49m\u001b[38;5;241;43m=\u001b[39;49m\u001b[43mrouted_params\u001b[49m\u001b[38;5;241;43m.\u001b[39;49m\u001b[43mscorer\u001b[49m\u001b[38;5;241;43m.\u001b[39;49m\u001b[43mscore\u001b[49m\u001b[43m,\u001b[49m\n\u001b[1;32m    442\u001b[0m \u001b[43m        \u001b[49m\u001b[43mreturn_train_score\u001b[49m\u001b[38;5;241;43m=\u001b[39;49m\u001b[43mreturn_train_score\u001b[49m\u001b[43m,\u001b[49m\n\u001b[1;32m    443\u001b[0m \u001b[43m        \u001b[49m\u001b[43mreturn_times\u001b[49m\u001b[38;5;241;43m=\u001b[39;49m\u001b[38;5;28;43;01mTrue\u001b[39;49;00m\u001b[43m,\u001b[49m\n\u001b[1;32m    444\u001b[0m \u001b[43m        \u001b[49m\u001b[43mreturn_estimator\u001b[49m\u001b[38;5;241;43m=\u001b[39;49m\u001b[43mreturn_estimator\u001b[49m\u001b[43m,\u001b[49m\n\u001b[1;32m    445\u001b[0m \u001b[43m        \u001b[49m\u001b[43merror_score\u001b[49m\u001b[38;5;241;43m=\u001b[39;49m\u001b[43merror_score\u001b[49m\u001b[43m,\u001b[49m\n\u001b[1;32m    446\u001b[0m \u001b[43m    \u001b[49m\u001b[43m)\u001b[49m\n\u001b[1;32m    447\u001b[0m \u001b[43m    \u001b[49m\u001b[38;5;28;43;01mfor\u001b[39;49;00m\u001b[43m \u001b[49m\u001b[43mtrain\u001b[49m\u001b[43m,\u001b[49m\u001b[43m \u001b[49m\u001b[43mtest\u001b[49m\u001b[43m \u001b[49m\u001b[38;5;129;43;01min\u001b[39;49;00m\u001b[43m \u001b[49m\u001b[43mindices\u001b[49m\n\u001b[1;32m    448\u001b[0m \u001b[43m\u001b[49m\u001b[43m)\u001b[49m\n\u001b[1;32m    450\u001b[0m _warn_or_raise_about_fit_failures(results, error_score)\n\u001b[1;32m    452\u001b[0m \u001b[38;5;66;03m# For callable scoring, the return type is only know after calling. If the\u001b[39;00m\n\u001b[1;32m    453\u001b[0m \u001b[38;5;66;03m# return type is a dictionary, the error scores can now be inserted with\u001b[39;00m\n\u001b[1;32m    454\u001b[0m \u001b[38;5;66;03m# the correct key.\u001b[39;00m\n",
      "File \u001b[0;32m~/Library/Python/3.9/lib/python/site-packages/sklearn/utils/parallel.py:67\u001b[0m, in \u001b[0;36mParallel.__call__\u001b[0;34m(self, iterable)\u001b[0m\n\u001b[1;32m     62\u001b[0m config \u001b[38;5;241m=\u001b[39m get_config()\n\u001b[1;32m     63\u001b[0m iterable_with_config \u001b[38;5;241m=\u001b[39m (\n\u001b[1;32m     64\u001b[0m     (_with_config(delayed_func, config), args, kwargs)\n\u001b[1;32m     65\u001b[0m     \u001b[38;5;28;01mfor\u001b[39;00m delayed_func, args, kwargs \u001b[38;5;129;01min\u001b[39;00m iterable\n\u001b[1;32m     66\u001b[0m )\n\u001b[0;32m---> 67\u001b[0m \u001b[38;5;28;01mreturn\u001b[39;00m \u001b[38;5;28;43msuper\u001b[39;49m\u001b[43m(\u001b[49m\u001b[43m)\u001b[49m\u001b[38;5;241;43m.\u001b[39;49m\u001b[38;5;21;43m__call__\u001b[39;49m\u001b[43m(\u001b[49m\u001b[43miterable_with_config\u001b[49m\u001b[43m)\u001b[49m\n",
      "File \u001b[0;32m~/Library/Python/3.9/lib/python/site-packages/joblib/parallel.py:1863\u001b[0m, in \u001b[0;36mParallel.__call__\u001b[0;34m(self, iterable)\u001b[0m\n\u001b[1;32m   1861\u001b[0m     output \u001b[38;5;241m=\u001b[39m \u001b[38;5;28mself\u001b[39m\u001b[38;5;241m.\u001b[39m_get_sequential_output(iterable)\n\u001b[1;32m   1862\u001b[0m     \u001b[38;5;28mnext\u001b[39m(output)\n\u001b[0;32m-> 1863\u001b[0m     \u001b[38;5;28;01mreturn\u001b[39;00m output \u001b[38;5;28;01mif\u001b[39;00m \u001b[38;5;28mself\u001b[39m\u001b[38;5;241m.\u001b[39mreturn_generator \u001b[38;5;28;01melse\u001b[39;00m \u001b[38;5;28;43mlist\u001b[39;49m\u001b[43m(\u001b[49m\u001b[43moutput\u001b[49m\u001b[43m)\u001b[49m\n\u001b[1;32m   1865\u001b[0m \u001b[38;5;66;03m# Let's create an ID that uniquely identifies the current call. If the\u001b[39;00m\n\u001b[1;32m   1866\u001b[0m \u001b[38;5;66;03m# call is interrupted early and that the same instance is immediately\u001b[39;00m\n\u001b[1;32m   1867\u001b[0m \u001b[38;5;66;03m# re-used, this id will be used to prevent workers that were\u001b[39;00m\n\u001b[1;32m   1868\u001b[0m \u001b[38;5;66;03m# concurrently finalizing a task from the previous call to run the\u001b[39;00m\n\u001b[1;32m   1869\u001b[0m \u001b[38;5;66;03m# callback.\u001b[39;00m\n\u001b[1;32m   1870\u001b[0m \u001b[38;5;28;01mwith\u001b[39;00m \u001b[38;5;28mself\u001b[39m\u001b[38;5;241m.\u001b[39m_lock:\n",
      "File \u001b[0;32m~/Library/Python/3.9/lib/python/site-packages/joblib/parallel.py:1792\u001b[0m, in \u001b[0;36mParallel._get_sequential_output\u001b[0;34m(self, iterable)\u001b[0m\n\u001b[1;32m   1790\u001b[0m \u001b[38;5;28mself\u001b[39m\u001b[38;5;241m.\u001b[39mn_dispatched_batches \u001b[38;5;241m+\u001b[39m\u001b[38;5;241m=\u001b[39m \u001b[38;5;241m1\u001b[39m\n\u001b[1;32m   1791\u001b[0m \u001b[38;5;28mself\u001b[39m\u001b[38;5;241m.\u001b[39mn_dispatched_tasks \u001b[38;5;241m+\u001b[39m\u001b[38;5;241m=\u001b[39m \u001b[38;5;241m1\u001b[39m\n\u001b[0;32m-> 1792\u001b[0m res \u001b[38;5;241m=\u001b[39m \u001b[43mfunc\u001b[49m\u001b[43m(\u001b[49m\u001b[38;5;241;43m*\u001b[39;49m\u001b[43margs\u001b[49m\u001b[43m,\u001b[49m\u001b[43m \u001b[49m\u001b[38;5;241;43m*\u001b[39;49m\u001b[38;5;241;43m*\u001b[39;49m\u001b[43mkwargs\u001b[49m\u001b[43m)\u001b[49m\n\u001b[1;32m   1793\u001b[0m \u001b[38;5;28mself\u001b[39m\u001b[38;5;241m.\u001b[39mn_completed_tasks \u001b[38;5;241m+\u001b[39m\u001b[38;5;241m=\u001b[39m \u001b[38;5;241m1\u001b[39m\n\u001b[1;32m   1794\u001b[0m \u001b[38;5;28mself\u001b[39m\u001b[38;5;241m.\u001b[39mprint_progress()\n",
      "File \u001b[0;32m~/Library/Python/3.9/lib/python/site-packages/sklearn/utils/parallel.py:129\u001b[0m, in \u001b[0;36m_FuncWrapper.__call__\u001b[0;34m(self, *args, **kwargs)\u001b[0m\n\u001b[1;32m    127\u001b[0m     config \u001b[38;5;241m=\u001b[39m {}\n\u001b[1;32m    128\u001b[0m \u001b[38;5;28;01mwith\u001b[39;00m config_context(\u001b[38;5;241m*\u001b[39m\u001b[38;5;241m*\u001b[39mconfig):\n\u001b[0;32m--> 129\u001b[0m     \u001b[38;5;28;01mreturn\u001b[39;00m \u001b[38;5;28;43mself\u001b[39;49m\u001b[38;5;241;43m.\u001b[39;49m\u001b[43mfunction\u001b[49m\u001b[43m(\u001b[49m\u001b[38;5;241;43m*\u001b[39;49m\u001b[43margs\u001b[49m\u001b[43m,\u001b[49m\u001b[43m \u001b[49m\u001b[38;5;241;43m*\u001b[39;49m\u001b[38;5;241;43m*\u001b[39;49m\u001b[43mkwargs\u001b[49m\u001b[43m)\u001b[49m\n",
      "File \u001b[0;32m~/Library/Python/3.9/lib/python/site-packages/sklearn/model_selection/_validation.py:895\u001b[0m, in \u001b[0;36m_fit_and_score\u001b[0;34m(estimator, X, y, scorer, train, test, verbose, parameters, fit_params, score_params, return_train_score, return_parameters, return_n_test_samples, return_times, return_estimator, split_progress, candidate_progress, error_score)\u001b[0m\n\u001b[1;32m    893\u001b[0m         estimator\u001b[38;5;241m.\u001b[39mfit(X_train, \u001b[38;5;241m*\u001b[39m\u001b[38;5;241m*\u001b[39mfit_params)\n\u001b[1;32m    894\u001b[0m     \u001b[38;5;28;01melse\u001b[39;00m:\n\u001b[0;32m--> 895\u001b[0m         \u001b[43mestimator\u001b[49m\u001b[38;5;241;43m.\u001b[39;49m\u001b[43mfit\u001b[49m\u001b[43m(\u001b[49m\u001b[43mX_train\u001b[49m\u001b[43m,\u001b[49m\u001b[43m \u001b[49m\u001b[43my_train\u001b[49m\u001b[43m,\u001b[49m\u001b[43m \u001b[49m\u001b[38;5;241;43m*\u001b[39;49m\u001b[38;5;241;43m*\u001b[39;49m\u001b[43mfit_params\u001b[49m\u001b[43m)\u001b[49m\n\u001b[1;32m    897\u001b[0m \u001b[38;5;28;01mexcept\u001b[39;00m \u001b[38;5;167;01mException\u001b[39;00m:\n\u001b[1;32m    898\u001b[0m     \u001b[38;5;66;03m# Note fit time as time until error\u001b[39;00m\n\u001b[1;32m    899\u001b[0m     fit_time \u001b[38;5;241m=\u001b[39m time\u001b[38;5;241m.\u001b[39mtime() \u001b[38;5;241m-\u001b[39m start_time\n",
      "File \u001b[0;32m~/Library/Python/3.9/lib/python/site-packages/sklearn/base.py:1474\u001b[0m, in \u001b[0;36m_fit_context.<locals>.decorator.<locals>.wrapper\u001b[0;34m(estimator, *args, **kwargs)\u001b[0m\n\u001b[1;32m   1467\u001b[0m     estimator\u001b[38;5;241m.\u001b[39m_validate_params()\n\u001b[1;32m   1469\u001b[0m \u001b[38;5;28;01mwith\u001b[39;00m config_context(\n\u001b[1;32m   1470\u001b[0m     skip_parameter_validation\u001b[38;5;241m=\u001b[39m(\n\u001b[1;32m   1471\u001b[0m         prefer_skip_nested_validation \u001b[38;5;129;01mor\u001b[39;00m global_skip_validation\n\u001b[1;32m   1472\u001b[0m     )\n\u001b[1;32m   1473\u001b[0m ):\n\u001b[0;32m-> 1474\u001b[0m     \u001b[38;5;28;01mreturn\u001b[39;00m \u001b[43mfit_method\u001b[49m\u001b[43m(\u001b[49m\u001b[43mestimator\u001b[49m\u001b[43m,\u001b[49m\u001b[43m \u001b[49m\u001b[38;5;241;43m*\u001b[39;49m\u001b[43margs\u001b[49m\u001b[43m,\u001b[49m\u001b[43m \u001b[49m\u001b[38;5;241;43m*\u001b[39;49m\u001b[38;5;241;43m*\u001b[39;49m\u001b[43mkwargs\u001b[49m\u001b[43m)\u001b[49m\n",
      "File \u001b[0;32m~/Library/Python/3.9/lib/python/site-packages/imblearn/pipeline.py:326\u001b[0m, in \u001b[0;36mPipeline.fit\u001b[0;34m(self, X, y, **params)\u001b[0m\n\u001b[1;32m    324\u001b[0m     \u001b[38;5;28;01mif\u001b[39;00m \u001b[38;5;28mself\u001b[39m\u001b[38;5;241m.\u001b[39m_final_estimator \u001b[38;5;241m!=\u001b[39m \u001b[38;5;124m\"\u001b[39m\u001b[38;5;124mpassthrough\u001b[39m\u001b[38;5;124m\"\u001b[39m:\n\u001b[1;32m    325\u001b[0m         last_step_params \u001b[38;5;241m=\u001b[39m routed_params[\u001b[38;5;28mself\u001b[39m\u001b[38;5;241m.\u001b[39msteps[\u001b[38;5;241m-\u001b[39m\u001b[38;5;241m1\u001b[39m][\u001b[38;5;241m0\u001b[39m]]\n\u001b[0;32m--> 326\u001b[0m         \u001b[38;5;28;43mself\u001b[39;49m\u001b[38;5;241;43m.\u001b[39;49m\u001b[43m_final_estimator\u001b[49m\u001b[38;5;241;43m.\u001b[39;49m\u001b[43mfit\u001b[49m\u001b[43m(\u001b[49m\u001b[43mXt\u001b[49m\u001b[43m,\u001b[49m\u001b[43m \u001b[49m\u001b[43myt\u001b[49m\u001b[43m,\u001b[49m\u001b[43m \u001b[49m\u001b[38;5;241;43m*\u001b[39;49m\u001b[38;5;241;43m*\u001b[39;49m\u001b[43mlast_step_params\u001b[49m\u001b[43m[\u001b[49m\u001b[38;5;124;43m\"\u001b[39;49m\u001b[38;5;124;43mfit\u001b[39;49m\u001b[38;5;124;43m\"\u001b[39;49m\u001b[43m]\u001b[49m\u001b[43m)\u001b[49m\n\u001b[1;32m    327\u001b[0m \u001b[38;5;28;01mreturn\u001b[39;00m \u001b[38;5;28mself\u001b[39m\n",
      "File \u001b[0;32m~/Library/Python/3.9/lib/python/site-packages/xgboost/core.py:730\u001b[0m, in \u001b[0;36mrequire_keyword_args.<locals>.throw_if.<locals>.inner_f\u001b[0;34m(*args, **kwargs)\u001b[0m\n\u001b[1;32m    728\u001b[0m \u001b[38;5;28;01mfor\u001b[39;00m k, arg \u001b[38;5;129;01min\u001b[39;00m \u001b[38;5;28mzip\u001b[39m(sig\u001b[38;5;241m.\u001b[39mparameters, args):\n\u001b[1;32m    729\u001b[0m     kwargs[k] \u001b[38;5;241m=\u001b[39m arg\n\u001b[0;32m--> 730\u001b[0m \u001b[38;5;28;01mreturn\u001b[39;00m \u001b[43mfunc\u001b[49m\u001b[43m(\u001b[49m\u001b[38;5;241;43m*\u001b[39;49m\u001b[38;5;241;43m*\u001b[39;49m\u001b[43mkwargs\u001b[49m\u001b[43m)\u001b[49m\n",
      "File \u001b[0;32m~/Library/Python/3.9/lib/python/site-packages/xgboost/sklearn.py:1519\u001b[0m, in \u001b[0;36mXGBClassifier.fit\u001b[0;34m(self, X, y, sample_weight, base_margin, eval_set, eval_metric, early_stopping_rounds, verbose, xgb_model, sample_weight_eval_set, base_margin_eval_set, feature_weights, callbacks)\u001b[0m\n\u001b[1;32m   1491\u001b[0m (\n\u001b[1;32m   1492\u001b[0m     model,\n\u001b[1;32m   1493\u001b[0m     metric,\n\u001b[0;32m   (...)\u001b[0m\n\u001b[1;32m   1498\u001b[0m     xgb_model, eval_metric, params, early_stopping_rounds, callbacks\n\u001b[1;32m   1499\u001b[0m )\n\u001b[1;32m   1500\u001b[0m train_dmatrix, evals \u001b[38;5;241m=\u001b[39m _wrap_evaluation_matrices(\n\u001b[1;32m   1501\u001b[0m     missing\u001b[38;5;241m=\u001b[39m\u001b[38;5;28mself\u001b[39m\u001b[38;5;241m.\u001b[39mmissing,\n\u001b[1;32m   1502\u001b[0m     X\u001b[38;5;241m=\u001b[39mX,\n\u001b[0;32m   (...)\u001b[0m\n\u001b[1;32m   1516\u001b[0m     feature_types\u001b[38;5;241m=\u001b[39m\u001b[38;5;28mself\u001b[39m\u001b[38;5;241m.\u001b[39mfeature_types,\n\u001b[1;32m   1517\u001b[0m )\n\u001b[0;32m-> 1519\u001b[0m \u001b[38;5;28mself\u001b[39m\u001b[38;5;241m.\u001b[39m_Booster \u001b[38;5;241m=\u001b[39m \u001b[43mtrain\u001b[49m\u001b[43m(\u001b[49m\n\u001b[1;32m   1520\u001b[0m \u001b[43m    \u001b[49m\u001b[43mparams\u001b[49m\u001b[43m,\u001b[49m\n\u001b[1;32m   1521\u001b[0m \u001b[43m    \u001b[49m\u001b[43mtrain_dmatrix\u001b[49m\u001b[43m,\u001b[49m\n\u001b[1;32m   1522\u001b[0m \u001b[43m    \u001b[49m\u001b[38;5;28;43mself\u001b[39;49m\u001b[38;5;241;43m.\u001b[39;49m\u001b[43mget_num_boosting_rounds\u001b[49m\u001b[43m(\u001b[49m\u001b[43m)\u001b[49m\u001b[43m,\u001b[49m\n\u001b[1;32m   1523\u001b[0m \u001b[43m    \u001b[49m\u001b[43mevals\u001b[49m\u001b[38;5;241;43m=\u001b[39;49m\u001b[43mevals\u001b[49m\u001b[43m,\u001b[49m\n\u001b[1;32m   1524\u001b[0m \u001b[43m    \u001b[49m\u001b[43mearly_stopping_rounds\u001b[49m\u001b[38;5;241;43m=\u001b[39;49m\u001b[43mearly_stopping_rounds\u001b[49m\u001b[43m,\u001b[49m\n\u001b[1;32m   1525\u001b[0m \u001b[43m    \u001b[49m\u001b[43mevals_result\u001b[49m\u001b[38;5;241;43m=\u001b[39;49m\u001b[43mevals_result\u001b[49m\u001b[43m,\u001b[49m\n\u001b[1;32m   1526\u001b[0m \u001b[43m    \u001b[49m\u001b[43mobj\u001b[49m\u001b[38;5;241;43m=\u001b[39;49m\u001b[43mobj\u001b[49m\u001b[43m,\u001b[49m\n\u001b[1;32m   1527\u001b[0m \u001b[43m    \u001b[49m\u001b[43mcustom_metric\u001b[49m\u001b[38;5;241;43m=\u001b[39;49m\u001b[43mmetric\u001b[49m\u001b[43m,\u001b[49m\n\u001b[1;32m   1528\u001b[0m \u001b[43m    \u001b[49m\u001b[43mverbose_eval\u001b[49m\u001b[38;5;241;43m=\u001b[39;49m\u001b[43mverbose\u001b[49m\u001b[43m,\u001b[49m\n\u001b[1;32m   1529\u001b[0m \u001b[43m    \u001b[49m\u001b[43mxgb_model\u001b[49m\u001b[38;5;241;43m=\u001b[39;49m\u001b[43mmodel\u001b[49m\u001b[43m,\u001b[49m\n\u001b[1;32m   1530\u001b[0m \u001b[43m    \u001b[49m\u001b[43mcallbacks\u001b[49m\u001b[38;5;241;43m=\u001b[39;49m\u001b[43mcallbacks\u001b[49m\u001b[43m,\u001b[49m\n\u001b[1;32m   1531\u001b[0m \u001b[43m\u001b[49m\u001b[43m)\u001b[49m\n\u001b[1;32m   1533\u001b[0m \u001b[38;5;28;01mif\u001b[39;00m \u001b[38;5;129;01mnot\u001b[39;00m \u001b[38;5;28mcallable\u001b[39m(\u001b[38;5;28mself\u001b[39m\u001b[38;5;241m.\u001b[39mobjective):\n\u001b[1;32m   1534\u001b[0m     \u001b[38;5;28mself\u001b[39m\u001b[38;5;241m.\u001b[39mobjective \u001b[38;5;241m=\u001b[39m params[\u001b[38;5;124m\"\u001b[39m\u001b[38;5;124mobjective\u001b[39m\u001b[38;5;124m\"\u001b[39m]\n",
      "File \u001b[0;32m~/Library/Python/3.9/lib/python/site-packages/xgboost/core.py:730\u001b[0m, in \u001b[0;36mrequire_keyword_args.<locals>.throw_if.<locals>.inner_f\u001b[0;34m(*args, **kwargs)\u001b[0m\n\u001b[1;32m    728\u001b[0m \u001b[38;5;28;01mfor\u001b[39;00m k, arg \u001b[38;5;129;01min\u001b[39;00m \u001b[38;5;28mzip\u001b[39m(sig\u001b[38;5;241m.\u001b[39mparameters, args):\n\u001b[1;32m    729\u001b[0m     kwargs[k] \u001b[38;5;241m=\u001b[39m arg\n\u001b[0;32m--> 730\u001b[0m \u001b[38;5;28;01mreturn\u001b[39;00m \u001b[43mfunc\u001b[49m\u001b[43m(\u001b[49m\u001b[38;5;241;43m*\u001b[39;49m\u001b[38;5;241;43m*\u001b[39;49m\u001b[43mkwargs\u001b[49m\u001b[43m)\u001b[49m\n",
      "File \u001b[0;32m~/Library/Python/3.9/lib/python/site-packages/xgboost/training.py:181\u001b[0m, in \u001b[0;36mtrain\u001b[0;34m(params, dtrain, num_boost_round, evals, obj, feval, maximize, early_stopping_rounds, evals_result, verbose_eval, xgb_model, callbacks, custom_metric)\u001b[0m\n\u001b[1;32m    179\u001b[0m \u001b[38;5;28;01mif\u001b[39;00m cb_container\u001b[38;5;241m.\u001b[39mbefore_iteration(bst, i, dtrain, evals):\n\u001b[1;32m    180\u001b[0m     \u001b[38;5;28;01mbreak\u001b[39;00m\n\u001b[0;32m--> 181\u001b[0m \u001b[43mbst\u001b[49m\u001b[38;5;241;43m.\u001b[39;49m\u001b[43mupdate\u001b[49m\u001b[43m(\u001b[49m\u001b[43mdtrain\u001b[49m\u001b[43m,\u001b[49m\u001b[43m \u001b[49m\u001b[43mi\u001b[49m\u001b[43m,\u001b[49m\u001b[43m \u001b[49m\u001b[43mobj\u001b[49m\u001b[43m)\u001b[49m\n\u001b[1;32m    182\u001b[0m \u001b[38;5;28;01mif\u001b[39;00m cb_container\u001b[38;5;241m.\u001b[39mafter_iteration(bst, i, dtrain, evals):\n\u001b[1;32m    183\u001b[0m     \u001b[38;5;28;01mbreak\u001b[39;00m\n",
      "File \u001b[0;32m~/Library/Python/3.9/lib/python/site-packages/xgboost/core.py:2051\u001b[0m, in \u001b[0;36mBooster.update\u001b[0;34m(self, dtrain, iteration, fobj)\u001b[0m\n\u001b[1;32m   2047\u001b[0m \u001b[38;5;28mself\u001b[39m\u001b[38;5;241m.\u001b[39m_assign_dmatrix_features(dtrain)\n\u001b[1;32m   2049\u001b[0m \u001b[38;5;28;01mif\u001b[39;00m fobj \u001b[38;5;129;01mis\u001b[39;00m \u001b[38;5;28;01mNone\u001b[39;00m:\n\u001b[1;32m   2050\u001b[0m     _check_call(\n\u001b[0;32m-> 2051\u001b[0m         \u001b[43m_LIB\u001b[49m\u001b[38;5;241;43m.\u001b[39;49m\u001b[43mXGBoosterUpdateOneIter\u001b[49m\u001b[43m(\u001b[49m\n\u001b[1;32m   2052\u001b[0m \u001b[43m            \u001b[49m\u001b[38;5;28;43mself\u001b[39;49m\u001b[38;5;241;43m.\u001b[39;49m\u001b[43mhandle\u001b[49m\u001b[43m,\u001b[49m\u001b[43m \u001b[49m\u001b[43mctypes\u001b[49m\u001b[38;5;241;43m.\u001b[39;49m\u001b[43mc_int\u001b[49m\u001b[43m(\u001b[49m\u001b[43miteration\u001b[49m\u001b[43m)\u001b[49m\u001b[43m,\u001b[49m\u001b[43m \u001b[49m\u001b[43mdtrain\u001b[49m\u001b[38;5;241;43m.\u001b[39;49m\u001b[43mhandle\u001b[49m\n\u001b[1;32m   2053\u001b[0m \u001b[43m        \u001b[49m\u001b[43m)\u001b[49m\n\u001b[1;32m   2054\u001b[0m     )\n\u001b[1;32m   2055\u001b[0m \u001b[38;5;28;01melse\u001b[39;00m:\n\u001b[1;32m   2056\u001b[0m     pred \u001b[38;5;241m=\u001b[39m \u001b[38;5;28mself\u001b[39m\u001b[38;5;241m.\u001b[39mpredict(dtrain, output_margin\u001b[38;5;241m=\u001b[39m\u001b[38;5;28;01mTrue\u001b[39;00m, training\u001b[38;5;241m=\u001b[39m\u001b[38;5;28;01mTrue\u001b[39;00m)\n",
      "\u001b[0;31mKeyboardInterrupt\u001b[0m: "
     ]
    }
   ],
   "source": [
    "import pickle\n",
    "\n",
    "# Assuming `base` and `features_list_NB` are already defined\n",
    "forforsta = base[features_list_NB]\n",
    "\n",
    "# Initialize the preprocessor with the selected features\n",
    "preprocessor = DataPreprocessor(forforsta)\n",
    "\n",
    "# Split and preprocess the data\n",
    "(Xtrain, Ytrain), (Xtest, Ytest), train_upsampled = preprocessor.get_split_data_with_upsample_and_scaling(0.7, upsample=False)\n",
    "\n",
    "# Define the models to be optimized\n",
    "models = ['naive_bayes', 'xgboost', 'random_forest', 'logistic_regression']\n",
    "\n",
    "# Initialize the optimizer with the models and training data\n",
    "optimizer = ModelOptimizer(models, Xtrain, Ytrain, n_trials=1, early_stopping_rounds=10)\n",
    "\n",
    "# Run the optimization process\n",
    "best_params, best_models = optimizer.run_models()\n",
    "print(\"Best parameters:\", best_params)\n",
    "\n",
    "# Dictionary to store the best features for each model\n",
    "best_features_dict = {}\n",
    "\n",
    "# Test different combinations of features for each model\n",
    "for model in models:\n",
    "    best_features, best_model = optimizer.evaluate_feature_combinations(model)\n",
    "    best_features_dict[model] = best_features\n",
    "    print(f\"Best features for {model}: {best_features}\")\n",
    "    print(f\"Trained model for {model}: {best_model}\")\n",
    "\n",
    "# Print the best features for each model again for clarity\n",
    "for model in models:\n",
    "    print(f\"Best features for {model}: {best_features_dict[model]}\")\n",
    "    print(f\"Trained model for {model}: {best_models[model]}\")\n"
   ]
  },
  {
   "cell_type": "code",
   "execution_count": null,
   "metadata": {},
   "outputs": [],
   "source": [
    "evaluator = ModelEvaluator(Xtrain, Ytrain, Xtest, Ytest, best_models)\n",
    "evaluator.evaluate_models()\n",
    "evaluator.plot_roc_curves()"
   ]
  },
  {
   "cell_type": "code",
   "execution_count": null,
   "metadata": {},
   "outputs": [],
   "source": [
    "\n",
    "# Save the Naive Bayes model and its best features to files\n",
    "naive_bayes_model = best_models['naive_bayes']\n",
    "naive_bayes_features = best_features_dict['naive_bayes']\n",
    "\n",
    "model_filename = 'naive_bayes_model.pkl'\n",
    "with open(model_filename, 'wb') as file:\n",
    "    pickle.dump(naive_bayes_model, file)\n",
    "\n",
    "features_filename = 'naive_bayes_features.txt'\n",
    "with open(features_filename, 'w') as file:\n",
    "    file.write(','.join(naive_bayes_features))\n",
    "\n",
    "print(f\"Naive Bayes model saved to {model_filename}\")\n",
    "print(f\"Relevant features saved to {features_filename}\")\n"
   ]
  }
 ],
 "metadata": {
  "kernelspec": {
   "display_name": "newenv",
   "language": "python",
   "name": "python3"
  },
  "language_info": {
   "codemirror_mode": {
    "name": "ipython",
    "version": 3
   },
   "file_extension": ".py",
   "mimetype": "text/x-python",
   "name": "python",
   "nbconvert_exporter": "python",
   "pygments_lexer": "ipython3",
   "version": "3.9.6"
  },
  "orig_nbformat": 4
 },
 "nbformat": 4,
 "nbformat_minor": 2
}
